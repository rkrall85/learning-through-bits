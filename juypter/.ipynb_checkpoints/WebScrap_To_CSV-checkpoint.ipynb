{
 "cells": [
  {
   "cell_type": "code",
   "execution_count": 3,
   "metadata": {
    "collapsed": true
   },
   "outputs": [],
   "source": [
    "# import statements\n",
    "import requests\n",
    "import bs4\n",
    "import pandas as pd\n",
    "import pyodbc\n",
    "\n",
    "#connection to db\n",
    "def database_connection():\n",
    "    conn = pyodbc.connect(\n",
    "        r'DRIVER={SQL Server Native Client 11.0};'\n",
    "        r'SERVER=localhost;'\n",
    "        r'DATABASE=seis603_pricing_project;'\n",
    "        r'UID=python_dev;'\n",
    "        r'PWD=python_dev;'\n",
    "        )\n",
    "    cursor = conn.cursor()\n",
    "    return cursor\n",
    "\n",
    "db_connection = database_connection()"
   ]
  },
  {
   "cell_type": "code",
   "execution_count": 4,
   "metadata": {
    "collapsed": true
   },
   "outputs": [],
   "source": [
    "url = 'https://www.nrcs.usda.gov/wps/portal/nrcs/detail/national/home/?cid=nrcs143_013697'\n",
    "res = requests.get(url)\n",
    "soup = bs4.BeautifulSoup(res.text,'html.parser')\n",
    "fips = soup.find(\"div\", class_='centerColImg').find('table')"
   ]
  },
  {
   "cell_type": "code",
   "execution_count": 21,
   "metadata": {},
   "outputs": [
    {
     "name": "stdout",
     "output_type": "stream",
     "text": [
      "    FIPS   County State\n",
      "0  01001  Autauga    AL\n",
      "1  01003  Baldwin    AL\n",
      "2  01005  Barbour    AL\n",
      "3  01007     Bibb    AL\n",
      "4  01009   Blount    AL\n"
     ]
    }
   ],
   "source": [
    "#create an empty dataframe\n",
    "fips_df = pd.DataFrame(columns=[\"FIPS\",\"County\",\"State\"]) \n",
    "\n",
    "#grab all the rows in the table and put them in the dataframe\n",
    "rows = fips.find_all('tr')\n",
    "for r in rows:\n",
    "    cols=r.find_all('td')\n",
    "    cols=[x.text.strip() for x in cols]\n",
    "    if len(cols) != 0:\n",
    "        fips_df  = fips_df.append({'FIPS':cols[0],'County':cols[1],'State':cols[2]}, ignore_index=True)\n",
    "\n",
    "#output the dataframe\n",
    "print(fips_df.head(5))\n",
    "#print(fips_df)"
   ]
  },
  {
   "cell_type": "code",
   "execution_count": 24,
   "metadata": {
    "collapsed": true
   },
   "outputs": [],
   "source": [
    "#save df to csv\n",
    "fips_df.to_csv(\"fips_data.csv\",sep=\"|\")"
   ]
  },
  {
   "cell_type": "code",
   "execution_count": null,
   "metadata": {
    "collapsed": true
   },
   "outputs": [],
   "source": [
    "#output DF to MSSQL Table\n",
    "fips_df.to_sql(name='new_table',con=db_connection,if_exists='append')"
   ]
  },
  {
   "cell_type": "code",
   "execution_count": null,
   "metadata": {
    "collapsed": true
   },
   "outputs": [],
   "source": []
  },
  {
   "cell_type": "code",
   "execution_count": null,
   "metadata": {
    "collapsed": true
   },
   "outputs": [],
   "source": []
  }
 ],
 "metadata": {
  "kernelspec": {
   "display_name": "Python 3",
   "language": "python",
   "name": "python3"
  },
  "language_info": {
   "codemirror_mode": {
    "name": "ipython",
    "version": 3
   },
   "file_extension": ".py",
   "mimetype": "text/x-python",
   "name": "python",
   "nbconvert_exporter": "python",
   "pygments_lexer": "ipython3",
   "version": "3.6.1"
  }
 },
 "nbformat": 4,
 "nbformat_minor": 2
}
