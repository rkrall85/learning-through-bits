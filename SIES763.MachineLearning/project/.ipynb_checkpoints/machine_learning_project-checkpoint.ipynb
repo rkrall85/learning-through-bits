{
 "cells": [
  {
   "cell_type": "code",
   "execution_count": 2,
   "metadata": {},
   "outputs": [],
   "source": [
    "# data analysis and wrangling\n",
    "import pandas as pd\n",
    "import numpy as np\n",
    "import random as rnd\n",
    "\n",
    "# visualization\n",
    "import seaborn as sns\n",
    "import matplotlib.pyplot as plt\n",
    "%matplotlib inline\n",
    "\n",
    "# Pre processing \n",
    "from sklearn.preprocessing import LabelEncoder\n",
    "from sklearn.model_selection import train_test_split\n",
    "\n",
    "# machine learning\n",
    "from sklearn.linear_model import LogisticRegression\n",
    "from sklearn.svm import SVC, LinearSVC\n",
    "from sklearn.ensemble import RandomForestClassifier\n",
    "from sklearn.neighbors import KNeighborsClassifier\n",
    "from sklearn.naive_bayes import GaussianNB\n",
    "from sklearn.linear_model import Perceptron\n",
    "from sklearn.linear_model import SGDClassifier\n",
    "from sklearn.tree import DecisionTreeClassifier"
   ]
  },
  {
   "cell_type": "code",
   "execution_count": 3,
   "metadata": {},
   "outputs": [
    {
     "name": "stdout",
     "output_type": "stream",
     "text": [
      "Size of GPS Retention (933, 33)\n"
     ]
    }
   ],
   "source": [
    "import os\n",
    "input_file = pd.ExcelFile(\".\\data\\GPSRetention_v2.xlsx\")\n",
    "#GPSRetention = input_file.parse(\"Page1\")\n",
    "GPSRetention = input_file.parse(\"page\")\n",
    "print('Size of GPS Retention',GPSRetention.shape)\n",
    "#output to csv file so we can read it later easier\n",
    "GPSRetention.to_csv(\".\\data\\GPSRetention_v2.csv\", header=True)"
   ]
  },
  {
   "cell_type": "code",
   "execution_count": 4,
   "metadata": {},
   "outputs": [
    {
     "name": "stdout",
     "output_type": "stream",
     "text": [
      "['Unnamed: 0' 'Fake_ID' 'STATUS_DESC' 'PROGRAM_DESC' 'MAJOR_DESC'\n",
      " 'SECOND_MAJOR_DESC' 'OUTCOME_NUMBER' 'OUTCOME_AWARDED_IND'\n",
      " 'CREDITS_ATTEMPTED' 'CREDITS_EARNED' 'GPA' 'CITIZENSHIP_DESC'\n",
      " 'RELIGION_DESC' 'VETERAN_CATEGORY_DESC' 'GENDER' 'PRIMARY_ETHNICITY_DESC'\n",
      " 'MARITAL_STATUS_DESC' 'CITY' 'COUNTY_DESC' 'STATE_PROVINCE' 'POSTAL_CODE'\n",
      " 'NATION' 'PASSPORT_ISSUE_NATION_DESC' 'IMMIGRATION_STATUS'\n",
      " 'NATION_OF_BIRTH_DESC' 'NATION_OF_CITIZENSHIP_DESC' 'VISA_TYPE_DESC'\n",
      " 'GPS_Start_Term_' 'GPS_Last_Term_' 'Took_Non_GPS_Course_Within_Year?'\n",
      " 'retained' 'HasCIS' 'HasMathStats' 'CLEANED_PREVIOUS_GPA']\n"
     ]
    }
   ],
   "source": [
    "gps_df = pd.read_csv('./data/GPSRetention_v2.csv')\n",
    "#gps_df = pd.read_csv('./data/GPSRetention.csv', dtype={'MAJOR_DESC':str})\n",
    "\n",
    "#Re-name possible y values\n",
    "gps_df.rename(columns = {'Retained?':'retained'}, inplace = True)\n",
    "\n",
    "#output columns\n",
    "print(gps_df.columns.values)\n"
   ]
  },
  {
   "cell_type": "code",
   "execution_count": 5,
   "metadata": {},
   "outputs": [
    {
     "name": "stdout",
     "output_type": "stream",
     "text": [
      "   Unnamed: 0  Fake_ID     STATUS_DESC                PROGRAM_DESC  \\\n",
      "0           0   159003         Awarded  MSS - Software Engineering   \n",
      "1           1   557128         Awarded   MS - Software Engineering   \n",
      "2           2   509389         Awarded   MS - Software Engineering   \n",
      "3           3   404397  Sought/Tracked   MS - Software Engineering   \n",
      "4           4   540994         Awarded   MS - Software Engineering   \n",
      "\n",
      "               MAJOR_DESC SECOND_MAJOR_DESC  OUTCOME_NUMBER  \\\n",
      "0        Software Systems               NaN               2   \n",
      "1  Information Technology               NaN               1   \n",
      "2            Data Science               NaN               1   \n",
      "3            Data Science               NaN               1   \n",
      "4            Data Science               NaN               1   \n",
      "\n",
      "  OUTCOME_AWARDED_IND  CREDITS_ATTEMPTED  CREDITS_EARNED         ...           \\\n",
      "0                   A               27.0            27.0         ...            \n",
      "1                   A               36.0            36.0         ...            \n",
      "2                   A               39.0            39.0         ...            \n",
      "3                 NaN               39.0            36.0         ...            \n",
      "4                   A               36.0            36.0         ...            \n",
      "\n",
      "   NATION_OF_BIRTH_DESC NATION_OF_CITIZENSHIP_DESC            VISA_TYPE_DESC  \\\n",
      "0                   NaN                        NaN                       NaN   \n",
      "1                   NaN   United States of America                       NaN   \n",
      "2                   NaN                       Togo  Legal Permanent Resident   \n",
      "3                   NaN                    Liberia                US Citizen   \n",
      "4                 China                      China                       NaN   \n",
      "\n",
      "  GPS_Start_Term_ GPS_Last_Term_ Took_Non_GPS_Course_Within_Year? Retained?  \\\n",
      "0          201220         201620                                0         1   \n",
      "1          201520         201720                                0         1   \n",
      "2          201340         201620                                0         1   \n",
      "3          201140         201720                                0         0   \n",
      "4          201540         201730                                0         1   \n",
      "\n",
      "  HasCIS HasMathStats CLEANED_PREVIOUS_GPA  \n",
      "0      1            0             3.043000  \n",
      "1      0            0             3.160667  \n",
      "2      0            0             3.913333  \n",
      "3      0            0             2.530000  \n",
      "4      0            0             3.113852  \n",
      "\n",
      "[5 rows x 34 columns]\n",
      "     Unnamed: 0  Fake_ID     STATUS_DESC               PROGRAM_DESC  \\\n",
      "928         928   561848         Awarded  MS - Software Engineering   \n",
      "929         929   522070         Awarded  MS - Software Engineering   \n",
      "930         930   503201         Awarded  MS - Software Engineering   \n",
      "931         931   406018         Awarded  MS - Software Engineering   \n",
      "932         932   400940  Sought/Tracked  MS - Software Engineering   \n",
      "\n",
      "                 MAJOR_DESC SECOND_MAJOR_DESC  OUTCOME_NUMBER  \\\n",
      "928            Data Science               NaN               1   \n",
      "929    Software Engineering               NaN               1   \n",
      "930  Information Technology               NaN               1   \n",
      "931    Software Engineering               NaN               2   \n",
      "932            Data Science               NaN               2   \n",
      "\n",
      "    OUTCOME_AWARDED_IND  CREDITS_ATTEMPTED  CREDITS_EARNED  \\\n",
      "928                   A               36.0            36.0   \n",
      "929                   A               42.0            42.0   \n",
      "930                   A               36.0            36.0   \n",
      "931                   A               24.0            21.0   \n",
      "932                 NaN               15.0            15.0   \n",
      "\n",
      "            ...           NATION_OF_BIRTH_DESC NATION_OF_CITIZENSHIP_DESC  \\\n",
      "928         ...                          India                      India   \n",
      "929         ...                        Germany                    Germany   \n",
      "930         ...                            NaN                   Pakistan   \n",
      "931         ...                            NaN                        NaN   \n",
      "932         ...                            NaN                        NaN   \n",
      "\n",
      "        VISA_TYPE_DESC GPS_Start_Term_ GPS_Last_Term_  \\\n",
      "928                NaN          201540         201720   \n",
      "929                NaN          201420         201530   \n",
      "930  Pending immigrant          201340         201620   \n",
      "931                NaN          201120         201320   \n",
      "932                NaN          201040         201820   \n",
      "\n",
      "    Took_Non_GPS_Course_Within_Year? Retained? HasCIS HasMathStats  \\\n",
      "928                                0         1      1            0   \n",
      "929                                0         1      1            0   \n",
      "930                                0         1      1            0   \n",
      "931                                0         1      0            0   \n",
      "932                                0         1      0            0   \n",
      "\n",
      "    CLEANED_PREVIOUS_GPA  \n",
      "928             3.113852  \n",
      "929             3.113852  \n",
      "930             3.830000  \n",
      "931             2.490000  \n",
      "932             3.353500  \n",
      "\n",
      "[5 rows x 34 columns]\n"
     ]
    }
   ],
   "source": [
    "print(gps_df.head())\n",
    "print(gps_df.tail())"
   ]
  },
  {
   "cell_type": "code",
   "execution_count": 108,
   "metadata": {},
   "outputs": [],
   "source": [
    "#messing with data exploring\n",
    "\n",
    "#print(gps_df[['NATION_OF_BIRTH_DESC']].head(6))\n",
    "#gps_df['IMMIGRATION_STATUS'].unique()\n"
   ]
  },
  {
   "cell_type": "code",
   "execution_count": 10,
   "metadata": {},
   "outputs": [],
   "source": [
    "#manuallly categorical encoding\n",
    "\n",
    "# convert string values to catogical\n",
    "status_mapping = {\"Awarded\": 1, \"Sought/Tracked\": 2, \"Pending\": 3}\n",
    "#gps_df['STATUS_DESC']= gps_df['STATUS_DESC'].map(status_mapping)\n",
    "\n",
    "\n",
    "major_mapping = {\"Data Science\": 1, \"Software Management\": 2, \"Software Engineering\": 3, \"Information Technology\": 4, \"Software Systems\": 5}\n",
    "#gps_df['MAJOR_DESC']= gps_df['MAJOR_DESC'].map(major_mapping)\n",
    "\n",
    "program_mapping = {\"MS - Software Engineering\": 1, \"MSS - Software Engineering\": 2, \"MS-Dual Software/Business\": 3}\n",
    "#gps_df['PROGRAM_DESC']= gps_df['PROGRAM_DESC'].map(program_mapping)\n",
    "\n",
    "citizenship_mapping = {\"U.S. Citizen\": 1, \"Non-Immigrant Visa Holder\": 2, \"Permanent Resident\": 3, \"Asylee/Refugee\":4}\n",
    "#gps_df['CITIZENSHIP_DESC']= gps_df['CITIZENSHIP_DESC'].map(citizenship_mapping)\n",
    "\n",
    "gender_mapping = {\"F\": 1, \"M\": 2}\n",
    "#gps_df['GENDER']= gps_df['GENDER'].map(gender_mapping)\n",
    "\n",
    "#putting GPA into 4 buckets\n",
    "gps_df['GPABand'] = pd.cut(gps_df['GPA'], 4)\n",
    "#gps_df[['GPABand', 'Retained?']].groupby(['GPABand'], as_index=False).mean().sort_values(by='GPABand', ascending=True)\n",
    "\n",
    "#have a passport or not\n",
    "gps_df['HAS_PASSPORT'] = np.where(gps_df['PASSPORT_ISSUE_NATION_DESC'].isnull(), 0, 1)\n",
    "\n",
    "#born in USA or not?\n",
    "#NATION_OF_BIRTH_DESC\n",
    "\n",
    "#has VISA?\n",
    "#what does US Citizen mean?\n",
    "#print(gps_df['VISA_TYPE_DESC'].unique())\n",
    "gps_df['HAS_VISA'] = np.where(gps_df['VISA_TYPE_DESC'].isnull(), 0, 1) \n",
    "    "
   ]
  },
  {
   "cell_type": "code",
   "execution_count": 5,
   "metadata": {},
   "outputs": [],
   "source": [
    "#using sk learn to create the categorical values\n",
    "from sklearn.preprocessing import LabelEncoder\n",
    "lb_make = LabelEncoder()\n",
    "#gps_df[\"status_code\"]      = lb_make.fit_transform(gps_df[\"STATUS_DESC\"])\n",
    "gps_df[\"gender_code\"]      = lb_make.fit_transform(gps_df[\"GENDER\"])\n",
    "gps_df[\"major_code\"]       = lb_make.fit_transform(gps_df[\"MAJOR_DESC\"])\n",
    "gps_df[\"citizenship_code\"] = lb_make.fit_transform(gps_df[\"CITIZENSHIP_DESC\"])\n",
    "gps_df[\"veteran_code\"]     = lb_make.fit_transform(gps_df[\"VETERAN_CATEGORY_DESC\"].astype(str))\n",
    "gps_df[\"religion_code\"]    = lb_make.fit_transform(gps_df[\"RELIGION_DESC\"])\n",
    "gps_df[\"marital_code\"]     = lb_make.fit_transform(gps_df[\"MARITAL_STATUS_DESC\"])\n",
    "gps_df[\"primary_ethnicity_code\"]     = lb_make.fit_transform(gps_df[\"PRIMARY_ETHNICITY_DESC\"])\n",
    "gps_df[\"state_code\"]     = lb_make.fit_transform(gps_df[\"STATE_PROVINCE\"])\n",
    "gps_df[\"immigration_code\"] = lb_make.fit_transform(gps_df[\"IMMIGRATION_STATUS\"].astype(str))\n",
    "#gps_df[\"nation_code\"] = lb_make.fit_transform(gps_df[\"NATION\"].astype(str))\n",
    "\n",
    "#making flag columns\n",
    "gps_df['has_passport'] = np.where(gps_df['NATION_OF_CITIZENSHIP_DESC'].isnull(), 0, 1)\n",
    "gps_df['has_visa']     = np.where(gps_df['VISA_TYPE_DESC'].isnull(), 0, 1) \n",
    "\n",
    "#gps_df[[\"VETERAN_CATEGORY_DESC\",\"veteran_code\"]].head(11)\n",
    "\n",
    "\n",
    "#note sure what to do with these columns\n",
    "#'GPS_Start_Term_' 'GPS_Last_Term_' 'Took_Non_GPS_Course_Within_Year?'\n"
   ]
  },
  {
   "cell_type": "code",
   "execution_count": 6,
   "metadata": {},
   "outputs": [],
   "source": [
    "#Create buckets for GPA\n",
    "\n",
    "#making a gpa bucket before creating the code\n",
    "gps_df['gpa_bucket'] = pd.cut(gps_df['GPA'], 4) #having 5 gave no value\n",
    "gps_df[\"gpa_code\"]   = lb_make.fit_transform(gps_df[\"gpa_bucket\"])\n",
    "#gps_df[['gpa_bucket', 'Retained?']].groupby(['gpa_bucket'], as_index=False).mean().sort_values(by='gpa_bucket', ascending=True)\n",
    "\n",
    "#making CLEANED_PREVIOUS_GPA into buckets\n",
    "gps_df['previous_gpa_bucket'] = pd.cut(gps_df['CLEANED_PREVIOUS_GPA'], 25) #having 5 gave no value\n",
    "gps_df[\"previous_gpa_code\"]   = lb_make.fit_transform(gps_df[\"previous_gpa_bucket\"])\n",
    "\n",
    "#cleaned_gpa_df = gps_df[['previouis_gpa_bucket', 'retained']].groupby(['previouis_gpa_bucket'], as_index=False).mean().sort_values(by='previouis_gpa_bucket', ascending=True)\n",
    "#cleaned_gpa_id_df = lb_make.fit_transform(cleaned_gpa_df[\"previouis_gpa_bucket\"])\n",
    "#cleaned_gpa_id_df = pd.DataFrame(cleaned_gpa_id_df)\n",
    "#cleaned_gpa_id_df.columns = [1, 2,3,4,5,6,7,8,9,10,11,12,13,14,15,16,17,18,19,20,21,22,23,24,25] \n",
    "\n",
    "#print(pd.melt(cleaned_gpa_id_df))\n",
    "\n",
    "#look at gpa\n",
    "#g = sns.FacetGrid(cleaned_gpa_df, col='retained')\n",
    "#g.map(plt.hist, 'previouis_gpa_bucket', bins=25)\n"
   ]
  },
  {
   "cell_type": "code",
   "execution_count": 7,
   "metadata": {},
   "outputs": [
    {
     "name": "stdout",
     "output_type": "stream",
     "text": [
      "['retained' 'HasCIS' 'HasMathStats' 'gender_code' 'major_code'\n",
      " 'citizenship_code' 'veteran_code' 'religion_code' 'marital_code'\n",
      " 'primary_ethnicity_code' 'state_code' 'immigration_code' 'nation_code'\n",
      " 'has_passport' 'has_visa' 'previous_gpa_code']\n"
     ]
    }
   ],
   "source": [
    "#drop columns we dont want\n",
    "gps_df = gps_df.drop(['Fake_ID','CREDITS_EARNED','GPA','STATUS_DESC','PROGRAM_DESC','MAJOR_DESC',\n",
    "                     'SECOND_MAJOR_DESC','OUTCOME_NUMBER','OUTCOME_AWARDED_IND','CREDITS_ATTEMPTED',\n",
    "                      'CREDITS_EARNED','GPA','CITIZENSHIP_DESC','RELIGION_DESC','VETERAN_CATEGORY_DESC',\n",
    "                      'GENDER','PRIMARY_ETHNICITY_DESC','MARITAL_STATUS_DESC','CITY','COUNTY_DESC',\n",
    "                      'STATE_PROVINCE','POSTAL_CODE','NATION','PASSPORT_ISSUE_NATION_DESC','IMMIGRATION_STATUS',\n",
    "                      'NATION_OF_BIRTH_DESC','NATION_OF_CITIZENSHIP_DESC','VISA_TYPE_DESC','CLEANED_PREVIOUS_GPA',\n",
    "                      'STATUS_DESC','OUTCOME_NUMBER','OUTCOME_AWARDED_IND','NATION',\n",
    "                      #created columns\n",
    "                      'gpa_bucket','Unnamed: 0','previous_gpa_bucket','gpa_code',\n",
    "                      #no sure on these yet\n",
    "                      'GPS_Start_Term_','GPS_Last_Term_','Took_Non_GPS_Course_Within_Year?'\n",
    "                    ], axis=1)\n",
    "\n",
    "print(gps_df.columns.values)\n"
   ]
  },
  {
   "cell_type": "code",
   "execution_count": 20,
   "metadata": {},
   "outputs": [
    {
     "data": {
      "text/html": [
       "<div>\n",
       "<style>\n",
       "    .dataframe thead tr:only-child th {\n",
       "        text-align: right;\n",
       "    }\n",
       "\n",
       "    .dataframe thead th {\n",
       "        text-align: left;\n",
       "    }\n",
       "\n",
       "    .dataframe tbody tr th {\n",
       "        vertical-align: top;\n",
       "    }\n",
       "</style>\n",
       "<table border=\"1\" class=\"dataframe\">\n",
       "  <thead>\n",
       "    <tr style=\"text-align: right;\">\n",
       "      <th></th>\n",
       "      <th>retained</th>\n",
       "      <th>HasCIS</th>\n",
       "      <th>HasMathStats</th>\n",
       "      <th>gender_code</th>\n",
       "      <th>major_code</th>\n",
       "      <th>citizenship_code</th>\n",
       "      <th>veteran_code</th>\n",
       "      <th>religion_code</th>\n",
       "      <th>marital_code</th>\n",
       "      <th>primary_ethnicity_code</th>\n",
       "      <th>state_code</th>\n",
       "      <th>immigration_code</th>\n",
       "      <th>nation_code</th>\n",
       "      <th>has_passport</th>\n",
       "      <th>has_visa</th>\n",
       "      <th>previous_gpa_code</th>\n",
       "    </tr>\n",
       "  </thead>\n",
       "  <tbody>\n",
       "    <tr>\n",
       "      <th>0</th>\n",
       "      <td>1</td>\n",
       "      <td>1</td>\n",
       "      <td>0</td>\n",
       "      <td>1</td>\n",
       "      <td>4</td>\n",
       "      <td>3</td>\n",
       "      <td>2</td>\n",
       "      <td>3</td>\n",
       "      <td>2</td>\n",
       "      <td>3</td>\n",
       "      <td>12</td>\n",
       "      <td>3</td>\n",
       "      <td>5</td>\n",
       "      <td>0</td>\n",
       "      <td>0</td>\n",
       "      <td>13</td>\n",
       "    </tr>\n",
       "    <tr>\n",
       "      <th>1</th>\n",
       "      <td>1</td>\n",
       "      <td>0</td>\n",
       "      <td>0</td>\n",
       "      <td>1</td>\n",
       "      <td>1</td>\n",
       "      <td>3</td>\n",
       "      <td>2</td>\n",
       "      <td>10</td>\n",
       "      <td>4</td>\n",
       "      <td>2</td>\n",
       "      <td>12</td>\n",
       "      <td>3</td>\n",
       "      <td>5</td>\n",
       "      <td>0</td>\n",
       "      <td>0</td>\n",
       "      <td>14</td>\n",
       "    </tr>\n",
       "    <tr>\n",
       "      <th>2</th>\n",
       "      <td>1</td>\n",
       "      <td>0</td>\n",
       "      <td>0</td>\n",
       "      <td>0</td>\n",
       "      <td>0</td>\n",
       "      <td>2</td>\n",
       "      <td>2</td>\n",
       "      <td>16</td>\n",
       "      <td>4</td>\n",
       "      <td>2</td>\n",
       "      <td>12</td>\n",
       "      <td>3</td>\n",
       "      <td>5</td>\n",
       "      <td>0</td>\n",
       "      <td>1</td>\n",
       "      <td>23</td>\n",
       "    </tr>\n",
       "    <tr>\n",
       "      <th>3</th>\n",
       "      <td>0</td>\n",
       "      <td>0</td>\n",
       "      <td>0</td>\n",
       "      <td>1</td>\n",
       "      <td>0</td>\n",
       "      <td>3</td>\n",
       "      <td>2</td>\n",
       "      <td>13</td>\n",
       "      <td>4</td>\n",
       "      <td>1</td>\n",
       "      <td>12</td>\n",
       "      <td>3</td>\n",
       "      <td>5</td>\n",
       "      <td>0</td>\n",
       "      <td>1</td>\n",
       "      <td>7</td>\n",
       "    </tr>\n",
       "    <tr>\n",
       "      <th>4</th>\n",
       "      <td>1</td>\n",
       "      <td>0</td>\n",
       "      <td>0</td>\n",
       "      <td>0</td>\n",
       "      <td>0</td>\n",
       "      <td>1</td>\n",
       "      <td>2</td>\n",
       "      <td>2</td>\n",
       "      <td>2</td>\n",
       "      <td>1</td>\n",
       "      <td>27</td>\n",
       "      <td>0</td>\n",
       "      <td>5</td>\n",
       "      <td>1</td>\n",
       "      <td>0</td>\n",
       "      <td>14</td>\n",
       "    </tr>\n",
       "  </tbody>\n",
       "</table>\n",
       "</div>"
      ],
      "text/plain": [
       "   retained  HasCIS  HasMathStats  gender_code  major_code  citizenship_code  \\\n",
       "0         1       1             0            1           4                 3   \n",
       "1         1       0             0            1           1                 3   \n",
       "2         1       0             0            0           0                 2   \n",
       "3         0       0             0            1           0                 3   \n",
       "4         1       0             0            0           0                 1   \n",
       "\n",
       "   veteran_code  religion_code  marital_code  primary_ethnicity_code  \\\n",
       "0             2              3             2                       3   \n",
       "1             2             10             4                       2   \n",
       "2             2             16             4                       2   \n",
       "3             2             13             4                       1   \n",
       "4             2              2             2                       1   \n",
       "\n",
       "   state_code  immigration_code  nation_code  has_passport  has_visa  \\\n",
       "0          12                 3            5             0         0   \n",
       "1          12                 3            5             0         0   \n",
       "2          12                 3            5             0         1   \n",
       "3          12                 3            5             0         1   \n",
       "4          27                 0            5             1         0   \n",
       "\n",
       "   previous_gpa_code  \n",
       "0                 13  \n",
       "1                 14  \n",
       "2                 23  \n",
       "3                  7  \n",
       "4                 14  "
      ]
     },
     "execution_count": 20,
     "metadata": {},
     "output_type": "execute_result"
    }
   ],
   "source": [
    "#output the head of data\n",
    "gps_df.head()"
   ]
  },
  {
   "cell_type": "code",
   "execution_count": 123,
   "metadata": {},
   "outputs": [
    {
     "data": {
      "text/html": [
       "<div>\n",
       "<style>\n",
       "    .dataframe thead tr:only-child th {\n",
       "        text-align: right;\n",
       "    }\n",
       "\n",
       "    .dataframe thead th {\n",
       "        text-align: left;\n",
       "    }\n",
       "\n",
       "    .dataframe tbody tr th {\n",
       "        vertical-align: top;\n",
       "    }\n",
       "</style>\n",
       "<table border=\"1\" class=\"dataframe\">\n",
       "  <thead>\n",
       "    <tr style=\"text-align: right;\">\n",
       "      <th></th>\n",
       "      <th>retained</th>\n",
       "      <th>status_code</th>\n",
       "      <th>gender_code</th>\n",
       "      <th>major_code</th>\n",
       "      <th>citizenship_code</th>\n",
       "      <th>veteran_code</th>\n",
       "      <th>religion_code</th>\n",
       "      <th>marital_code</th>\n",
       "      <th>primary_ethnicity_code</th>\n",
       "      <th>state_code</th>\n",
       "      <th>immigration_code</th>\n",
       "      <th>nation_code</th>\n",
       "      <th>gpa_code</th>\n",
       "      <th>has_passport</th>\n",
       "      <th>has_visa</th>\n",
       "    </tr>\n",
       "  </thead>\n",
       "  <tbody>\n",
       "    <tr>\n",
       "      <th>count</th>\n",
       "      <td>933.000000</td>\n",
       "      <td>933.000000</td>\n",
       "      <td>933.000000</td>\n",
       "      <td>933.000000</td>\n",
       "      <td>933.000000</td>\n",
       "      <td>933.000000</td>\n",
       "      <td>933.000000</td>\n",
       "      <td>933.000000</td>\n",
       "      <td>933.000000</td>\n",
       "      <td>933.000000</td>\n",
       "      <td>933.000000</td>\n",
       "      <td>933.000000</td>\n",
       "      <td>933.000000</td>\n",
       "      <td>933.000000</td>\n",
       "      <td>933.000000</td>\n",
       "    </tr>\n",
       "    <tr>\n",
       "      <th>mean</th>\n",
       "      <td>0.764202</td>\n",
       "      <td>0.810289</td>\n",
       "      <td>0.675241</td>\n",
       "      <td>1.854234</td>\n",
       "      <td>2.182208</td>\n",
       "      <td>1.996785</td>\n",
       "      <td>7.844587</td>\n",
       "      <td>2.944266</td>\n",
       "      <td>3.422294</td>\n",
       "      <td>12.941050</td>\n",
       "      <td>2.216506</td>\n",
       "      <td>5.008574</td>\n",
       "      <td>2.765273</td>\n",
       "      <td>0.306538</td>\n",
       "      <td>0.221865</td>\n",
       "    </tr>\n",
       "    <tr>\n",
       "      <th>std</th>\n",
       "      <td>0.424725</td>\n",
       "      <td>0.946771</td>\n",
       "      <td>0.468536</td>\n",
       "      <td>1.200937</td>\n",
       "      <td>0.937434</td>\n",
       "      <td>0.073174</td>\n",
       "      <td>4.882137</td>\n",
       "      <td>1.136170</td>\n",
       "      <td>2.271681</td>\n",
       "      <td>3.851837</td>\n",
       "      <td>1.305430</td>\n",
       "      <td>0.310633</td>\n",
       "      <td>0.629731</td>\n",
       "      <td>0.461303</td>\n",
       "      <td>0.415724</td>\n",
       "    </tr>\n",
       "    <tr>\n",
       "      <th>min</th>\n",
       "      <td>0.000000</td>\n",
       "      <td>0.000000</td>\n",
       "      <td>0.000000</td>\n",
       "      <td>0.000000</td>\n",
       "      <td>0.000000</td>\n",
       "      <td>0.000000</td>\n",
       "      <td>0.000000</td>\n",
       "      <td>0.000000</td>\n",
       "      <td>0.000000</td>\n",
       "      <td>0.000000</td>\n",
       "      <td>0.000000</td>\n",
       "      <td>0.000000</td>\n",
       "      <td>0.000000</td>\n",
       "      <td>0.000000</td>\n",
       "      <td>0.000000</td>\n",
       "    </tr>\n",
       "    <tr>\n",
       "      <th>25%</th>\n",
       "      <td>1.000000</td>\n",
       "      <td>0.000000</td>\n",
       "      <td>0.000000</td>\n",
       "      <td>1.000000</td>\n",
       "      <td>1.000000</td>\n",
       "      <td>2.000000</td>\n",
       "      <td>3.000000</td>\n",
       "      <td>2.000000</td>\n",
       "      <td>1.000000</td>\n",
       "      <td>12.000000</td>\n",
       "      <td>0.000000</td>\n",
       "      <td>5.000000</td>\n",
       "      <td>3.000000</td>\n",
       "      <td>0.000000</td>\n",
       "      <td>0.000000</td>\n",
       "    </tr>\n",
       "    <tr>\n",
       "      <th>50%</th>\n",
       "      <td>1.000000</td>\n",
       "      <td>0.000000</td>\n",
       "      <td>1.000000</td>\n",
       "      <td>2.000000</td>\n",
       "      <td>3.000000</td>\n",
       "      <td>2.000000</td>\n",
       "      <td>7.000000</td>\n",
       "      <td>2.000000</td>\n",
       "      <td>3.000000</td>\n",
       "      <td>12.000000</td>\n",
       "      <td>3.000000</td>\n",
       "      <td>5.000000</td>\n",
       "      <td>3.000000</td>\n",
       "      <td>0.000000</td>\n",
       "      <td>0.000000</td>\n",
       "    </tr>\n",
       "    <tr>\n",
       "      <th>75%</th>\n",
       "      <td>1.000000</td>\n",
       "      <td>2.000000</td>\n",
       "      <td>1.000000</td>\n",
       "      <td>2.000000</td>\n",
       "      <td>3.000000</td>\n",
       "      <td>2.000000</td>\n",
       "      <td>12.000000</td>\n",
       "      <td>4.000000</td>\n",
       "      <td>6.000000</td>\n",
       "      <td>12.000000</td>\n",
       "      <td>3.000000</td>\n",
       "      <td>5.000000</td>\n",
       "      <td>3.000000</td>\n",
       "      <td>1.000000</td>\n",
       "      <td>0.000000</td>\n",
       "    </tr>\n",
       "    <tr>\n",
       "      <th>max</th>\n",
       "      <td>1.000000</td>\n",
       "      <td>2.000000</td>\n",
       "      <td>1.000000</td>\n",
       "      <td>4.000000</td>\n",
       "      <td>3.000000</td>\n",
       "      <td>2.000000</td>\n",
       "      <td>16.000000</td>\n",
       "      <td>5.000000</td>\n",
       "      <td>6.000000</td>\n",
       "      <td>29.000000</td>\n",
       "      <td>3.000000</td>\n",
       "      <td>6.000000</td>\n",
       "      <td>3.000000</td>\n",
       "      <td>1.000000</td>\n",
       "      <td>1.000000</td>\n",
       "    </tr>\n",
       "  </tbody>\n",
       "</table>\n",
       "</div>"
      ],
      "text/plain": [
       "         retained  status_code  gender_code  major_code  citizenship_code  \\\n",
       "count  933.000000   933.000000   933.000000  933.000000        933.000000   \n",
       "mean     0.764202     0.810289     0.675241    1.854234          2.182208   \n",
       "std      0.424725     0.946771     0.468536    1.200937          0.937434   \n",
       "min      0.000000     0.000000     0.000000    0.000000          0.000000   \n",
       "25%      1.000000     0.000000     0.000000    1.000000          1.000000   \n",
       "50%      1.000000     0.000000     1.000000    2.000000          3.000000   \n",
       "75%      1.000000     2.000000     1.000000    2.000000          3.000000   \n",
       "max      1.000000     2.000000     1.000000    4.000000          3.000000   \n",
       "\n",
       "       veteran_code  religion_code  marital_code  primary_ethnicity_code  \\\n",
       "count    933.000000     933.000000    933.000000              933.000000   \n",
       "mean       1.996785       7.844587      2.944266                3.422294   \n",
       "std        0.073174       4.882137      1.136170                2.271681   \n",
       "min        0.000000       0.000000      0.000000                0.000000   \n",
       "25%        2.000000       3.000000      2.000000                1.000000   \n",
       "50%        2.000000       7.000000      2.000000                3.000000   \n",
       "75%        2.000000      12.000000      4.000000                6.000000   \n",
       "max        2.000000      16.000000      5.000000                6.000000   \n",
       "\n",
       "       state_code  immigration_code  nation_code    gpa_code  has_passport  \\\n",
       "count  933.000000        933.000000   933.000000  933.000000    933.000000   \n",
       "mean    12.941050          2.216506     5.008574    2.765273      0.306538   \n",
       "std      3.851837          1.305430     0.310633    0.629731      0.461303   \n",
       "min      0.000000          0.000000     0.000000    0.000000      0.000000   \n",
       "25%     12.000000          0.000000     5.000000    3.000000      0.000000   \n",
       "50%     12.000000          3.000000     5.000000    3.000000      0.000000   \n",
       "75%     12.000000          3.000000     5.000000    3.000000      1.000000   \n",
       "max     29.000000          3.000000     6.000000    3.000000      1.000000   \n",
       "\n",
       "         has_visa  \n",
       "count  933.000000  \n",
       "mean     0.221865  \n",
       "std      0.415724  \n",
       "min      0.000000  \n",
       "25%      0.000000  \n",
       "50%      0.000000  \n",
       "75%      0.000000  \n",
       "max      1.000000  "
      ]
     },
     "execution_count": 123,
     "metadata": {},
     "output_type": "execute_result"
    }
   ],
   "source": [
    "#output describe of each column\n",
    "gps_df.describe()\n"
   ]
  },
  {
   "cell_type": "code",
   "execution_count": 126,
   "metadata": {},
   "outputs": [
    {
     "data": {
      "text/plain": [
       "<seaborn.axisgrid.FacetGrid at 0xc173e48>"
      ]
     },
     "execution_count": 126,
     "metadata": {},
     "output_type": "execute_result"
    },
    {
     "data": {
      "image/png": "[encoded data removed]",
      "text/plain": [
       "<matplotlib.figure.Figure at 0xc3c1668>"
      ]
     },
     "metadata": {},
     "output_type": "display_data"
    }
   ],
   "source": [
    "#look at major\n",
    "g = sns.FacetGrid(gps_df, col='retained')\n",
    "g.map(plt.hist, 'major_code', bins=20)"
   ]
  },
  {
   "cell_type": "markdown",
   "metadata": {},
   "source": [
    "# Split up data between train and test"
   ]
  },
  {
   "cell_type": "code",
   "execution_count": 8,
   "metadata": {},
   "outputs": [
    {
     "name": "stdout",
     "output_type": "stream",
     "text": [
      "(625, 15) (625,) (308, 15)\n"
     ]
    }
   ],
   "source": [
    "X_train, X_test, y_train, y_test = train_test_split(gps_df.drop('retained', axis=1), gps_df.retained, test_size=0.33, random_state=42)\n",
    "\n",
    "#output the size of test and train data\n",
    "print(X_train.shape, y_train.shape, X_test.shape)"
   ]
  },
  {
   "cell_type": "markdown",
   "metadata": {},
   "source": [
    "# Logistics Regression"
   ]
  },
  {
   "cell_type": "markdown",
   "metadata": {},
   "source": [
    "## Confidence Score (ACC %)"
   ]
  },
  {
   "cell_type": "code",
   "execution_count": 9,
   "metadata": {},
   "outputs": [
    {
     "data": {
      "text/plain": [
       "77.120000000000005"
      ]
     },
     "execution_count": 9,
     "metadata": {},
     "output_type": "execute_result"
    }
   ],
   "source": [
    "log_reg = LogisticRegression()\n",
    "log_reg.fit(X_train, y_train)\n",
    "y_pred = log_reg.predict(X_test)\n",
    "acc_log = round(log_reg.score(X_train, y_train)*100, 2)\n",
    "acc_log"
   ]
  },
  {
   "cell_type": "markdown",
   "metadata": {},
   "source": [
    "## Column Coeffs"
   ]
  },
  {
   "cell_type": "code",
   "execution_count": 10,
   "metadata": {},
   "outputs": [
    {
     "data": {
      "text/html": [
       "<div>\n",
       "<style>\n",
       "    .dataframe thead tr:only-child th {\n",
       "        text-align: right;\n",
       "    }\n",
       "\n",
       "    .dataframe thead th {\n",
       "        text-align: left;\n",
       "    }\n",
       "\n",
       "    .dataframe tbody tr th {\n",
       "        vertical-align: top;\n",
       "    }\n",
       "</style>\n",
       "<table border=\"1\" class=\"dataframe\">\n",
       "  <thead>\n",
       "    <tr style=\"text-align: right;\">\n",
       "      <th></th>\n",
       "      <th>Feature</th>\n",
       "      <th>Correleation</th>\n",
       "    </tr>\n",
       "  </thead>\n",
       "  <tbody>\n",
       "    <tr>\n",
       "      <th>5</th>\n",
       "      <td>veteran_code</td>\n",
       "      <td>0.375450</td>\n",
       "    </tr>\n",
       "    <tr>\n",
       "      <th>1</th>\n",
       "      <td>HasMathStats</td>\n",
       "      <td>0.355527</td>\n",
       "    </tr>\n",
       "    <tr>\n",
       "      <th>2</th>\n",
       "      <td>gender_code</td>\n",
       "      <td>0.350215</td>\n",
       "    </tr>\n",
       "    <tr>\n",
       "      <th>11</th>\n",
       "      <td>nation_code</td>\n",
       "      <td>0.312036</td>\n",
       "    </tr>\n",
       "    <tr>\n",
       "      <th>0</th>\n",
       "      <td>HasCIS</td>\n",
       "      <td>0.099303</td>\n",
       "    </tr>\n",
       "    <tr>\n",
       "      <th>12</th>\n",
       "      <td>has_passport</td>\n",
       "      <td>0.082478</td>\n",
       "    </tr>\n",
       "    <tr>\n",
       "      <th>8</th>\n",
       "      <td>primary_ethnicity_code</td>\n",
       "      <td>0.054661</td>\n",
       "    </tr>\n",
       "    <tr>\n",
       "      <th>4</th>\n",
       "      <td>citizenship_code</td>\n",
       "      <td>0.051596</td>\n",
       "    </tr>\n",
       "    <tr>\n",
       "      <th>14</th>\n",
       "      <td>previous_gpa_code</td>\n",
       "      <td>-0.013857</td>\n",
       "    </tr>\n",
       "    <tr>\n",
       "      <th>9</th>\n",
       "      <td>state_code</td>\n",
       "      <td>-0.027256</td>\n",
       "    </tr>\n",
       "    <tr>\n",
       "      <th>6</th>\n",
       "      <td>religion_code</td>\n",
       "      <td>-0.038612</td>\n",
       "    </tr>\n",
       "    <tr>\n",
       "      <th>13</th>\n",
       "      <td>has_visa</td>\n",
       "      <td>-0.043824</td>\n",
       "    </tr>\n",
       "    <tr>\n",
       "      <th>7</th>\n",
       "      <td>marital_code</td>\n",
       "      <td>-0.098396</td>\n",
       "    </tr>\n",
       "    <tr>\n",
       "      <th>3</th>\n",
       "      <td>major_code</td>\n",
       "      <td>-0.135900</td>\n",
       "    </tr>\n",
       "    <tr>\n",
       "      <th>10</th>\n",
       "      <td>immigration_code</td>\n",
       "      <td>-0.427272</td>\n",
       "    </tr>\n",
       "  </tbody>\n",
       "</table>\n",
       "</div>"
      ],
      "text/plain": [
       "                   Feature  Correleation\n",
       "5             veteran_code      0.375450\n",
       "1             HasMathStats      0.355527\n",
       "2              gender_code      0.350215\n",
       "11             nation_code      0.312036\n",
       "0                   HasCIS      0.099303\n",
       "12            has_passport      0.082478\n",
       "8   primary_ethnicity_code      0.054661\n",
       "4         citizenship_code      0.051596\n",
       "14       previous_gpa_code     -0.013857\n",
       "9               state_code     -0.027256\n",
       "6            religion_code     -0.038612\n",
       "13                has_visa     -0.043824\n",
       "7             marital_code     -0.098396\n",
       "3               major_code     -0.135900\n",
       "10        immigration_code     -0.427272"
      ]
     },
     "execution_count": 10,
     "metadata": {},
     "output_type": "execute_result"
    }
   ],
   "source": [
    "coeff_df = pd.DataFrame(gps_df.columns.delete(0)) #grabbing only column names into dataframe\n",
    "coeff_df.columns = ['Feature'] #giving column a name\n",
    "coeff_df[\"Correleation\"] = pd.Series(log_reg.coef_[0]) #grabbing coeff of each column\n",
    "coeff_df.sort_values(by='Correleation',ascending=False) #output coeff values"
   ]
  },
  {
   "cell_type": "markdown",
   "metadata": {},
   "source": [
    "# Support Vector Machine"
   ]
  },
  {
   "cell_type": "code",
   "execution_count": 11,
   "metadata": {},
   "outputs": [
    {
     "data": {
      "text/plain": [
       "80.319999999999993"
      ]
     },
     "execution_count": 11,
     "metadata": {},
     "output_type": "execute_result"
    }
   ],
   "source": [
    "svc = SVC()\n",
    "svc.fit(X_train, y_train)\n",
    "y_pred = svc.predict(X_test)\n",
    "acc_svc = round(svc.score(X_train, y_train)*100, 2)\n",
    "acc_svc #outputting the acc score from SVM model"
   ]
  },
  {
   "cell_type": "markdown",
   "metadata": {},
   "source": [
    "# K-Nearest Neighbors"
   ]
  },
  {
   "cell_type": "code",
   "execution_count": 12,
   "metadata": {},
   "outputs": [
    {
     "data": {
      "text/plain": [
       "81.760000000000005"
      ]
     },
     "execution_count": 12,
     "metadata": {},
     "output_type": "execute_result"
    }
   ],
   "source": [
    "knn = KNeighborsClassifier(n_neighbors = 3)\n",
    "knn.fit(X_train, y_train)\n",
    "y_pred = knn.predict(X_test)\n",
    "acc_knn = round(knn.score(X_train, y_train)*100, 2)\n",
    "acc_knn"
   ]
  },
  {
   "cell_type": "markdown",
   "metadata": {},
   "source": [
    "# Guassian Naive Bays"
   ]
  },
  {
   "cell_type": "code",
   "execution_count": 13,
   "metadata": {},
   "outputs": [
    {
     "data": {
      "text/plain": [
       "25.280000000000001"
      ]
     },
     "execution_count": 13,
     "metadata": {},
     "output_type": "execute_result"
    }
   ],
   "source": [
    "gaussian = GaussianNB()\n",
    "gaussian.fit(X_train, y_train)\n",
    "y_pred = gaussian.predict(X_test)\n",
    "acc_gaussian = round(gaussian.score(X_train, y_train)*100,2)\n",
    "acc_gaussian"
   ]
  },
  {
   "cell_type": "markdown",
   "metadata": {},
   "source": [
    "# Perceptron"
   ]
  },
  {
   "cell_type": "code",
   "execution_count": 14,
   "metadata": {},
   "outputs": [
    {
     "data": {
      "text/plain": [
       "77.120000000000005"
      ]
     },
     "execution_count": 14,
     "metadata": {},
     "output_type": "execute_result"
    }
   ],
   "source": [
    "perceptron = Perceptron()\n",
    "perceptron.fit(X_train, y_train)\n",
    "y_pred = perceptron.predict(X_test)\n",
    "acc_perceptron = round(perceptron.score(X_train, y_train)*100,2)\n",
    "acc_perceptron"
   ]
  },
  {
   "cell_type": "markdown",
   "metadata": {},
   "source": [
    "# Linear SVC"
   ]
  },
  {
   "cell_type": "code",
   "execution_count": 15,
   "metadata": {},
   "outputs": [
    {
     "data": {
      "text/plain": [
       "77.120000000000005"
      ]
     },
     "execution_count": 15,
     "metadata": {},
     "output_type": "execute_result"
    }
   ],
   "source": [
    "linear_svc = LinearSVC()\n",
    "linear_svc.fit(X_train, y_train)\n",
    "acc_linear_svc = round(linear_svc.score(X_train, y_train)*100, 2)\n",
    "acc_linear_svc\n"
   ]
  },
  {
   "cell_type": "markdown",
   "metadata": {},
   "source": [
    "# Stochastic Gradient Descent"
   ]
  },
  {
   "cell_type": "code",
   "execution_count": 16,
   "metadata": {},
   "outputs": [
    {
     "data": {
      "text/plain": [
       "77.120000000000005"
      ]
     },
     "execution_count": 16,
     "metadata": {},
     "output_type": "execute_result"
    }
   ],
   "source": [
    "sgd = SGDClassifier()\n",
    "sgd.fit(X_train, y_train)\n",
    "y_pred = sgd.predict(X_test)\n",
    "acc_sgd = round(sgd.score(X_train, y_train)*100, 2)\n",
    "acc_sgd"
   ]
  },
  {
   "cell_type": "markdown",
   "metadata": {},
   "source": [
    "# Decision Tree"
   ]
  },
  {
   "cell_type": "code",
   "execution_count": 17,
   "metadata": {},
   "outputs": [
    {
     "data": {
      "text/plain": [
       "99.200000000000003"
      ]
     },
     "execution_count": 17,
     "metadata": {},
     "output_type": "execute_result"
    }
   ],
   "source": [
    "decision_tree = DecisionTreeClassifier()\n",
    "decision_tree.fit(X_train, y_train)\n",
    "y_pred = decision_tree.predict(X_test)\n",
    "acc_decision_tree = round(decision_tree.score(X_train, y_train)*100,2)\n",
    "acc_decision_tree"
   ]
  },
  {
   "cell_type": "markdown",
   "metadata": {},
   "source": [
    "# Random Forest"
   ]
  },
  {
   "cell_type": "code",
   "execution_count": 18,
   "metadata": {},
   "outputs": [
    {
     "data": {
      "text/plain": [
       "99.200000000000003"
      ]
     },
     "execution_count": 18,
     "metadata": {},
     "output_type": "execute_result"
    }
   ],
   "source": [
    "random_forest = RandomForestClassifier(n_estimators=100)\n",
    "random_forest.fit(X_train, y_train)\n",
    "y_pred = random_forest.predict(X_test)\n",
    "random_forest.score(X_train, y_train)\n",
    "acc_random_forest = round(random_forest.score(X_train, y_train)*100, 2)\n",
    "acc_random_forest"
   ]
  },
  {
   "cell_type": "markdown",
   "metadata": {},
   "source": [
    "# Model Evaluation"
   ]
  },
  {
   "cell_type": "code",
   "execution_count": 19,
   "metadata": {},
   "outputs": [
    {
     "data": {
      "text/html": [
       "<div>\n",
       "<style>\n",
       "    .dataframe thead tr:only-child th {\n",
       "        text-align: right;\n",
       "    }\n",
       "\n",
       "    .dataframe thead th {\n",
       "        text-align: left;\n",
       "    }\n",
       "\n",
       "    .dataframe tbody tr th {\n",
       "        vertical-align: top;\n",
       "    }\n",
       "</style>\n",
       "<table border=\"1\" class=\"dataframe\">\n",
       "  <thead>\n",
       "    <tr style=\"text-align: right;\">\n",
       "      <th></th>\n",
       "      <th>Model</th>\n",
       "      <th>Score</th>\n",
       "    </tr>\n",
       "  </thead>\n",
       "  <tbody>\n",
       "    <tr>\n",
       "      <th>3</th>\n",
       "      <td>Random Forest</td>\n",
       "      <td>99.20</td>\n",
       "    </tr>\n",
       "    <tr>\n",
       "      <th>8</th>\n",
       "      <td>Decision Tree</td>\n",
       "      <td>99.20</td>\n",
       "    </tr>\n",
       "    <tr>\n",
       "      <th>1</th>\n",
       "      <td>KNN</td>\n",
       "      <td>81.76</td>\n",
       "    </tr>\n",
       "    <tr>\n",
       "      <th>0</th>\n",
       "      <td>Support Vector Machines</td>\n",
       "      <td>80.32</td>\n",
       "    </tr>\n",
       "    <tr>\n",
       "      <th>2</th>\n",
       "      <td>Logistic Regression</td>\n",
       "      <td>77.12</td>\n",
       "    </tr>\n",
       "    <tr>\n",
       "      <th>5</th>\n",
       "      <td>Perceptron</td>\n",
       "      <td>77.12</td>\n",
       "    </tr>\n",
       "    <tr>\n",
       "      <th>6</th>\n",
       "      <td>Stochastic Gradient Decent</td>\n",
       "      <td>77.12</td>\n",
       "    </tr>\n",
       "    <tr>\n",
       "      <th>7</th>\n",
       "      <td>Linear SVC</td>\n",
       "      <td>77.12</td>\n",
       "    </tr>\n",
       "    <tr>\n",
       "      <th>4</th>\n",
       "      <td>Naive Bayes</td>\n",
       "      <td>25.28</td>\n",
       "    </tr>\n",
       "  </tbody>\n",
       "</table>\n",
       "</div>"
      ],
      "text/plain": [
       "                        Model  Score\n",
       "3               Random Forest  99.20\n",
       "8               Decision Tree  99.20\n",
       "1                         KNN  81.76\n",
       "0     Support Vector Machines  80.32\n",
       "2         Logistic Regression  77.12\n",
       "5                  Perceptron  77.12\n",
       "6  Stochastic Gradient Decent  77.12\n",
       "7                  Linear SVC  77.12\n",
       "4                 Naive Bayes  25.28"
      ]
     },
     "execution_count": 19,
     "metadata": {},
     "output_type": "execute_result"
    }
   ],
   "source": [
    "models = pd.DataFrame({\n",
    "    'Model': ['Support Vector Machines', 'KNN', 'Logistic Regression', \n",
    "              'Random Forest', 'Naive Bayes', 'Perceptron', \n",
    "              'Stochastic Gradient Decent', 'Linear SVC', \n",
    "              'Decision Tree'],\n",
    "    'Score': [acc_svc, acc_knn, acc_log, \n",
    "              acc_random_forest, acc_gaussian, acc_perceptron, \n",
    "              acc_sgd, acc_linear_svc, acc_decision_tree]})\n",
    "models.sort_values(by='Score', ascending=False)"
   ]
  },
  {
   "cell_type": "code",
   "execution_count": null,
   "metadata": {},
   "outputs": [],
   "source": []
  }
 ],
 "metadata": {
  "kernelspec": {
   "display_name": "Python 3",
   "language": "python",
   "name": "python3"
  },
  "language_info": {
   "codemirror_mode": {
    "name": "ipython",
    "version": 3
   },
   "file_extension": ".py",
   "mimetype": "text/x-python",
   "name": "python",
   "nbconvert_exporter": "python",
   "pygments_lexer": "ipython3",
   "version": "3.6.1"
  }
 },
 "nbformat": 4,
 "nbformat_minor": 2
}
