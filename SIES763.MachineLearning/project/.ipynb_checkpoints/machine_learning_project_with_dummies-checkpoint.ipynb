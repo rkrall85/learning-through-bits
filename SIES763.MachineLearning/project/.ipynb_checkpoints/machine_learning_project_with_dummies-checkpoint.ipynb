{
 "cells": [
  {
   "cell_type": "code",
   "execution_count": 130,
   "metadata": {},
   "outputs": [],
   "source": [
    "# data analysis and wrangling\n",
    "import pandas as pd\n",
    "import numpy as np\n",
    "import random as rnd\n",
    "\n",
    "# visualization\n",
    "import seaborn as sns\n",
    "import matplotlib.pyplot as plt\n",
    "%matplotlib inline\n",
    "\n",
    "# Pre processing \n",
    "from sklearn.preprocessing import LabelEncoder\n",
    "from sklearn.preprocessing import StandardScaler\n",
    "from sklearn.model_selection import train_test_split\n",
    "\n",
    "# machine learning\n",
    "from sklearn.linear_model import LogisticRegression\n",
    "from sklearn.svm import SVC, LinearSVC\n",
    "from sklearn.ensemble import RandomForestClassifier\n",
    "from sklearn.neighbors import KNeighborsClassifier\n",
    "from sklearn.naive_bayes import GaussianNB\n",
    "from sklearn.linear_model import Perceptron\n",
    "from sklearn.linear_model import SGDClassifier\n",
    "from sklearn.tree import DecisionTreeClassifier"
   ]
  },
  {
   "cell_type": "code",
   "execution_count": 131,
   "metadata": {},
   "outputs": [
    {
     "name": "stdout",
     "output_type": "stream",
     "text": [
      "False\n",
      "Size of GPS Retention (932, 1)\n"
     ]
    }
   ],
   "source": [
    "import os\n",
    "gps_df = pd.read_excel('/Users/daneaadland/Documents/GPS/Machine_Learning/GPSRetention.xlsx',keep_default_na=False)\n",
    "print(df.isnull().values.any())\n",
    "print('Size of GPS Retention',df.shape)"
   ]
  },
  {
   "cell_type": "code",
   "execution_count": 132,
   "metadata": {},
   "outputs": [
    {
     "name": "stdout",
     "output_type": "stream",
     "text": [
      "False\n"
     ]
    }
   ],
   "source": [
    "print(df.isnull().values.any())"
   ]
  },
  {
   "cell_type": "code",
   "execution_count": 133,
   "metadata": {},
   "outputs": [
    {
     "name": "stdout",
     "output_type": "stream",
     "text": [
      "['Fake_ID' 'MAJOR_DESC' 'GPA' 'HasCIS' 'HasMathStats' 'CITIZENSHIP_IND'\n",
      " 'RELIGION_DESC' 'VETERAN_CATEGORY_DESC' 'GENDER' 'PRIMARY_ETHNICITY_DESC'\n",
      " 'MARITAL_STATUS_DESC' 'STATE_PROVINCE' 'IMMIGRATION_STATUS'\n",
      " 'VISA_TYPE_DESC' 'PREVIOUS_GPA' 'CLEANED_PREVIOUS_GPA' 'Retained']\n"
     ]
    }
   ],
   "source": [
    "print(gps_df.columns.values)"
   ]
  },
  {
   "cell_type": "code",
   "execution_count": 134,
   "metadata": {},
   "outputs": [
    {
     "name": "stdout",
     "output_type": "stream",
     "text": [
      "   Fake_ID            MAJOR_DESC     GPA  HasCIS  HasMathStats  \\\n",
      "0   114229  Software Engineering  3.7125       0             0   \n",
      "1   116690  Software Engineering  4.0000       0             0   \n",
      "2   124057  Software Engineering  3.3250       0             0   \n",
      "3   126122  Software Engineering  4.0000       0             0   \n",
      "4   128636  Software Engineering  4.0000       0             0   \n",
      "\n",
      "  CITIZENSHIP_IND        RELIGION_DESC VETERAN_CATEGORY_DESC GENDER  \\\n",
      "0               Y             Buddhist                    NA      M   \n",
      "1               Y       Roman Catholic                    NA      M   \n",
      "2               N  Other Non-Christian                    NA      F   \n",
      "3               Y       Roman Catholic                    NA      M   \n",
      "4               Y   Decline to Respond                    NA      M   \n",
      "\n",
      "  PRIMARY_ETHNICITY_DESC MARITAL_STATUS_DESC STATE_PROVINCE  \\\n",
      "0                  White             Married             MN   \n",
      "1                  White             Married             MN   \n",
      "2                  Asian             Married             MN   \n",
      "3                  White             Married             MN   \n",
      "4                  White             Married             MN   \n",
      "\n",
      "  IMMIGRATION_STATUS                VISA_TYPE_DESC PREVIOUS_GPA  \\\n",
      "0                 NA                            NA        2.952   \n",
      "1                 NA                            NA        2.894   \n",
      "2                 NA  F1 student from other school        3.472   \n",
      "3                 NA                            NA         2.84   \n",
      "4                 NA                            NA         2.98   \n",
      "\n",
      "   CLEANED_PREVIOUS_GPA  Retained  \n",
      "0                 2.952         1  \n",
      "1                 2.894         1  \n",
      "2                 3.472         0  \n",
      "3                 2.840         1  \n",
      "4                 2.980         1  \n",
      "     Fake_ID            MAJOR_DESC       GPA  HasCIS  HasMathStats  \\\n",
      "927   579385  Software Engineering  3.753846       1             0   \n",
      "928   579542  Software Engineering  4.000000       0             0   \n",
      "929   580878  Software Engineering  4.000000       0             0   \n",
      "930   581216          Data Science  3.580000       0             0   \n",
      "931   581983          Data Science  3.770000       0             0   \n",
      "\n",
      "    CITIZENSHIP_IND             RELIGION_DESC VETERAN_CATEGORY_DESC GENDER  \\\n",
      "927               Y                  Buddhist                    NA      M   \n",
      "928               N        Decline to Respond                    NA      M   \n",
      "929               Y  No Religious Affiliation                    NA      M   \n",
      "930               N                     Hindu                    NA      F   \n",
      "931               N        Decline to Respond                    NA      F   \n",
      "\n",
      "    PRIMARY_ETHNICITY_DESC MARITAL_STATUS_DESC STATE_PROVINCE  \\\n",
      "927                  White              Single             MN   \n",
      "928                  White             Married             MN   \n",
      "929      Two or More Races              Single             MN   \n",
      "930                  Asian             Married             MN   \n",
      "931                  Asian              Single             MN   \n",
      "\n",
      "    IMMIGRATION_STATUS    VISA_TYPE_DESC PREVIOUS_GPA  CLEANED_PREVIOUS_GPA  \\\n",
      "927                 NA                NA        2.655              2.655000   \n",
      "928                 NA                NA                           3.113852   \n",
      "929                 NA                NA        3.181              3.181000   \n",
      "930                NRA                NA            4              4.000000   \n",
      "931                NRA  Academic Student          3.1              3.100000   \n",
      "\n",
      "     Retained  \n",
      "927         1  \n",
      "928         1  \n",
      "929         0  \n",
      "930         1  \n",
      "931         1  \n"
     ]
    }
   ],
   "source": [
    "print(gps_df.head())\n",
    "print(gps_df.tail())"
   ]
  },
  {
   "cell_type": "code",
   "execution_count": 135,
   "metadata": {},
   "outputs": [
    {
     "data": {
      "text/plain": [
       "array(['NA', 'NRA', 'RA', 'PR'], dtype=object)"
      ]
     },
     "execution_count": 135,
     "metadata": {},
     "output_type": "execute_result"
    }
   ],
   "source": [
    "gps_df['IMMIGRATION_STATUS'].unique()"
   ]
  },
  {
   "cell_type": "code",
   "execution_count": 128,
   "metadata": {},
   "outputs": [],
   "source": [
    "#gps_df.CLEANED_PREVIOUS_GPA = pd.to_numeric(df.CLEANED_PREVIOUS_GPA)"
   ]
  },
  {
   "cell_type": "code",
   "execution_count": 136,
   "metadata": {},
   "outputs": [],
   "source": [
    "gps_df['CLEANED_PREVIOUS_GPA'] = pd.cut(gps_df['CLEANED_PREVIOUS_GPA'], 4)"
   ]
  },
  {
   "cell_type": "code",
   "execution_count": 137,
   "metadata": {},
   "outputs": [],
   "source": [
    "gps_df.drop(['Fake_ID','GPA','PREVIOUS_GPA'], axis=1, inplace=True)"
   ]
  },
  {
   "cell_type": "code",
   "execution_count": 138,
   "metadata": {},
   "outputs": [
    {
     "data": {
      "text/plain": [
       "0    (2.461, 2.974]\n",
       "1    (2.461, 2.974]\n",
       "2    (2.974, 3.487]\n",
       "3    (2.461, 2.974]\n",
       "4    (2.974, 3.487]\n",
       "Name: CLEANED_PREVIOUS_GPA, dtype: category\n",
       "Categories (4, interval[float64]): [(1.946, 2.461] < (2.461, 2.974] < (2.974, 3.487] < (3.487, 4.0]]"
      ]
     },
     "execution_count": 138,
     "metadata": {},
     "output_type": "execute_result"
    }
   ],
   "source": [
    "gps_df['CLEANED_PREVIOUS_GPA'].head()"
   ]
  },
  {
   "cell_type": "code",
   "execution_count": 139,
   "metadata": {},
   "outputs": [
    {
     "data": {
      "text/plain": [
       "Index(['MAJOR_DESC', 'HasCIS', 'HasMathStats', 'CITIZENSHIP_IND',\n",
       "       'RELIGION_DESC', 'VETERAN_CATEGORY_DESC', 'GENDER',\n",
       "       'PRIMARY_ETHNICITY_DESC', 'MARITAL_STATUS_DESC', 'STATE_PROVINCE',\n",
       "       'IMMIGRATION_STATUS', 'VISA_TYPE_DESC', 'CLEANED_PREVIOUS_GPA',\n",
       "       'Retained'],\n",
       "      dtype='object')"
      ]
     },
     "execution_count": 139,
     "metadata": {},
     "output_type": "execute_result"
    }
   ],
   "source": [
    "gps_df.columns"
   ]
  },
  {
   "cell_type": "code",
   "execution_count": 140,
   "metadata": {},
   "outputs": [],
   "source": [
    "cats = ['MAJOR_DESC','HasCIS','HasMathStats','CITIZENSHIP_IND',\n",
    "       'RELIGION_DESC', 'VETERAN_CATEGORY_DESC', 'GENDER',\n",
    "       'PRIMARY_ETHNICITY_DESC', 'MARITAL_STATUS_DESC',\n",
    "       'STATE_PROVINCE','IMMIGRATION_STATUS','VISA_TYPE_DESC',\n",
    "        'CLEANED_PREVIOUS_GPA','Retained']\n",
    "\n",
    "#nums = ['CLEANED_PREVIOUS_GPA']"
   ]
  },
  {
   "cell_type": "code",
   "execution_count": 141,
   "metadata": {},
   "outputs": [],
   "source": [
    "dummies = pd.get_dummies(gps_df[cats], drop_first=True)"
   ]
  },
  {
   "cell_type": "code",
   "execution_count": 73,
   "metadata": {},
   "outputs": [
    {
     "data": {
      "text/plain": [
       "Index(['HasCIS', 'HasMathStats', 'Retained',\n",
       "       'MAJOR_DESC_Information Technology', 'MAJOR_DESC_Software Engineering',\n",
       "       'MAJOR_DESC_Software Management', 'MAJOR_DESC_Software Systems',\n",
       "       'CITIZENSHIP_IND_Y', 'RELIGION_DESC_Buddhist',\n",
       "       'RELIGION_DESC_Chinese Religions', 'RELIGION_DESC_Decline to Respond',\n",
       "       'RELIGION_DESC_Episcopalian', 'RELIGION_DESC_Hindu',\n",
       "       'RELIGION_DESC_Jewish', 'RELIGION_DESC_Lutheran (ELCA)',\n",
       "       'RELIGION_DESC_Lutheran (non-ELCA)', 'RELIGION_DESC_Methodist',\n",
       "       'RELIGION_DESC_Muslim', 'RELIGION_DESC_No Religious Affiliation',\n",
       "       'RELIGION_DESC_Orthodox Christian', 'RELIGION_DESC_Other Christian',\n",
       "       'RELIGION_DESC_Other Non-Christian', 'RELIGION_DESC_Presbyterian',\n",
       "       'RELIGION_DESC_Roman Catholic', 'VETERAN_CATEGORY_DESC_NA',\n",
       "       'VETERAN_CATEGORY_DESC_Other Protected Veteran Only', 'GENDER_M',\n",
       "       'PRIMARY_ETHNICITY_DESC_Asian',\n",
       "       'PRIMARY_ETHNICITY_DESC_Black or African American',\n",
       "       'PRIMARY_ETHNICITY_DESC_Declined',\n",
       "       'PRIMARY_ETHNICITY_DESC_Race/Ethnicity Unknown',\n",
       "       'PRIMARY_ETHNICITY_DESC_Two or More Races',\n",
       "       'PRIMARY_ETHNICITY_DESC_White', 'MARITAL_STATUS_DESC_Legally Separated',\n",
       "       'MARITAL_STATUS_DESC_Married', 'MARITAL_STATUS_DESC_Not Reported',\n",
       "       'MARITAL_STATUS_DESC_Single', 'MARITAL_STATUS_DESC_Unknown',\n",
       "       'STATE_PROVINCE_CA', 'STATE_PROVINCE_CO', 'STATE_PROVINCE_FL',\n",
       "       'STATE_PROVINCE_GA', 'STATE_PROVINCE_HI', 'STATE_PROVINCE_IA',\n",
       "       'STATE_PROVINCE_ID', 'STATE_PROVINCE_IL', 'STATE_PROVINCE_IN',\n",
       "       'STATE_PROVINCE_KS', 'STATE_PROVINCE_MA', 'STATE_PROVINCE_MN',\n",
       "       'STATE_PROVINCE_MS', 'STATE_PROVINCE_NC', 'STATE_PROVINCE_ND',\n",
       "       'STATE_PROVINCE_NJ', 'STATE_PROVINCE_NV', 'STATE_PROVINCE_NY',\n",
       "       'STATE_PROVINCE_OH', 'STATE_PROVINCE_OK', 'STATE_PROVINCE_OR',\n",
       "       'STATE_PROVINCE_RI', 'STATE_PROVINCE_TN', 'STATE_PROVINCE_TX',\n",
       "       'STATE_PROVINCE_Unknown', 'STATE_PROVINCE_VA', 'STATE_PROVINCE_WA',\n",
       "       'STATE_PROVINCE_WI', 'STATE_PROVINCE_XX', 'IMMIGRATION_STATUS_NRA',\n",
       "       'IMMIGRATION_STATUS_PR', 'IMMIGRATION_STATUS_RA',\n",
       "       'VISA_TYPE_DESC_Asylee', 'VISA_TYPE_DESC_Dependant of H1,2 or 3',\n",
       "       'VISA_TYPE_DESC_Extraordinary ability', 'VISA_TYPE_DESC_F1 Pending',\n",
       "       'VISA_TYPE_DESC_F1 student from other school',\n",
       "       'VISA_TYPE_DESC_Intracompany Transferee',\n",
       "       'VISA_TYPE_DESC_Legal Permanent Resident', 'VISA_TYPE_DESC_NA',\n",
       "       'VISA_TYPE_DESC_Pending immigrant',\n",
       "       'VISA_TYPE_DESC_Spouse or child of F1',\n",
       "       'VISA_TYPE_DESC_Temp worker in specialty OCC',\n",
       "       'VISA_TYPE_DESC_US Citizen', 'VISA_TYPE_DESC_Unknown',\n",
       "       'CLEANED_PREVIOUS_GPA_(2.461, 2.974]',\n",
       "       'CLEANED_PREVIOUS_GPA_(2.974, 3.487]',\n",
       "       'CLEANED_PREVIOUS_GPA_(3.487, 4.0]'],\n",
       "      dtype='object')"
      ]
     },
     "execution_count": 73,
     "metadata": {},
     "output_type": "execute_result"
    }
   ],
   "source": [
    "dummies.columns"
   ]
  },
  {
   "cell_type": "code",
   "execution_count": 142,
   "metadata": {},
   "outputs": [],
   "source": [
    "gps_df.drop(cats, axis=1, inplace=True)"
   ]
  },
  {
   "cell_type": "code",
   "execution_count": 143,
   "metadata": {},
   "outputs": [],
   "source": [
    "gps_df = pd.concat([gps_df,dummies], axis=1)"
   ]
  },
  {
   "cell_type": "code",
   "execution_count": 31,
   "metadata": {},
   "outputs": [],
   "source": [
    "#scaler = StandardScaler()"
   ]
  },
  {
   "cell_type": "code",
   "execution_count": 144,
   "metadata": {},
   "outputs": [
    {
     "data": {
      "text/html": [
       "<div>\n",
       "<style>\n",
       "    .dataframe thead tr:only-child th {\n",
       "        text-align: right;\n",
       "    }\n",
       "\n",
       "    .dataframe thead th {\n",
       "        text-align: left;\n",
       "    }\n",
       "\n",
       "    .dataframe tbody tr th {\n",
       "        vertical-align: top;\n",
       "    }\n",
       "</style>\n",
       "<table border=\"1\" class=\"dataframe\">\n",
       "  <thead>\n",
       "    <tr style=\"text-align: right;\">\n",
       "      <th></th>\n",
       "      <th>HasCIS</th>\n",
       "      <th>HasMathStats</th>\n",
       "      <th>Retained</th>\n",
       "      <th>MAJOR_DESC_Information Technology</th>\n",
       "      <th>MAJOR_DESC_Software Engineering</th>\n",
       "      <th>MAJOR_DESC_Software Management</th>\n",
       "      <th>MAJOR_DESC_Software Systems</th>\n",
       "      <th>CITIZENSHIP_IND_Y</th>\n",
       "      <th>RELIGION_DESC_Buddhist</th>\n",
       "      <th>RELIGION_DESC_Chinese Religions</th>\n",
       "      <th>...</th>\n",
       "      <th>VISA_TYPE_DESC_Legal Permanent Resident</th>\n",
       "      <th>VISA_TYPE_DESC_NA</th>\n",
       "      <th>VISA_TYPE_DESC_Pending immigrant</th>\n",
       "      <th>VISA_TYPE_DESC_Spouse or child of F1</th>\n",
       "      <th>VISA_TYPE_DESC_Temp worker in specialty OCC</th>\n",
       "      <th>VISA_TYPE_DESC_US Citizen</th>\n",
       "      <th>VISA_TYPE_DESC_Unknown</th>\n",
       "      <th>CLEANED_PREVIOUS_GPA_(2.461, 2.974]</th>\n",
       "      <th>CLEANED_PREVIOUS_GPA_(2.974, 3.487]</th>\n",
       "      <th>CLEANED_PREVIOUS_GPA_(3.487, 4.0]</th>\n",
       "    </tr>\n",
       "  </thead>\n",
       "  <tbody>\n",
       "    <tr>\n",
       "      <th>0</th>\n",
       "      <td>0</td>\n",
       "      <td>0</td>\n",
       "      <td>1</td>\n",
       "      <td>0</td>\n",
       "      <td>1</td>\n",
       "      <td>0</td>\n",
       "      <td>0</td>\n",
       "      <td>1</td>\n",
       "      <td>1</td>\n",
       "      <td>0</td>\n",
       "      <td>...</td>\n",
       "      <td>0</td>\n",
       "      <td>1</td>\n",
       "      <td>0</td>\n",
       "      <td>0</td>\n",
       "      <td>0</td>\n",
       "      <td>0</td>\n",
       "      <td>0</td>\n",
       "      <td>1</td>\n",
       "      <td>0</td>\n",
       "      <td>0</td>\n",
       "    </tr>\n",
       "    <tr>\n",
       "      <th>1</th>\n",
       "      <td>0</td>\n",
       "      <td>0</td>\n",
       "      <td>1</td>\n",
       "      <td>0</td>\n",
       "      <td>1</td>\n",
       "      <td>0</td>\n",
       "      <td>0</td>\n",
       "      <td>1</td>\n",
       "      <td>0</td>\n",
       "      <td>0</td>\n",
       "      <td>...</td>\n",
       "      <td>0</td>\n",
       "      <td>1</td>\n",
       "      <td>0</td>\n",
       "      <td>0</td>\n",
       "      <td>0</td>\n",
       "      <td>0</td>\n",
       "      <td>0</td>\n",
       "      <td>1</td>\n",
       "      <td>0</td>\n",
       "      <td>0</td>\n",
       "    </tr>\n",
       "    <tr>\n",
       "      <th>2</th>\n",
       "      <td>0</td>\n",
       "      <td>0</td>\n",
       "      <td>0</td>\n",
       "      <td>0</td>\n",
       "      <td>1</td>\n",
       "      <td>0</td>\n",
       "      <td>0</td>\n",
       "      <td>0</td>\n",
       "      <td>0</td>\n",
       "      <td>0</td>\n",
       "      <td>...</td>\n",
       "      <td>0</td>\n",
       "      <td>0</td>\n",
       "      <td>0</td>\n",
       "      <td>0</td>\n",
       "      <td>0</td>\n",
       "      <td>0</td>\n",
       "      <td>0</td>\n",
       "      <td>0</td>\n",
       "      <td>1</td>\n",
       "      <td>0</td>\n",
       "    </tr>\n",
       "    <tr>\n",
       "      <th>3</th>\n",
       "      <td>0</td>\n",
       "      <td>0</td>\n",
       "      <td>1</td>\n",
       "      <td>0</td>\n",
       "      <td>1</td>\n",
       "      <td>0</td>\n",
       "      <td>0</td>\n",
       "      <td>1</td>\n",
       "      <td>0</td>\n",
       "      <td>0</td>\n",
       "      <td>...</td>\n",
       "      <td>0</td>\n",
       "      <td>1</td>\n",
       "      <td>0</td>\n",
       "      <td>0</td>\n",
       "      <td>0</td>\n",
       "      <td>0</td>\n",
       "      <td>0</td>\n",
       "      <td>1</td>\n",
       "      <td>0</td>\n",
       "      <td>0</td>\n",
       "    </tr>\n",
       "    <tr>\n",
       "      <th>4</th>\n",
       "      <td>0</td>\n",
       "      <td>0</td>\n",
       "      <td>1</td>\n",
       "      <td>0</td>\n",
       "      <td>1</td>\n",
       "      <td>0</td>\n",
       "      <td>0</td>\n",
       "      <td>1</td>\n",
       "      <td>0</td>\n",
       "      <td>0</td>\n",
       "      <td>...</td>\n",
       "      <td>0</td>\n",
       "      <td>1</td>\n",
       "      <td>0</td>\n",
       "      <td>0</td>\n",
       "      <td>0</td>\n",
       "      <td>0</td>\n",
       "      <td>0</td>\n",
       "      <td>0</td>\n",
       "      <td>1</td>\n",
       "      <td>0</td>\n",
       "    </tr>\n",
       "  </tbody>\n",
       "</table>\n",
       "<p>5 rows × 86 columns</p>\n",
       "</div>"
      ],
      "text/plain": [
       "   HasCIS  HasMathStats  Retained  MAJOR_DESC_Information Technology  \\\n",
       "0       0             0         1                                  0   \n",
       "1       0             0         1                                  0   \n",
       "2       0             0         0                                  0   \n",
       "3       0             0         1                                  0   \n",
       "4       0             0         1                                  0   \n",
       "\n",
       "   MAJOR_DESC_Software Engineering  MAJOR_DESC_Software Management  \\\n",
       "0                                1                               0   \n",
       "1                                1                               0   \n",
       "2                                1                               0   \n",
       "3                                1                               0   \n",
       "4                                1                               0   \n",
       "\n",
       "   MAJOR_DESC_Software Systems  CITIZENSHIP_IND_Y  RELIGION_DESC_Buddhist  \\\n",
       "0                            0                  1                       1   \n",
       "1                            0                  1                       0   \n",
       "2                            0                  0                       0   \n",
       "3                            0                  1                       0   \n",
       "4                            0                  1                       0   \n",
       "\n",
       "   RELIGION_DESC_Chinese Religions                ...                  \\\n",
       "0                                0                ...                   \n",
       "1                                0                ...                   \n",
       "2                                0                ...                   \n",
       "3                                0                ...                   \n",
       "4                                0                ...                   \n",
       "\n",
       "   VISA_TYPE_DESC_Legal Permanent Resident  VISA_TYPE_DESC_NA  \\\n",
       "0                                        0                  1   \n",
       "1                                        0                  1   \n",
       "2                                        0                  0   \n",
       "3                                        0                  1   \n",
       "4                                        0                  1   \n",
       "\n",
       "   VISA_TYPE_DESC_Pending immigrant  VISA_TYPE_DESC_Spouse or child of F1  \\\n",
       "0                                 0                                     0   \n",
       "1                                 0                                     0   \n",
       "2                                 0                                     0   \n",
       "3                                 0                                     0   \n",
       "4                                 0                                     0   \n",
       "\n",
       "   VISA_TYPE_DESC_Temp worker in specialty OCC  VISA_TYPE_DESC_US Citizen  \\\n",
       "0                                            0                          0   \n",
       "1                                            0                          0   \n",
       "2                                            0                          0   \n",
       "3                                            0                          0   \n",
       "4                                            0                          0   \n",
       "\n",
       "   VISA_TYPE_DESC_Unknown  CLEANED_PREVIOUS_GPA_(2.461, 2.974]  \\\n",
       "0                       0                                    1   \n",
       "1                       0                                    1   \n",
       "2                       0                                    0   \n",
       "3                       0                                    1   \n",
       "4                       0                                    0   \n",
       "\n",
       "   CLEANED_PREVIOUS_GPA_(2.974, 3.487]  CLEANED_PREVIOUS_GPA_(3.487, 4.0]  \n",
       "0                                    0                                  0  \n",
       "1                                    0                                  0  \n",
       "2                                    1                                  0  \n",
       "3                                    0                                  0  \n",
       "4                                    1                                  0  \n",
       "\n",
       "[5 rows x 86 columns]"
      ]
     },
     "execution_count": 144,
     "metadata": {},
     "output_type": "execute_result"
    }
   ],
   "source": [
    "#output the head of data\n",
    "gps_df.head()"
   ]
  },
  {
   "cell_type": "code",
   "execution_count": 145,
   "metadata": {},
   "outputs": [
    {
     "data": {
      "text/html": [
       "<div>\n",
       "<style>\n",
       "    .dataframe thead tr:only-child th {\n",
       "        text-align: right;\n",
       "    }\n",
       "\n",
       "    .dataframe thead th {\n",
       "        text-align: left;\n",
       "    }\n",
       "\n",
       "    .dataframe tbody tr th {\n",
       "        vertical-align: top;\n",
       "    }\n",
       "</style>\n",
       "<table border=\"1\" class=\"dataframe\">\n",
       "  <thead>\n",
       "    <tr style=\"text-align: right;\">\n",
       "      <th></th>\n",
       "      <th>HasCIS</th>\n",
       "      <th>HasMathStats</th>\n",
       "      <th>Retained</th>\n",
       "      <th>MAJOR_DESC_Information Technology</th>\n",
       "      <th>MAJOR_DESC_Software Engineering</th>\n",
       "      <th>MAJOR_DESC_Software Management</th>\n",
       "      <th>MAJOR_DESC_Software Systems</th>\n",
       "      <th>CITIZENSHIP_IND_Y</th>\n",
       "      <th>RELIGION_DESC_Buddhist</th>\n",
       "      <th>RELIGION_DESC_Chinese Religions</th>\n",
       "      <th>...</th>\n",
       "      <th>VISA_TYPE_DESC_Legal Permanent Resident</th>\n",
       "      <th>VISA_TYPE_DESC_NA</th>\n",
       "      <th>VISA_TYPE_DESC_Pending immigrant</th>\n",
       "      <th>VISA_TYPE_DESC_Spouse or child of F1</th>\n",
       "      <th>VISA_TYPE_DESC_Temp worker in specialty OCC</th>\n",
       "      <th>VISA_TYPE_DESC_US Citizen</th>\n",
       "      <th>VISA_TYPE_DESC_Unknown</th>\n",
       "      <th>CLEANED_PREVIOUS_GPA_(2.461, 2.974]</th>\n",
       "      <th>CLEANED_PREVIOUS_GPA_(2.974, 3.487]</th>\n",
       "      <th>CLEANED_PREVIOUS_GPA_(3.487, 4.0]</th>\n",
       "    </tr>\n",
       "  </thead>\n",
       "  <tbody>\n",
       "    <tr>\n",
       "      <th>count</th>\n",
       "      <td>932.000000</td>\n",
       "      <td>932.000000</td>\n",
       "      <td>932.000000</td>\n",
       "      <td>932.000000</td>\n",
       "      <td>932.000000</td>\n",
       "      <td>932.000000</td>\n",
       "      <td>932.000000</td>\n",
       "      <td>932.000000</td>\n",
       "      <td>932.000000</td>\n",
       "      <td>932.000000</td>\n",
       "      <td>...</td>\n",
       "      <td>932.000000</td>\n",
       "      <td>932.000000</td>\n",
       "      <td>932.000000</td>\n",
       "      <td>932.000000</td>\n",
       "      <td>932.000000</td>\n",
       "      <td>932.000000</td>\n",
       "      <td>932.000000</td>\n",
       "      <td>932.000000</td>\n",
       "      <td>932.000000</td>\n",
       "      <td>932.000000</td>\n",
       "    </tr>\n",
       "    <tr>\n",
       "      <th>mean</th>\n",
       "      <td>0.303648</td>\n",
       "      <td>0.041845</td>\n",
       "      <td>0.763948</td>\n",
       "      <td>0.157725</td>\n",
       "      <td>0.424893</td>\n",
       "      <td>0.122318</td>\n",
       "      <td>0.120172</td>\n",
       "      <td>0.542918</td>\n",
       "      <td>0.018240</td>\n",
       "      <td>0.008584</td>\n",
       "      <td>...</td>\n",
       "      <td>0.063305</td>\n",
       "      <td>0.784335</td>\n",
       "      <td>0.008584</td>\n",
       "      <td>0.001073</td>\n",
       "      <td>0.051502</td>\n",
       "      <td>0.003219</td>\n",
       "      <td>0.002146</td>\n",
       "      <td>0.217811</td>\n",
       "      <td>0.580472</td>\n",
       "      <td>0.151288</td>\n",
       "    </tr>\n",
       "    <tr>\n",
       "      <th>std</th>\n",
       "      <td>0.460079</td>\n",
       "      <td>0.200343</td>\n",
       "      <td>0.424882</td>\n",
       "      <td>0.364679</td>\n",
       "      <td>0.494592</td>\n",
       "      <td>0.327828</td>\n",
       "      <td>0.325337</td>\n",
       "      <td>0.498422</td>\n",
       "      <td>0.133891</td>\n",
       "      <td>0.092299</td>\n",
       "      <td>...</td>\n",
       "      <td>0.243641</td>\n",
       "      <td>0.411504</td>\n",
       "      <td>0.092299</td>\n",
       "      <td>0.032756</td>\n",
       "      <td>0.221138</td>\n",
       "      <td>0.056674</td>\n",
       "      <td>0.046299</td>\n",
       "      <td>0.412980</td>\n",
       "      <td>0.493747</td>\n",
       "      <td>0.358521</td>\n",
       "    </tr>\n",
       "    <tr>\n",
       "      <th>min</th>\n",
       "      <td>0.000000</td>\n",
       "      <td>0.000000</td>\n",
       "      <td>0.000000</td>\n",
       "      <td>0.000000</td>\n",
       "      <td>0.000000</td>\n",
       "      <td>0.000000</td>\n",
       "      <td>0.000000</td>\n",
       "      <td>0.000000</td>\n",
       "      <td>0.000000</td>\n",
       "      <td>0.000000</td>\n",
       "      <td>...</td>\n",
       "      <td>0.000000</td>\n",
       "      <td>0.000000</td>\n",
       "      <td>0.000000</td>\n",
       "      <td>0.000000</td>\n",
       "      <td>0.000000</td>\n",
       "      <td>0.000000</td>\n",
       "      <td>0.000000</td>\n",
       "      <td>0.000000</td>\n",
       "      <td>0.000000</td>\n",
       "      <td>0.000000</td>\n",
       "    </tr>\n",
       "    <tr>\n",
       "      <th>25%</th>\n",
       "      <td>0.000000</td>\n",
       "      <td>0.000000</td>\n",
       "      <td>1.000000</td>\n",
       "      <td>0.000000</td>\n",
       "      <td>0.000000</td>\n",
       "      <td>0.000000</td>\n",
       "      <td>0.000000</td>\n",
       "      <td>0.000000</td>\n",
       "      <td>0.000000</td>\n",
       "      <td>0.000000</td>\n",
       "      <td>...</td>\n",
       "      <td>0.000000</td>\n",
       "      <td>1.000000</td>\n",
       "      <td>0.000000</td>\n",
       "      <td>0.000000</td>\n",
       "      <td>0.000000</td>\n",
       "      <td>0.000000</td>\n",
       "      <td>0.000000</td>\n",
       "      <td>0.000000</td>\n",
       "      <td>0.000000</td>\n",
       "      <td>0.000000</td>\n",
       "    </tr>\n",
       "    <tr>\n",
       "      <th>50%</th>\n",
       "      <td>0.000000</td>\n",
       "      <td>0.000000</td>\n",
       "      <td>1.000000</td>\n",
       "      <td>0.000000</td>\n",
       "      <td>0.000000</td>\n",
       "      <td>0.000000</td>\n",
       "      <td>0.000000</td>\n",
       "      <td>1.000000</td>\n",
       "      <td>0.000000</td>\n",
       "      <td>0.000000</td>\n",
       "      <td>...</td>\n",
       "      <td>0.000000</td>\n",
       "      <td>1.000000</td>\n",
       "      <td>0.000000</td>\n",
       "      <td>0.000000</td>\n",
       "      <td>0.000000</td>\n",
       "      <td>0.000000</td>\n",
       "      <td>0.000000</td>\n",
       "      <td>0.000000</td>\n",
       "      <td>1.000000</td>\n",
       "      <td>0.000000</td>\n",
       "    </tr>\n",
       "    <tr>\n",
       "      <th>75%</th>\n",
       "      <td>1.000000</td>\n",
       "      <td>0.000000</td>\n",
       "      <td>1.000000</td>\n",
       "      <td>0.000000</td>\n",
       "      <td>1.000000</td>\n",
       "      <td>0.000000</td>\n",
       "      <td>0.000000</td>\n",
       "      <td>1.000000</td>\n",
       "      <td>0.000000</td>\n",
       "      <td>0.000000</td>\n",
       "      <td>...</td>\n",
       "      <td>0.000000</td>\n",
       "      <td>1.000000</td>\n",
       "      <td>0.000000</td>\n",
       "      <td>0.000000</td>\n",
       "      <td>0.000000</td>\n",
       "      <td>0.000000</td>\n",
       "      <td>0.000000</td>\n",
       "      <td>0.000000</td>\n",
       "      <td>1.000000</td>\n",
       "      <td>0.000000</td>\n",
       "    </tr>\n",
       "    <tr>\n",
       "      <th>max</th>\n",
       "      <td>1.000000</td>\n",
       "      <td>1.000000</td>\n",
       "      <td>1.000000</td>\n",
       "      <td>1.000000</td>\n",
       "      <td>1.000000</td>\n",
       "      <td>1.000000</td>\n",
       "      <td>1.000000</td>\n",
       "      <td>1.000000</td>\n",
       "      <td>1.000000</td>\n",
       "      <td>1.000000</td>\n",
       "      <td>...</td>\n",
       "      <td>1.000000</td>\n",
       "      <td>1.000000</td>\n",
       "      <td>1.000000</td>\n",
       "      <td>1.000000</td>\n",
       "      <td>1.000000</td>\n",
       "      <td>1.000000</td>\n",
       "      <td>1.000000</td>\n",
       "      <td>1.000000</td>\n",
       "      <td>1.000000</td>\n",
       "      <td>1.000000</td>\n",
       "    </tr>\n",
       "  </tbody>\n",
       "</table>\n",
       "<p>8 rows × 86 columns</p>\n",
       "</div>"
      ],
      "text/plain": [
       "           HasCIS  HasMathStats    Retained  \\\n",
       "count  932.000000    932.000000  932.000000   \n",
       "mean     0.303648      0.041845    0.763948   \n",
       "std      0.460079      0.200343    0.424882   \n",
       "min      0.000000      0.000000    0.000000   \n",
       "25%      0.000000      0.000000    1.000000   \n",
       "50%      0.000000      0.000000    1.000000   \n",
       "75%      1.000000      0.000000    1.000000   \n",
       "max      1.000000      1.000000    1.000000   \n",
       "\n",
       "       MAJOR_DESC_Information Technology  MAJOR_DESC_Software Engineering  \\\n",
       "count                         932.000000                       932.000000   \n",
       "mean                            0.157725                         0.424893   \n",
       "std                             0.364679                         0.494592   \n",
       "min                             0.000000                         0.000000   \n",
       "25%                             0.000000                         0.000000   \n",
       "50%                             0.000000                         0.000000   \n",
       "75%                             0.000000                         1.000000   \n",
       "max                             1.000000                         1.000000   \n",
       "\n",
       "       MAJOR_DESC_Software Management  MAJOR_DESC_Software Systems  \\\n",
       "count                      932.000000                   932.000000   \n",
       "mean                         0.122318                     0.120172   \n",
       "std                          0.327828                     0.325337   \n",
       "min                          0.000000                     0.000000   \n",
       "25%                          0.000000                     0.000000   \n",
       "50%                          0.000000                     0.000000   \n",
       "75%                          0.000000                     0.000000   \n",
       "max                          1.000000                     1.000000   \n",
       "\n",
       "       CITIZENSHIP_IND_Y  RELIGION_DESC_Buddhist  \\\n",
       "count         932.000000              932.000000   \n",
       "mean            0.542918                0.018240   \n",
       "std             0.498422                0.133891   \n",
       "min             0.000000                0.000000   \n",
       "25%             0.000000                0.000000   \n",
       "50%             1.000000                0.000000   \n",
       "75%             1.000000                0.000000   \n",
       "max             1.000000                1.000000   \n",
       "\n",
       "       RELIGION_DESC_Chinese Religions                ...                  \\\n",
       "count                       932.000000                ...                   \n",
       "mean                          0.008584                ...                   \n",
       "std                           0.092299                ...                   \n",
       "min                           0.000000                ...                   \n",
       "25%                           0.000000                ...                   \n",
       "50%                           0.000000                ...                   \n",
       "75%                           0.000000                ...                   \n",
       "max                           1.000000                ...                   \n",
       "\n",
       "       VISA_TYPE_DESC_Legal Permanent Resident  VISA_TYPE_DESC_NA  \\\n",
       "count                               932.000000         932.000000   \n",
       "mean                                  0.063305           0.784335   \n",
       "std                                   0.243641           0.411504   \n",
       "min                                   0.000000           0.000000   \n",
       "25%                                   0.000000           1.000000   \n",
       "50%                                   0.000000           1.000000   \n",
       "75%                                   0.000000           1.000000   \n",
       "max                                   1.000000           1.000000   \n",
       "\n",
       "       VISA_TYPE_DESC_Pending immigrant  VISA_TYPE_DESC_Spouse or child of F1  \\\n",
       "count                        932.000000                            932.000000   \n",
       "mean                           0.008584                              0.001073   \n",
       "std                            0.092299                              0.032756   \n",
       "min                            0.000000                              0.000000   \n",
       "25%                            0.000000                              0.000000   \n",
       "50%                            0.000000                              0.000000   \n",
       "75%                            0.000000                              0.000000   \n",
       "max                            1.000000                              1.000000   \n",
       "\n",
       "       VISA_TYPE_DESC_Temp worker in specialty OCC  VISA_TYPE_DESC_US Citizen  \\\n",
       "count                                   932.000000                 932.000000   \n",
       "mean                                      0.051502                   0.003219   \n",
       "std                                       0.221138                   0.056674   \n",
       "min                                       0.000000                   0.000000   \n",
       "25%                                       0.000000                   0.000000   \n",
       "50%                                       0.000000                   0.000000   \n",
       "75%                                       0.000000                   0.000000   \n",
       "max                                       1.000000                   1.000000   \n",
       "\n",
       "       VISA_TYPE_DESC_Unknown  CLEANED_PREVIOUS_GPA_(2.461, 2.974]  \\\n",
       "count              932.000000                           932.000000   \n",
       "mean                 0.002146                             0.217811   \n",
       "std                  0.046299                             0.412980   \n",
       "min                  0.000000                             0.000000   \n",
       "25%                  0.000000                             0.000000   \n",
       "50%                  0.000000                             0.000000   \n",
       "75%                  0.000000                             0.000000   \n",
       "max                  1.000000                             1.000000   \n",
       "\n",
       "       CLEANED_PREVIOUS_GPA_(2.974, 3.487]  CLEANED_PREVIOUS_GPA_(3.487, 4.0]  \n",
       "count                           932.000000                         932.000000  \n",
       "mean                              0.580472                           0.151288  \n",
       "std                               0.493747                           0.358521  \n",
       "min                               0.000000                           0.000000  \n",
       "25%                               0.000000                           0.000000  \n",
       "50%                               1.000000                           0.000000  \n",
       "75%                               1.000000                           0.000000  \n",
       "max                               1.000000                           1.000000  \n",
       "\n",
       "[8 rows x 86 columns]"
      ]
     },
     "execution_count": 145,
     "metadata": {},
     "output_type": "execute_result"
    }
   ],
   "source": [
    "#output describe of each column\n",
    "gps_df.describe()"
   ]
  },
  {
   "cell_type": "code",
   "execution_count": 146,
   "metadata": {},
   "outputs": [],
   "source": [
    "#look at major\n",
    "#g = sns.FacetGrid(gps_df, col='Retained')\n",
    "#g.map(plt.hist, 'MAJOR_DESC', bins=20)"
   ]
  },
  {
   "cell_type": "markdown",
   "metadata": {},
   "source": [
    "# Split up data between train and test"
   ]
  },
  {
   "cell_type": "code",
   "execution_count": 147,
   "metadata": {},
   "outputs": [
    {
     "name": "stdout",
     "output_type": "stream",
     "text": [
      "(624, 85) (624,) (308, 85) (308,)\n"
     ]
    }
   ],
   "source": [
    "X_train, X_test, y_train, y_test = train_test_split(gps_df.drop('Retained', axis=1), gps_df.Retained, test_size=0.33, random_state=42)\n",
    "\n",
    "#output the size of test and train data\n",
    "print(X_train.shape, y_train.shape, X_test.shape, y_test.shape)"
   ]
  },
  {
   "cell_type": "markdown",
   "metadata": {},
   "source": [
    "# Logistics Regression"
   ]
  },
  {
   "cell_type": "markdown",
   "metadata": {},
   "source": [
    "## Confidence Score (ACC %)"
   ]
  },
  {
   "cell_type": "code",
   "execution_count": 148,
   "metadata": {},
   "outputs": [
    {
     "data": {
      "text/plain": [
       "78.849999999999994"
      ]
     },
     "execution_count": 148,
     "metadata": {},
     "output_type": "execute_result"
    }
   ],
   "source": [
    "log_reg = LogisticRegression()\n",
    "log_reg.fit(X_train, y_train)\n",
    "y_pred = log_reg.predict(X_test)\n",
    "acc_log = round(log_reg.score(X_train, y_train)*100, 2)\n",
    "acc_log"
   ]
  },
  {
   "cell_type": "markdown",
   "metadata": {},
   "source": [
    "## Column Coeffs"
   ]
  },
  {
   "cell_type": "code",
   "execution_count": 149,
   "metadata": {},
   "outputs": [
    {
     "data": {
      "text/html": [
       "<div>\n",
       "<style>\n",
       "    .dataframe thead tr:only-child th {\n",
       "        text-align: right;\n",
       "    }\n",
       "\n",
       "    .dataframe thead th {\n",
       "        text-align: left;\n",
       "    }\n",
       "\n",
       "    .dataframe tbody tr th {\n",
       "        vertical-align: top;\n",
       "    }\n",
       "</style>\n",
       "<table border=\"1\" class=\"dataframe\">\n",
       "  <thead>\n",
       "    <tr style=\"text-align: right;\">\n",
       "      <th></th>\n",
       "      <th>Feature</th>\n",
       "      <th>Correleation</th>\n",
       "    </tr>\n",
       "  </thead>\n",
       "  <tbody>\n",
       "    <tr>\n",
       "      <th>66</th>\n",
       "      <td>IMMIGRATION_STATUS_NRA</td>\n",
       "      <td>1.458272</td>\n",
       "    </tr>\n",
       "    <tr>\n",
       "      <th>75</th>\n",
       "      <td>VISA_TYPE_DESC_Legal Permanent Resident</td>\n",
       "      <td>0.923936</td>\n",
       "    </tr>\n",
       "    <tr>\n",
       "      <th>2</th>\n",
       "      <td>MAJOR_DESC_Information Technology</td>\n",
       "      <td>0.810139</td>\n",
       "    </tr>\n",
       "    <tr>\n",
       "      <th>31</th>\n",
       "      <td>PRIMARY_ETHNICITY_DESC_White</td>\n",
       "      <td>0.678596</td>\n",
       "    </tr>\n",
       "    <tr>\n",
       "      <th>54</th>\n",
       "      <td>STATE_PROVINCE_NY</td>\n",
       "      <td>0.597544</td>\n",
       "    </tr>\n",
       "    <tr>\n",
       "      <th>1</th>\n",
       "      <td>Retained</td>\n",
       "      <td>0.551410</td>\n",
       "    </tr>\n",
       "    <tr>\n",
       "      <th>11</th>\n",
       "      <td>RELIGION_DESC_Hindu</td>\n",
       "      <td>0.513957</td>\n",
       "    </tr>\n",
       "    <tr>\n",
       "      <th>68</th>\n",
       "      <td>IMMIGRATION_STATUS_RA</td>\n",
       "      <td>0.509617</td>\n",
       "    </tr>\n",
       "    <tr>\n",
       "      <th>36</th>\n",
       "      <td>MARITAL_STATUS_DESC_Unknown</td>\n",
       "      <td>0.484859</td>\n",
       "    </tr>\n",
       "    <tr>\n",
       "      <th>29</th>\n",
       "      <td>PRIMARY_ETHNICITY_DESC_Race/Ethnicity Unknown</td>\n",
       "      <td>0.439669</td>\n",
       "    </tr>\n",
       "    <tr>\n",
       "      <th>25</th>\n",
       "      <td>GENDER_M</td>\n",
       "      <td>0.434673</td>\n",
       "    </tr>\n",
       "    <tr>\n",
       "      <th>60</th>\n",
       "      <td>STATE_PROVINCE_TX</td>\n",
       "      <td>0.420380</td>\n",
       "    </tr>\n",
       "    <tr>\n",
       "      <th>14</th>\n",
       "      <td>RELIGION_DESC_Lutheran (non-ELCA)</td>\n",
       "      <td>0.388014</td>\n",
       "    </tr>\n",
       "    <tr>\n",
       "      <th>20</th>\n",
       "      <td>RELIGION_DESC_Other Non-Christian</td>\n",
       "      <td>0.364373</td>\n",
       "    </tr>\n",
       "    <tr>\n",
       "      <th>8</th>\n",
       "      <td>RELIGION_DESC_Chinese Religions</td>\n",
       "      <td>0.362518</td>\n",
       "    </tr>\n",
       "    <tr>\n",
       "      <th>80</th>\n",
       "      <td>VISA_TYPE_DESC_US Citizen</td>\n",
       "      <td>0.335613</td>\n",
       "    </tr>\n",
       "    <tr>\n",
       "      <th>3</th>\n",
       "      <td>MAJOR_DESC_Software Engineering</td>\n",
       "      <td>0.322484</td>\n",
       "    </tr>\n",
       "    <tr>\n",
       "      <th>77</th>\n",
       "      <td>VISA_TYPE_DESC_Pending immigrant</td>\n",
       "      <td>0.321611</td>\n",
       "    </tr>\n",
       "    <tr>\n",
       "      <th>69</th>\n",
       "      <td>VISA_TYPE_DESC_Asylee</td>\n",
       "      <td>0.318601</td>\n",
       "    </tr>\n",
       "    <tr>\n",
       "      <th>64</th>\n",
       "      <td>STATE_PROVINCE_WI</td>\n",
       "      <td>0.309893</td>\n",
       "    </tr>\n",
       "    <tr>\n",
       "      <th>39</th>\n",
       "      <td>STATE_PROVINCE_FL</td>\n",
       "      <td>0.302384</td>\n",
       "    </tr>\n",
       "    <tr>\n",
       "      <th>37</th>\n",
       "      <td>STATE_PROVINCE_CA</td>\n",
       "      <td>0.290740</td>\n",
       "    </tr>\n",
       "    <tr>\n",
       "      <th>0</th>\n",
       "      <td>HasMathStats</td>\n",
       "      <td>0.290598</td>\n",
       "    </tr>\n",
       "    <tr>\n",
       "      <th>9</th>\n",
       "      <td>RELIGION_DESC_Decline to Respond</td>\n",
       "      <td>0.284583</td>\n",
       "    </tr>\n",
       "    <tr>\n",
       "      <th>23</th>\n",
       "      <td>VETERAN_CATEGORY_DESC_NA</td>\n",
       "      <td>0.275302</td>\n",
       "    </tr>\n",
       "    <tr>\n",
       "      <th>18</th>\n",
       "      <td>RELIGION_DESC_Orthodox Christian</td>\n",
       "      <td>0.274481</td>\n",
       "    </tr>\n",
       "    <tr>\n",
       "      <th>44</th>\n",
       "      <td>STATE_PROVINCE_IL</td>\n",
       "      <td>0.272779</td>\n",
       "    </tr>\n",
       "    <tr>\n",
       "      <th>56</th>\n",
       "      <td>STATE_PROVINCE_OK</td>\n",
       "      <td>0.271612</td>\n",
       "    </tr>\n",
       "    <tr>\n",
       "      <th>76</th>\n",
       "      <td>VISA_TYPE_DESC_NA</td>\n",
       "      <td>0.238449</td>\n",
       "    </tr>\n",
       "    <tr>\n",
       "      <th>12</th>\n",
       "      <td>RELIGION_DESC_Jewish</td>\n",
       "      <td>0.236049</td>\n",
       "    </tr>\n",
       "    <tr>\n",
       "      <th>...</th>\n",
       "      <td>...</td>\n",
       "      <td>...</td>\n",
       "    </tr>\n",
       "    <tr>\n",
       "      <th>41</th>\n",
       "      <td>STATE_PROVINCE_HI</td>\n",
       "      <td>0.000000</td>\n",
       "    </tr>\n",
       "    <tr>\n",
       "      <th>24</th>\n",
       "      <td>VETERAN_CATEGORY_DESC_Other Protected Veteran ...</td>\n",
       "      <td>0.000000</td>\n",
       "    </tr>\n",
       "    <tr>\n",
       "      <th>40</th>\n",
       "      <td>STATE_PROVINCE_GA</td>\n",
       "      <td>0.000000</td>\n",
       "    </tr>\n",
       "    <tr>\n",
       "      <th>17</th>\n",
       "      <td>RELIGION_DESC_No Religious Affiliation</td>\n",
       "      <td>-0.016741</td>\n",
       "    </tr>\n",
       "    <tr>\n",
       "      <th>30</th>\n",
       "      <td>PRIMARY_ETHNICITY_DESC_Two or More Races</td>\n",
       "      <td>-0.026271</td>\n",
       "    </tr>\n",
       "    <tr>\n",
       "      <th>16</th>\n",
       "      <td>RELIGION_DESC_Muslim</td>\n",
       "      <td>-0.071568</td>\n",
       "    </tr>\n",
       "    <tr>\n",
       "      <th>19</th>\n",
       "      <td>RELIGION_DESC_Other Christian</td>\n",
       "      <td>-0.093148</td>\n",
       "    </tr>\n",
       "    <tr>\n",
       "      <th>82</th>\n",
       "      <td>CLEANED_PREVIOUS_GPA_(2.461, 2.974]</td>\n",
       "      <td>-0.102564</td>\n",
       "    </tr>\n",
       "    <tr>\n",
       "      <th>13</th>\n",
       "      <td>RELIGION_DESC_Lutheran (ELCA)</td>\n",
       "      <td>-0.123297</td>\n",
       "    </tr>\n",
       "    <tr>\n",
       "      <th>35</th>\n",
       "      <td>MARITAL_STATUS_DESC_Single</td>\n",
       "      <td>-0.132935</td>\n",
       "    </tr>\n",
       "    <tr>\n",
       "      <th>33</th>\n",
       "      <td>MARITAL_STATUS_DESC_Married</td>\n",
       "      <td>-0.153147</td>\n",
       "    </tr>\n",
       "    <tr>\n",
       "      <th>83</th>\n",
       "      <td>CLEANED_PREVIOUS_GPA_(2.974, 3.487]</td>\n",
       "      <td>-0.158438</td>\n",
       "    </tr>\n",
       "    <tr>\n",
       "      <th>63</th>\n",
       "      <td>STATE_PROVINCE_WA</td>\n",
       "      <td>-0.223712</td>\n",
       "    </tr>\n",
       "    <tr>\n",
       "      <th>22</th>\n",
       "      <td>RELIGION_DESC_Roman Catholic</td>\n",
       "      <td>-0.271449</td>\n",
       "    </tr>\n",
       "    <tr>\n",
       "      <th>79</th>\n",
       "      <td>VISA_TYPE_DESC_Temp worker in specialty OCC</td>\n",
       "      <td>-0.340354</td>\n",
       "    </tr>\n",
       "    <tr>\n",
       "      <th>57</th>\n",
       "      <td>STATE_PROVINCE_OR</td>\n",
       "      <td>-0.365554</td>\n",
       "    </tr>\n",
       "    <tr>\n",
       "      <th>84</th>\n",
       "      <td>CLEANED_PREVIOUS_GPA_(3.487, 4.0]</td>\n",
       "      <td>-0.381696</td>\n",
       "    </tr>\n",
       "    <tr>\n",
       "      <th>48</th>\n",
       "      <td>STATE_PROVINCE_MN</td>\n",
       "      <td>-0.381780</td>\n",
       "    </tr>\n",
       "    <tr>\n",
       "      <th>71</th>\n",
       "      <td>VISA_TYPE_DESC_Extraordinary ability</td>\n",
       "      <td>-0.593577</td>\n",
       "    </tr>\n",
       "    <tr>\n",
       "      <th>61</th>\n",
       "      <td>STATE_PROVINCE_Unknown</td>\n",
       "      <td>-0.608151</td>\n",
       "    </tr>\n",
       "    <tr>\n",
       "      <th>21</th>\n",
       "      <td>RELIGION_DESC_Presbyterian</td>\n",
       "      <td>-0.662529</td>\n",
       "    </tr>\n",
       "    <tr>\n",
       "      <th>47</th>\n",
       "      <td>STATE_PROVINCE_MA</td>\n",
       "      <td>-0.716850</td>\n",
       "    </tr>\n",
       "    <tr>\n",
       "      <th>15</th>\n",
       "      <td>RELIGION_DESC_Methodist</td>\n",
       "      <td>-0.729501</td>\n",
       "    </tr>\n",
       "    <tr>\n",
       "      <th>38</th>\n",
       "      <td>STATE_PROVINCE_CO</td>\n",
       "      <td>-0.810812</td>\n",
       "    </tr>\n",
       "    <tr>\n",
       "      <th>28</th>\n",
       "      <td>PRIMARY_ETHNICITY_DESC_Declined</td>\n",
       "      <td>-0.858178</td>\n",
       "    </tr>\n",
       "    <tr>\n",
       "      <th>73</th>\n",
       "      <td>VISA_TYPE_DESC_F1 student from other school</td>\n",
       "      <td>-0.905179</td>\n",
       "    </tr>\n",
       "    <tr>\n",
       "      <th>7</th>\n",
       "      <td>RELIGION_DESC_Buddhist</td>\n",
       "      <td>-0.944975</td>\n",
       "    </tr>\n",
       "    <tr>\n",
       "      <th>4</th>\n",
       "      <td>MAJOR_DESC_Software Management</td>\n",
       "      <td>-0.956062</td>\n",
       "    </tr>\n",
       "    <tr>\n",
       "      <th>81</th>\n",
       "      <td>VISA_TYPE_DESC_Unknown</td>\n",
       "      <td>-0.976957</td>\n",
       "    </tr>\n",
       "    <tr>\n",
       "      <th>70</th>\n",
       "      <td>VISA_TYPE_DESC_Dependant of H1,2 or 3</td>\n",
       "      <td>-1.213695</td>\n",
       "    </tr>\n",
       "  </tbody>\n",
       "</table>\n",
       "<p>85 rows × 2 columns</p>\n",
       "</div>"
      ],
      "text/plain": [
       "                                              Feature  Correleation\n",
       "66                             IMMIGRATION_STATUS_NRA      1.458272\n",
       "75            VISA_TYPE_DESC_Legal Permanent Resident      0.923936\n",
       "2                   MAJOR_DESC_Information Technology      0.810139\n",
       "31                       PRIMARY_ETHNICITY_DESC_White      0.678596\n",
       "54                                  STATE_PROVINCE_NY      0.597544\n",
       "1                                            Retained      0.551410\n",
       "11                                RELIGION_DESC_Hindu      0.513957\n",
       "68                              IMMIGRATION_STATUS_RA      0.509617\n",
       "36                        MARITAL_STATUS_DESC_Unknown      0.484859\n",
       "29      PRIMARY_ETHNICITY_DESC_Race/Ethnicity Unknown      0.439669\n",
       "25                                           GENDER_M      0.434673\n",
       "60                                  STATE_PROVINCE_TX      0.420380\n",
       "14                  RELIGION_DESC_Lutheran (non-ELCA)      0.388014\n",
       "20                  RELIGION_DESC_Other Non-Christian      0.364373\n",
       "8                     RELIGION_DESC_Chinese Religions      0.362518\n",
       "80                          VISA_TYPE_DESC_US Citizen      0.335613\n",
       "3                     MAJOR_DESC_Software Engineering      0.322484\n",
       "77                   VISA_TYPE_DESC_Pending immigrant      0.321611\n",
       "69                              VISA_TYPE_DESC_Asylee      0.318601\n",
       "64                                  STATE_PROVINCE_WI      0.309893\n",
       "39                                  STATE_PROVINCE_FL      0.302384\n",
       "37                                  STATE_PROVINCE_CA      0.290740\n",
       "0                                        HasMathStats      0.290598\n",
       "9                    RELIGION_DESC_Decline to Respond      0.284583\n",
       "23                           VETERAN_CATEGORY_DESC_NA      0.275302\n",
       "18                   RELIGION_DESC_Orthodox Christian      0.274481\n",
       "44                                  STATE_PROVINCE_IL      0.272779\n",
       "56                                  STATE_PROVINCE_OK      0.271612\n",
       "76                                  VISA_TYPE_DESC_NA      0.238449\n",
       "12                               RELIGION_DESC_Jewish      0.236049\n",
       "..                                                ...           ...\n",
       "41                                  STATE_PROVINCE_HI      0.000000\n",
       "24  VETERAN_CATEGORY_DESC_Other Protected Veteran ...      0.000000\n",
       "40                                  STATE_PROVINCE_GA      0.000000\n",
       "17             RELIGION_DESC_No Religious Affiliation     -0.016741\n",
       "30           PRIMARY_ETHNICITY_DESC_Two or More Races     -0.026271\n",
       "16                               RELIGION_DESC_Muslim     -0.071568\n",
       "19                      RELIGION_DESC_Other Christian     -0.093148\n",
       "82                CLEANED_PREVIOUS_GPA_(2.461, 2.974]     -0.102564\n",
       "13                      RELIGION_DESC_Lutheran (ELCA)     -0.123297\n",
       "35                         MARITAL_STATUS_DESC_Single     -0.132935\n",
       "33                        MARITAL_STATUS_DESC_Married     -0.153147\n",
       "83                CLEANED_PREVIOUS_GPA_(2.974, 3.487]     -0.158438\n",
       "63                                  STATE_PROVINCE_WA     -0.223712\n",
       "22                       RELIGION_DESC_Roman Catholic     -0.271449\n",
       "79        VISA_TYPE_DESC_Temp worker in specialty OCC     -0.340354\n",
       "57                                  STATE_PROVINCE_OR     -0.365554\n",
       "84                  CLEANED_PREVIOUS_GPA_(3.487, 4.0]     -0.381696\n",
       "48                                  STATE_PROVINCE_MN     -0.381780\n",
       "71               VISA_TYPE_DESC_Extraordinary ability     -0.593577\n",
       "61                             STATE_PROVINCE_Unknown     -0.608151\n",
       "21                         RELIGION_DESC_Presbyterian     -0.662529\n",
       "47                                  STATE_PROVINCE_MA     -0.716850\n",
       "15                            RELIGION_DESC_Methodist     -0.729501\n",
       "38                                  STATE_PROVINCE_CO     -0.810812\n",
       "28                    PRIMARY_ETHNICITY_DESC_Declined     -0.858178\n",
       "73        VISA_TYPE_DESC_F1 student from other school     -0.905179\n",
       "7                              RELIGION_DESC_Buddhist     -0.944975\n",
       "4                      MAJOR_DESC_Software Management     -0.956062\n",
       "81                             VISA_TYPE_DESC_Unknown     -0.976957\n",
       "70              VISA_TYPE_DESC_Dependant of H1,2 or 3     -1.213695\n",
       "\n",
       "[85 rows x 2 columns]"
      ]
     },
     "execution_count": 149,
     "metadata": {},
     "output_type": "execute_result"
    }
   ],
   "source": [
    "coeff_df = pd.DataFrame(gps_df.columns.delete(0)) #grabbing only column names into dataframe\n",
    "coeff_df.columns = ['Feature'] #giving column a name\n",
    "coeff_df[\"Correleation\"] = pd.Series(log_reg.coef_[0]) #grabbing coeff of each column\n",
    "coeff_df.sort_values(by='Correleation',ascending=False) #output coeff values"
   ]
  },
  {
   "cell_type": "markdown",
   "metadata": {},
   "source": [
    "# Support Vector Machine"
   ]
  },
  {
   "cell_type": "code",
   "execution_count": 150,
   "metadata": {},
   "outputs": [
    {
     "data": {
      "text/plain": [
       "76.439999999999998"
      ]
     },
     "execution_count": 150,
     "metadata": {},
     "output_type": "execute_result"
    }
   ],
   "source": [
    "svc = SVC()\n",
    "svc.fit(X_train, y_train)\n",
    "y_pred = svc.predict(X_test)\n",
    "acc_svc = round(svc.score(X_train, y_train)*100, 2)\n",
    "acc_svc #outputting the acc score from SVM model"
   ]
  },
  {
   "cell_type": "markdown",
   "metadata": {},
   "source": [
    "# K-Nearest Neighbors"
   ]
  },
  {
   "cell_type": "code",
   "execution_count": 152,
   "metadata": {},
   "outputs": [
    {
     "data": {
      "text/plain": [
       "84.290000000000006"
      ]
     },
     "execution_count": 152,
     "metadata": {},
     "output_type": "execute_result"
    }
   ],
   "source": [
    "knn = KNeighborsClassifier(n_neighbors = 3)\n",
    "knn.fit(X_train, y_train)\n",
    "y_pred = knn.predict(X_test)\n",
    "acc_knn = round(knn.score(X_train, y_train)*100, 2)\n",
    "acc_knn"
   ]
  },
  {
   "cell_type": "markdown",
   "metadata": {},
   "source": [
    "# Guassian Naive Bays"
   ]
  },
  {
   "cell_type": "code",
   "execution_count": 153,
   "metadata": {},
   "outputs": [
    {
     "data": {
      "text/plain": [
       "28.530000000000001"
      ]
     },
     "execution_count": 153,
     "metadata": {},
     "output_type": "execute_result"
    }
   ],
   "source": [
    "gaussian = GaussianNB()\n",
    "gaussian.fit(X_train, y_train)\n",
    "y_pred = gaussian.predict(X_test)\n",
    "acc_gaussian = round(gaussian.score(X_train, y_train)*100,2)\n",
    "acc_gaussian"
   ]
  },
  {
   "cell_type": "markdown",
   "metadata": {},
   "source": [
    "# Perceptron"
   ]
  },
  {
   "cell_type": "code",
   "execution_count": 154,
   "metadata": {},
   "outputs": [
    {
     "name": "stderr",
     "output_type": "stream",
     "text": [
      "/Users/daneaadland/anaconda3/lib/python3.6/site-packages/sklearn/linear_model/stochastic_gradient.py:128: FutureWarning: max_iter and tol parameters have been added in <class 'sklearn.linear_model.perceptron.Perceptron'> in 0.19. If both are left unset, they default to max_iter=5 and tol=None. If tol is not None, max_iter defaults to max_iter=1000. From 0.21, default max_iter will be 1000, and default tol will be 1e-3.\n",
      "  \"and default tol will be 1e-3.\" % type(self), FutureWarning)\n"
     ]
    },
    {
     "data": {
      "text/plain": [
       "46.310000000000002"
      ]
     },
     "execution_count": 154,
     "metadata": {},
     "output_type": "execute_result"
    }
   ],
   "source": [
    "perceptron = Perceptron()\n",
    "perceptron.fit(X_train, y_train)\n",
    "y_pred = perceptron.predict(X_test)\n",
    "acc_perceptron = round(perceptron.score(X_train, y_train)*100,2)\n",
    "acc_perceptron"
   ]
  },
  {
   "cell_type": "markdown",
   "metadata": {},
   "source": [
    "# Linear SVC"
   ]
  },
  {
   "cell_type": "code",
   "execution_count": 155,
   "metadata": {},
   "outputs": [
    {
     "data": {
      "text/plain": [
       "80.129999999999995"
      ]
     },
     "execution_count": 155,
     "metadata": {},
     "output_type": "execute_result"
    }
   ],
   "source": [
    "linear_svc = LinearSVC()\n",
    "linear_svc.fit(X_train, y_train)\n",
    "acc_linear_svc = round(linear_svc.score(X_train, y_train)*100, 2)\n",
    "acc_linear_svc\n"
   ]
  },
  {
   "cell_type": "markdown",
   "metadata": {},
   "source": [
    "# Stochastic Gradient Descent"
   ]
  },
  {
   "cell_type": "code",
   "execution_count": 156,
   "metadata": {},
   "outputs": [
    {
     "name": "stderr",
     "output_type": "stream",
     "text": [
      "/Users/daneaadland/anaconda3/lib/python3.6/site-packages/sklearn/linear_model/stochastic_gradient.py:128: FutureWarning: max_iter and tol parameters have been added in <class 'sklearn.linear_model.stochastic_gradient.SGDClassifier'> in 0.19. If both are left unset, they default to max_iter=5 and tol=None. If tol is not None, max_iter defaults to max_iter=1000. From 0.21, default max_iter will be 1000, and default tol will be 1e-3.\n",
      "  \"and default tol will be 1e-3.\" % type(self), FutureWarning)\n"
     ]
    },
    {
     "data": {
      "text/plain": [
       "78.370000000000005"
      ]
     },
     "execution_count": 156,
     "metadata": {},
     "output_type": "execute_result"
    }
   ],
   "source": [
    "sgd = SGDClassifier()\n",
    "sgd.fit(X_train, y_train)\n",
    "y_pred = sgd.predict(X_test)\n",
    "acc_sgd = round(sgd.score(X_train, y_train)*100, 2)\n",
    "acc_sgd"
   ]
  },
  {
   "cell_type": "markdown",
   "metadata": {},
   "source": [
    "# Decision Tree"
   ]
  },
  {
   "cell_type": "code",
   "execution_count": 157,
   "metadata": {},
   "outputs": [
    {
     "data": {
      "text/plain": [
       "97.120000000000005"
      ]
     },
     "execution_count": 157,
     "metadata": {},
     "output_type": "execute_result"
    }
   ],
   "source": [
    "decision_tree = DecisionTreeClassifier()\n",
    "decision_tree.fit(X_train, y_train)\n",
    "y_pred = decision_tree.predict(X_test)\n",
    "acc_decision_tree = round(decision_tree.score(X_train, y_train)*100,2)\n",
    "acc_decision_tree"
   ]
  },
  {
   "cell_type": "code",
   "execution_count": 158,
   "metadata": {},
   "outputs": [
    {
     "data": {
      "text/plain": [
       "0.66558441558441561"
      ]
     },
     "execution_count": 158,
     "metadata": {},
     "output_type": "execute_result"
    }
   ],
   "source": [
    "decision_tree.score(X_test, y_test)"
   ]
  },
  {
   "cell_type": "markdown",
   "metadata": {},
   "source": [
    "# Random Forest"
   ]
  },
  {
   "cell_type": "code",
   "execution_count": 159,
   "metadata": {},
   "outputs": [
    {
     "data": {
      "text/plain": [
       "97.120000000000005"
      ]
     },
     "execution_count": 159,
     "metadata": {},
     "output_type": "execute_result"
    }
   ],
   "source": [
    "random_forest = RandomForestClassifier(n_estimators=100)\n",
    "random_forest.fit(X_train, y_train)\n",
    "y_pred = random_forest.predict(X_test)\n",
    "random_forest.score(X_train, y_train)\n",
    "acc_random_forest = round(random_forest.score(X_train, y_train)*100, 2)\n",
    "acc_random_forest"
   ]
  },
  {
   "cell_type": "markdown",
   "metadata": {},
   "source": [
    "# Model Evaluation"
   ]
  },
  {
   "cell_type": "code",
   "execution_count": 160,
   "metadata": {},
   "outputs": [
    {
     "data": {
      "text/html": [
       "<div>\n",
       "<style>\n",
       "    .dataframe thead tr:only-child th {\n",
       "        text-align: right;\n",
       "    }\n",
       "\n",
       "    .dataframe thead th {\n",
       "        text-align: left;\n",
       "    }\n",
       "\n",
       "    .dataframe tbody tr th {\n",
       "        vertical-align: top;\n",
       "    }\n",
       "</style>\n",
       "<table border=\"1\" class=\"dataframe\">\n",
       "  <thead>\n",
       "    <tr style=\"text-align: right;\">\n",
       "      <th></th>\n",
       "      <th>Model</th>\n",
       "      <th>Score</th>\n",
       "    </tr>\n",
       "  </thead>\n",
       "  <tbody>\n",
       "    <tr>\n",
       "      <th>3</th>\n",
       "      <td>Random Forest</td>\n",
       "      <td>97.12</td>\n",
       "    </tr>\n",
       "    <tr>\n",
       "      <th>8</th>\n",
       "      <td>Decision Tree</td>\n",
       "      <td>97.12</td>\n",
       "    </tr>\n",
       "    <tr>\n",
       "      <th>1</th>\n",
       "      <td>KNN</td>\n",
       "      <td>84.29</td>\n",
       "    </tr>\n",
       "    <tr>\n",
       "      <th>7</th>\n",
       "      <td>Linear SVC</td>\n",
       "      <td>80.13</td>\n",
       "    </tr>\n",
       "    <tr>\n",
       "      <th>2</th>\n",
       "      <td>Logistic Regression</td>\n",
       "      <td>78.85</td>\n",
       "    </tr>\n",
       "    <tr>\n",
       "      <th>6</th>\n",
       "      <td>Stochastic Gradient Decent</td>\n",
       "      <td>78.37</td>\n",
       "    </tr>\n",
       "    <tr>\n",
       "      <th>0</th>\n",
       "      <td>Support Vector Machines</td>\n",
       "      <td>76.44</td>\n",
       "    </tr>\n",
       "    <tr>\n",
       "      <th>5</th>\n",
       "      <td>Perceptron</td>\n",
       "      <td>46.31</td>\n",
       "    </tr>\n",
       "    <tr>\n",
       "      <th>4</th>\n",
       "      <td>Naive Bayes</td>\n",
       "      <td>28.53</td>\n",
       "    </tr>\n",
       "  </tbody>\n",
       "</table>\n",
       "</div>"
      ],
      "text/plain": [
       "                        Model  Score\n",
       "3               Random Forest  97.12\n",
       "8               Decision Tree  97.12\n",
       "1                         KNN  84.29\n",
       "7                  Linear SVC  80.13\n",
       "2         Logistic Regression  78.85\n",
       "6  Stochastic Gradient Decent  78.37\n",
       "0     Support Vector Machines  76.44\n",
       "5                  Perceptron  46.31\n",
       "4                 Naive Bayes  28.53"
      ]
     },
     "execution_count": 160,
     "metadata": {},
     "output_type": "execute_result"
    }
   ],
   "source": [
    "models = pd.DataFrame({\n",
    "    'Model': ['Support Vector Machines', 'KNN', 'Logistic Regression', \n",
    "              'Random Forest', 'Naive Bayes', 'Perceptron', \n",
    "              'Stochastic Gradient Decent', 'Linear SVC', \n",
    "              'Decision Tree'],\n",
    "    'Score': [acc_svc, acc_knn, acc_log, \n",
    "              acc_random_forest, acc_gaussian, acc_perceptron, \n",
    "              acc_sgd, acc_linear_svc, acc_decision_tree]})\n",
    "models.sort_values(by='Score', ascending=False)"
   ]
  },
  {
   "cell_type": "code",
   "execution_count": null,
   "metadata": {},
   "outputs": [],
   "source": []
  }
 ],
 "metadata": {
  "kernelspec": {
   "display_name": "Python 3",
   "language": "python",
   "name": "python3"
  },
  "language_info": {
   "codemirror_mode": {
    "name": "ipython",
    "version": 3
   },
   "file_extension": ".py",
   "mimetype": "text/x-python",
   "name": "python",
   "nbconvert_exporter": "python",
   "pygments_lexer": "ipython3",
   "version": "3.6.3"
  }
 },
 "nbformat": 4,
 "nbformat_minor": 2
}
