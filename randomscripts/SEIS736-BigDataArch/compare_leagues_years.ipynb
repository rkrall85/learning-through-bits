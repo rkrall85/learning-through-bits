{
 "cells": [
  {
   "cell_type": "code",
   "execution_count": 1,
   "metadata": {},
   "outputs": [],
   "source": [
    "import plotly.plotly as py\n",
    "import plotly.graph_objs as go\n",
    "import plotly\n",
    "import pyodbc\n",
    "import pandas as pd\n",
    "import plotly.plotly as py\n",
    "import cufflinks as cf\n",
    "import numpy as np"
   ]
  },
  {
   "cell_type": "code",
   "execution_count": 2,
   "metadata": {},
   "outputs": [],
   "source": [
    "def database_connection():\n",
    "    conn = pyodbc.connect(\n",
    "        r'DRIVER={SQL Server Native Client 11.0};'\n",
    "        r'SERVER=localhost;'\n",
    "        r'DATABASE=seis603_pricing_project;'\n",
    "        r'UID=python_dev;'\n",
    "        r'PWD=python_dev;'\n",
    "        )\n",
    "    cursor = conn.cursor()\n",
    "    return cursor\n",
    "\n",
    "db_connection = database_connection()"
   ]
  },
  {
   "cell_type": "code",
   "execution_count": 3,
   "metadata": {},
   "outputs": [],
   "source": [
    "#items tracking\n",
    "sql = \"Select * from dbo.Baseball_Stats\"\n",
    "db_connection.execute(sql)#, params) #executing sproc\n",
    "list_items = db_connection.fetchall()#[0] #fetchone will only return first result\n",
    "#df = pd.Series(list_items)\n",
    "labels = ['pk','regular_season','post_season','year','league']\n",
    "df = pd.DataFrame.from_records(list_items, columns=labels) #create dataframe from list"
   ]
  },
  {
   "cell_type": "code",
   "execution_count": 4,
   "metadata": {},
   "outputs": [],
   "source": [
    "#converting to floats\n",
    "df['regular_season'] = df['regular_season'].astype('float')\n",
    "df['post_season'] = df['post_season'].astype('float')\n",
    "\n",
    "al = df[df.league=='AL']\n",
    "al_regular_season = al.groupby(['year'])['regular_season'].mean()\n",
    "al_post_season = al.groupby(['year'])['post_season'].mean()\n",
    "\n",
    "nl = df[df.league=='NL']\n",
    "nl_regular_season = nl.groupby(['year'])['regular_season'].mean()\n",
    "nl_post_season = nl.groupby(['year'])['post_season'].mean()\n",
    "\n",
    "\n",
    "aa = df[df.league=='AA']\n",
    "aa_regular_season = aa.groupby(['year'])['regular_season'].mean()\n",
    "aa_post_season = aa.groupby(['year'])['post_season'].mean()\n",
    "\n",
    "\n",
    "#post_season = df.groupby(['year','league'])['post_season'].mean()\n",
    "\n",
    "\n",
    "#AL_regular_season = regular_season['league'] == 'AL'\n",
    "\n",
    "#print(al_regular_season.head())\n",
    "#print(nl_regular_season.head() )"
   ]
  },
  {
   "cell_type": "code",
   "execution_count": 5,
   "metadata": {},
   "outputs": [],
   "source": [
    "al_reg_trace = go.Scatter(\n",
    "    x = al_regular_season.index,#dates\n",
    "    y = al_regular_season,\n",
    "    name = 'AL Regular Season',\n",
    "    mode = 'markers',\n",
    "    line = dict(\n",
    "        color = ('rgb(49, 86, 219)'),\n",
    "        width = 4)\n",
    ")\n",
    "\n",
    "al_post_trace = go.Scatter(\n",
    "    x = al_post_season.index,#dates\n",
    "    y = al_post_season,\n",
    "    name = 'AL Post Season',\n",
    "    mode = 'markers',\n",
    "    line = dict(\n",
    "        color = ('rgb(49, 86, 219)'),\n",
    "        width = 4)\n",
    ")\n",
    "\n",
    "nl_reg_trace = go.Scatter(\n",
    "    x = nl_regular_season.index,#dates\n",
    "    y = nl_regular_season,\n",
    "    name = 'NL Regular Season',\n",
    "    mode = 'markers',\n",
    "    line = dict(\n",
    "        color = ('rgb(205, 12, 24)'),\n",
    "        width = 4)\n",
    ")\n",
    "\n",
    "nl_post_trace = go.Scatter(\n",
    "    x = nl_post_season.index,#dates\n",
    "    y = nl_post_season,\n",
    "    name = 'NL Post Season',\n",
    "    mode = 'markers',\n",
    "    line = dict(\n",
    "        color = ('rgb(205, 12, 24)'),\n",
    "        width = 4)\n",
    ")\n",
    "\n",
    "\n",
    "aa_reg_trace = go.Scatter(\n",
    "    x = aa_regular_season.index,#dates\n",
    "    y = aa_regular_season,\n",
    "    name = 'AA Regular Season',\n",
    "    mode = 'markers',\n",
    "    line = dict(\n",
    "        color = ('rgb(102, 0, 102'),\n",
    "        width = 4)\n",
    ")\n",
    "\n",
    "aa_post_trace = go.Scatter(\n",
    "    x = aa_post_season.index,#dates\n",
    "    y = aa_post_season,\n",
    "    name = 'AA Post Season',\n",
    "    mode = 'markers',\n",
    "    line = dict(\n",
    "        color = ('rgb(102, 0, 102'),\n",
    "        width = 4)\n",
    ")"
   ]
  },
  {
   "cell_type": "code",
   "execution_count": 6,
   "metadata": {},
   "outputs": [
    {
     "data": {
      "text/html": [
       "<iframe id=\"igraph\" scrolling=\"no\" style=\"border:none;\" seamless=\"seamless\" src=\"https://plot.ly/~spottedcow85/3.embed\" height=\"525px\" width=\"100%\"></iframe>"
      ],
      "text/plain": [
       "<plotly.tools.PlotlyDisplay object>"
      ]
     },
     "execution_count": 6,
     "metadata": {},
     "output_type": "execute_result"
    }
   ],
   "source": [
    "\n",
    "#all the data i.e. the lines in the graph\n",
    "data = [al_reg_trace, nl_reg_trace, aa_reg_trace]\n",
    "\n",
    "#Creating layout of report\n",
    "layout = go.Layout(\n",
    "    title='Compare Regular Season Over the Years by League',\n",
    "    xaxis=dict(\n",
    "        title='Year',\n",
    "        zeroline = False,\n",
    "        titlefont=dict(\n",
    "            family='Courier New, monospace',\n",
    "            size=18,\n",
    "            color='#7f7f7f'\n",
    "        )\n",
    "    ),\n",
    "    yaxis=dict(\n",
    "        title='Ratio',\n",
    "        zeroline = False,\n",
    "        titlefont=dict(\n",
    "            family='Courier New, monospace',\n",
    "            size=18,\n",
    "            color='#7f7f7f'\n",
    "        )\n",
    "    ),\n",
    "    \n",
    ")\n",
    "\n",
    "\n",
    "\n",
    "fig = go.Figure(data=data, layout=layout)\n",
    "py.iplot(fig, filename='simple-line')"
   ]
  },
  {
   "cell_type": "code",
   "execution_count": 7,
   "metadata": {},
   "outputs": [
    {
     "data": {
      "text/html": [
       "<iframe id=\"igraph\" scrolling=\"no\" style=\"border:none;\" seamless=\"seamless\" src=\"https://plot.ly/~spottedcow85/3.embed\" height=\"525px\" width=\"100%\"></iframe>"
      ],
      "text/plain": [
       "<plotly.tools.PlotlyDisplay object>"
      ]
     },
     "execution_count": 7,
     "metadata": {},
     "output_type": "execute_result"
    }
   ],
   "source": [
    "#all the data i.e. the lines in the graph\n",
    "data = [al_post_trace, nl_post_trace, aa_post_trace]\n",
    "\n",
    "#Creating layout of report\n",
    "layout = go.Layout(\n",
    "    title='Compare Post Season Over the Years by League',\n",
    "    xaxis=dict(\n",
    "        title='Year',\n",
    "        zeroline = False,\n",
    "        titlefont=dict(\n",
    "            family='Courier New, monospace',\n",
    "            size=18,\n",
    "            color='#7f7f7f'\n",
    "        )\n",
    "    ),\n",
    "    yaxis=dict(\n",
    "        title='Ratio',\n",
    "        zeroline = False,\n",
    "        titlefont=dict(\n",
    "            family='Courier New, monospace',\n",
    "            size=18,\n",
    "            color='#7f7f7f'\n",
    "        )\n",
    "    ),\n",
    "    \n",
    ")\n",
    "\n",
    "\n",
    "\n",
    "fig = go.Figure(data=data, layout=layout)\n",
    "py.iplot(fig, filename='simple-line')"
   ]
  },
  {
   "cell_type": "code",
   "execution_count": null,
   "metadata": {},
   "outputs": [],
   "source": []
  }
 ],
 "metadata": {
  "kernelspec": {
   "display_name": "Python 3",
   "language": "python",
   "name": "python3"
  },
  "language_info": {
   "codemirror_mode": {
    "name": "ipython",
    "version": 3
   },
   "file_extension": ".py",
   "mimetype": "text/x-python",
   "name": "python",
   "nbconvert_exporter": "python",
   "pygments_lexer": "ipython3",
   "version": "3.6.1"
  }
 },
 "nbformat": 4,
 "nbformat_minor": 2
}
