{
 "cells": [
  {
   "cell_type": "code",
   "execution_count": 1,
   "metadata": {},
   "outputs": [],
   "source": [
    "import plotly.plotly as py\n",
    "import plotly.graph_objs as go\n",
    "import plotly\n",
    "import pyodbc\n",
    "import pandas as pd\n",
    "import plotly.plotly as py\n",
    "import cufflinks as cf\n",
    "import numpy as np"
   ]
  },
  {
   "cell_type": "code",
   "execution_count": 2,
   "metadata": {},
   "outputs": [],
   "source": [
    "def database_connection():\n",
    "    conn = pyodbc.connect(\n",
    "        r'DRIVER={SQL Server Native Client 11.0};'\n",
    "        r'SERVER=localhost;'\n",
    "        r'DATABASE=seis603_pricing_project;'\n",
    "        r'UID=python_dev;'\n",
    "        r'PWD=python_dev;'\n",
    "        )\n",
    "    cursor = conn.cursor()\n",
    "    return cursor\n",
    "\n",
    "db_connection = database_connection()"
   ]
  },
  {
   "cell_type": "code",
   "execution_count": 3,
   "metadata": {},
   "outputs": [
    {
     "name": "stdout",
     "output_type": "stream",
     "text": [
      "                   pk  regular_season  post_season  year league\n",
      "0     foutzda011886AA        0.719298     0.500000  1886     AA\n",
      "1      penaal011995NL        1.000000     1.000000  1995     NL\n",
      "2      gurala011980AL        0.642857     1.000000  1980     AL\n",
      "3     johnsra051995AL        0.900000     1.000000  1995     AL\n",
      "4     doteloc011999NL        0.727273     1.000000  1999     NL\n",
      "5     martiti011983AL        0.750000     1.000000  1983     AL\n",
      "6     vargaja012014AL        0.523810     1.000000  2014     AL\n",
      "7     myersbr012008NL        0.434783     1.000000  2008     NL\n",
      "8     arrieja012015NL        0.785714     1.000000  2015     NL\n",
      "9     larsedo011962NL        0.555556     1.000000  1962     NL\n",
      "10    garceri011999AL        0.833333     1.000000  1999     AL\n",
      "11    candejo011979NL        0.608696     0.500000  1979     NL\n",
      "12    suppaje012004NL        0.640000     0.666667  2004     NL\n",
      "13    adamsba011909NL        0.800000     1.000000  1909     NL\n",
      "14    stiveja011892NL        0.686275     1.000000  1892     NL\n",
      "15    walberu011929AL        0.620690     1.000000  1929     AL\n",
      "16    guidrro011978AL        0.892857     1.000000  1978     AL\n",
      "17    garresc011989NL        0.736842     1.000000  1989     NL\n",
      "18     motagu012006NL        1.000000     1.000000  2006     NL\n",
      "19    brownmo011906NL        0.812500     0.333333  1906     NL\n",
      "20    lackejo012002AL        0.692308     1.000000  2002     AL\n",
      "21    muldema012002AL        0.730769     0.500000  2002     AL\n",
      "22    brilene011967NL        0.736842     1.000000  1967     NL\n",
      "23    draveda011987NL        0.454545     0.500000  1987     NL\n",
      "24    padilvi012009NL        1.000000     1.000000  2009     NL\n",
      "25    perryga011971NL        0.571429     0.500000  1971     NL\n",
      "26    blachty012016NL        1.000000     1.000000  2016     NL\n",
      "27    clemero022004NL        0.818182     0.666667  2004     NL\n",
      "28    jacksda021993NL        0.521739     1.000000  1993     NL\n",
      "29    stewada011993AL        0.600000     1.000000  1993     AL\n",
      "...               ...             ...          ...   ...    ...\n",
      "1043  hallaro012011NL        0.760000     0.500000  2011     NL\n",
      "1044  petityu012014NL        0.500000     1.000000  2014     NL\n",
      "1045  lovetto011890NL        0.731707     0.500000  1890     NL\n",
      "1046  bendech011910AL        0.821429     0.500000  1910     AL\n",
      "1047  morrima012002NL        0.653846     1.000000  2002     NL\n",
      "1048  cuellmi011969AL        0.676471     1.000000  1969     AL\n",
      "1049  welchbo011978NL        0.636364     1.000000  1978     NL\n",
      "1050   johnto011981AL        0.529412     1.000000  1981     AL\n",
      "1051  beckejo022008AL        0.545455     1.000000  2008     AL\n",
      "1052  brechha011944NL        0.761905     1.000000  1944     NL\n",
      "1053   maysca011918AL        0.617647     1.000000  1918     AL\n",
      "1054   kingsi011888AA        0.681818     0.250000  1888     AA\n",
      "1055  schmija012002NL        0.619048     1.000000  2002     NL\n",
      "1056  wyattwh011941NL        0.687500     0.500000  1941     NL\n",
      "1057  alfonan012004NL        0.600000     1.000000  2004     NL\n",
      "1058  hoffmtr011998NL        0.666667     1.000000  1998     NL\n",
      "1059  hawkian011984NL        0.470588     0.500000  1984     NL\n",
      "1060   coneda011992AL        0.571429     0.500000  1992     AL\n",
      "1061  messean011974NL        0.769231     1.000000  1974     NL\n",
      "1062  coombja011910AL        0.775000     1.000000  1910     AL\n",
      "1063  nolanga011976NL        0.625000     1.000000  1976     NL\n",
      "1064  lestejo012008AL        0.727273     1.000000  2008     AL\n",
      "1065  stroppe012012AL        0.714286     1.000000  2012     AL\n",
      "1066   byrdpa012005AL        0.521739     1.000000  2005     AL\n",
      "1067  clemema012003NL        0.538462     1.000000  2003     NL\n",
      "1068  earnsge011930AL        0.628571     1.000000  1930     AL\n",
      "1069  leagubr012014NL        0.400000     1.000000  2014     NL\n",
      "1070  pennohe011923AL        0.760000     1.000000  1923     AL\n",
      "1071  violafr011987AL        0.629630     0.750000  1987     AL\n",
      "1072  billich012008NL        0.615385     1.000000  2008     NL\n",
      "\n",
      "[1073 rows x 5 columns]\n"
     ]
    }
   ],
   "source": [
    "#items tracking\n",
    "sql = \"Select * from dbo.Baseball_Stats\"\n",
    "db_connection.execute(sql)#, params) #executing sproc\n",
    "list_items = db_connection.fetchall()#[0] #fetchone will only return first result\n",
    "#df = pd.Series(list_items)\n",
    "labels = ['pk','regular_season','post_season','year','league']\n",
    "df = pd.DataFrame.from_records(list_items, columns=labels) #create dataframe from list\n",
    "print(df)    "
   ]
  },
  {
   "cell_type": "code",
   "execution_count": 4,
   "metadata": {},
   "outputs": [],
   "source": [
    "year = df[\"year\"].unique()\n",
    "#converting to floats\n",
    "df['regular_season'] = df['regular_season'].astype('float')\n",
    "df['post_season'] = df['post_season'].astype('float')\n",
    "\n",
    "#calc_pd.groupby('Price Date')['Item Price'].mean()\n",
    "\n",
    "\n",
    "AL = df.loc[df['league'] == 'AL']\n",
    "AL_avg = AL[['regular_season', 'post_season']].mean()\n",
    "NL = df.loc[df['league'] == 'NL']\n",
    "NL_avg = NL[['regular_season', 'post_season']].mean()\n",
    "AA = df.loc[df['league'] == 'AA']\n",
    "AA_avg = AA[['regular_season', 'post_season']].mean()"
   ]
  },
  {
   "cell_type": "raw",
   "metadata": {},
   "source": [
    "\n"
   ]
  },
  {
   "cell_type": "code",
   "execution_count": 5,
   "metadata": {},
   "outputs": [],
   "source": [
    "AL_trace = go.Scatter(\n",
    "    x = AL_avg['regular_season'],#dates\n",
    "    y = AL_avg['post_season'],\n",
    "    name = 'AL',\n",
    "    mode = 'markers',\n",
    "    line = dict(\n",
    "        color = ('rgb(49, 86, 219)'),\n",
    "        width = 4)\n",
    ")\n",
    "\n",
    "\n",
    "NL_trace = go.Scatter(\n",
    "    x = NL_avg['regular_season'],#dates\n",
    "    y = NL_avg['post_season'],\n",
    "    name = 'NL',\n",
    "    mode = 'markers',\n",
    "    line = dict(\n",
    "        color = ('rgb(205, 12, 24)'),\n",
    "        width = 4)\n",
    ")\n",
    "\n",
    "AA_trace = go.Scatter(\n",
    "    x = AA_avg['regular_season'],#dates\n",
    "    y = AA_avg['post_season'],\n",
    "    name = 'AA',\n",
    "    mode = 'markers',\n",
    "    line = dict(\n",
    "        color = ('rgb(102, 0, 102'),\n",
    "        width = 4)\n",
    ")"
   ]
  },
  {
   "cell_type": "code",
   "execution_count": 6,
   "metadata": {},
   "outputs": [
    {
     "name": "stdout",
     "output_type": "stream",
     "text": [
      "{'type': 'scatter', 'x': 0.64522068561892787, 'y': 0.89885590724467346, 'name': 'AL', 'mode': 'markers', 'line': {'color': 'rgb(49, 86, 219)', 'width': 4}}\n"
     ]
    }
   ],
   "source": [
    "print(AL_trace)"
   ]
  },
  {
   "cell_type": "code",
   "execution_count": 7,
   "metadata": {},
   "outputs": [
    {
     "data": {
      "text/html": [
       "<iframe id=\"igraph\" scrolling=\"no\" style=\"border:none;\" seamless=\"seamless\" src=\"https://plot.ly/~spottedcow85/3.embed\" height=\"525px\" width=\"100%\"></iframe>"
      ],
      "text/plain": [
       "<plotly.tools.PlotlyDisplay object>"
      ]
     },
     "execution_count": 7,
     "metadata": {},
     "output_type": "execute_result"
    }
   ],
   "source": [
    "\n",
    "#all the data i.e. the lines in the graph\n",
    "data = [AL_trace, NL_trace, AA_trace]\n",
    "\n",
    "#Creating layout of report\n",
    "layout = go.Layout(\n",
    "    title='Compare Regular Season Vs Post Season Among Leagues',\n",
    "    xaxis=dict(\n",
    "        title='Regluar Season',\n",
    "        zeroline = False,\n",
    "        titlefont=dict(\n",
    "            family='Courier New, monospace',\n",
    "            size=18,\n",
    "            color='#7f7f7f'\n",
    "        )\n",
    "    ),\n",
    "    yaxis=dict(\n",
    "        title='Post Season',\n",
    "        zeroline = False,\n",
    "        titlefont=dict(\n",
    "            family='Courier New, monospace',\n",
    "            size=18,\n",
    "            color='#7f7f7f'\n",
    "        )\n",
    "    ),\n",
    "    \n",
    ")\n",
    "fig = go.Figure(data=data, layout=layout)\n",
    "py.iplot(fig, filename='simple-line')"
   ]
  },
  {
   "cell_type": "code",
   "execution_count": null,
   "metadata": {},
   "outputs": [],
   "source": []
  }
 ],
 "metadata": {
  "kernelspec": {
   "display_name": "Python 3",
   "language": "python",
   "name": "python3"
  },
  "language_info": {
   "codemirror_mode": {
    "name": "ipython",
    "version": 3
   },
   "file_extension": ".py",
   "mimetype": "text/x-python",
   "name": "python",
   "nbconvert_exporter": "python",
   "pygments_lexer": "ipython3",
   "version": "3.6.1"
  }
 },
 "nbformat": 4,
 "nbformat_minor": 2
}
