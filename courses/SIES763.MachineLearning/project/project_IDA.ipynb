{
 "cells": [
  {
   "cell_type": "markdown",
   "metadata": {},
   "source": [
    "# Table of contents\n",
    "<a href='#1.-Introduction'>Section 1 - Intro</a><br>\n",
    "<a href='#2.-Retrieving-The-Data'>Section 2 - Retrieving The Data</a><br>\n",
    "<a href='#3.-Glimpse-Of-Data'>Section 3 - Glimpse Of Data</a><br>\n",
    "<a href='#4-Check-For-Missing-Data'>Section 4 - Missing Data</a><br/>\n",
    "<a href='#5.-Data-Exploration'>Section 5 - Data Exploration</a><br/>"
   ]
  },
  {
   "cell_type": "markdown",
   "metadata": {},
   "source": [
    "# 1. Introduction"
   ]
  },
  {
   "cell_type": "markdown",
   "metadata": {},
   "source": [
    "The data was obtained from the University of St. Thomas' student information system (Banner). The data contains a variety of information about GPS students, such as enrollment, demographic, and academic success. The data has been de-identified in order to maintain FERPA guidelines."
   ]
  },
  {
   "cell_type": "markdown",
   "metadata": {},
   "source": [
    "<a id='section2'></a>\n",
    "# 2. Retrieving the Data"
   ]
  },
  {
   "cell_type": "code",
   "execution_count": 1,
   "metadata": {},
   "outputs": [
    {
     "name": "stdout",
     "output_type": "stream",
     "text": [
      "Size of GPS Retention (933, 30)\n"
     ]
    }
   ],
   "source": [
    "import pandas as pd #used for data analysis\n",
    "import numpy as snp # package for scientific computing with python\n",
    "import matplotlib #package for mapping\n",
    "import matplotlib.pyplot as plt #plotting\n",
    "import seaborn as sns #for making plots with seaborn\n",
    "import plotly.plotly as py\n",
    "import plotly.graph_objs as go\n",
    "\n",
    "color = sns.color_palette()\n",
    "\n",
    "import os\n",
    "input_file = pd.ExcelFile(\".\\data\\GPSRetention.xlsx\")\n",
    "GPSRetention = input_file.parse(\"Page1\")\n",
    "print('Size of GPS Retention',GPSRetention.shape)"
   ]
  },
  {
   "cell_type": "markdown",
   "metadata": {},
   "source": [
    "# 3. Glimpse Of Data"
   ]
  },
  {
   "cell_type": "code",
   "execution_count": 17,
   "metadata": {},
   "outputs": [
    {
     "data": {
      "text/html": [
       "<div>\n",
       "<style>\n",
       "    .dataframe thead tr:only-child th {\n",
       "        text-align: right;\n",
       "    }\n",
       "\n",
       "    .dataframe thead th {\n",
       "        text-align: left;\n",
       "    }\n",
       "\n",
       "    .dataframe tbody tr th {\n",
       "        vertical-align: top;\n",
       "    }\n",
       "</style>\n",
       "<table border=\"1\" class=\"dataframe\">\n",
       "  <thead>\n",
       "    <tr style=\"text-align: right;\">\n",
       "      <th></th>\n",
       "      <th>Fake_ID</th>\n",
       "      <th>STATUS_DESC</th>\n",
       "      <th>PROGRAM_DESC</th>\n",
       "      <th>MAJOR_DESC</th>\n",
       "      <th>SECOND_MAJOR_DESC</th>\n",
       "      <th>OUTCOME_NUMBER</th>\n",
       "      <th>OUTCOME_AWARDED_IND</th>\n",
       "      <th>CREDITS_ATTEMPTED</th>\n",
       "      <th>CREDITS_EARNED</th>\n",
       "      <th>GPA</th>\n",
       "      <th>...</th>\n",
       "      <th>NATION</th>\n",
       "      <th>PASSPORT_ISSUE_NATION_DESC</th>\n",
       "      <th>IMMIGRATION_STATUS</th>\n",
       "      <th>NATION_OF_BIRTH_DESC</th>\n",
       "      <th>NATION_OF_CITIZENSHIP_DESC</th>\n",
       "      <th>VISA_TYPE_DESC</th>\n",
       "      <th>GPS_Start_Term_</th>\n",
       "      <th>GPS_Last_Term_</th>\n",
       "      <th>Took_Non_GPS_Course_Within_Year?</th>\n",
       "      <th>Retained?</th>\n",
       "    </tr>\n",
       "  </thead>\n",
       "  <tbody>\n",
       "    <tr>\n",
       "      <th>0</th>\n",
       "      <td>497255</td>\n",
       "      <td>Awarded</td>\n",
       "      <td>MS - Software Engineering</td>\n",
       "      <td>Software Management</td>\n",
       "      <td>NaN</td>\n",
       "      <td>1</td>\n",
       "      <td>A</td>\n",
       "      <td>42.0</td>\n",
       "      <td>42.0</td>\n",
       "      <td>3.800</td>\n",
       "      <td>...</td>\n",
       "      <td>US</td>\n",
       "      <td>NaN</td>\n",
       "      <td>NaN</td>\n",
       "      <td>NaN</td>\n",
       "      <td>NaN</td>\n",
       "      <td>NaN</td>\n",
       "      <td>201340</td>\n",
       "      <td>201620</td>\n",
       "      <td>0</td>\n",
       "      <td>1</td>\n",
       "    </tr>\n",
       "    <tr>\n",
       "      <th>1</th>\n",
       "      <td>532137</td>\n",
       "      <td>Sought/Tracked</td>\n",
       "      <td>MS - Software Engineering</td>\n",
       "      <td>Data Science</td>\n",
       "      <td>NaN</td>\n",
       "      <td>2</td>\n",
       "      <td>NaN</td>\n",
       "      <td>9.0</td>\n",
       "      <td>9.0</td>\n",
       "      <td>3.800</td>\n",
       "      <td>...</td>\n",
       "      <td>US</td>\n",
       "      <td>NaN</td>\n",
       "      <td>NaN</td>\n",
       "      <td>NaN</td>\n",
       "      <td>United States of America</td>\n",
       "      <td>NaN</td>\n",
       "      <td>201620</td>\n",
       "      <td>201720</td>\n",
       "      <td>0</td>\n",
       "      <td>0</td>\n",
       "    </tr>\n",
       "    <tr>\n",
       "      <th>2</th>\n",
       "      <td>556634</td>\n",
       "      <td>Sought/Tracked</td>\n",
       "      <td>MS - Software Engineering</td>\n",
       "      <td>Software Engineering</td>\n",
       "      <td>NaN</td>\n",
       "      <td>1</td>\n",
       "      <td>NaN</td>\n",
       "      <td>0.0</td>\n",
       "      <td>0.0</td>\n",
       "      <td>0.000</td>\n",
       "      <td>...</td>\n",
       "      <td>US</td>\n",
       "      <td>India</td>\n",
       "      <td>NRA</td>\n",
       "      <td>India</td>\n",
       "      <td>India</td>\n",
       "      <td>Academic Student</td>\n",
       "      <td>201620</td>\n",
       "      <td>201620</td>\n",
       "      <td>0</td>\n",
       "      <td>0</td>\n",
       "    </tr>\n",
       "    <tr>\n",
       "      <th>3</th>\n",
       "      <td>402342</td>\n",
       "      <td>Awarded</td>\n",
       "      <td>MS - Software Engineering</td>\n",
       "      <td>Information Technology</td>\n",
       "      <td>NaN</td>\n",
       "      <td>2</td>\n",
       "      <td>A</td>\n",
       "      <td>36.0</td>\n",
       "      <td>36.0</td>\n",
       "      <td>2.925</td>\n",
       "      <td>...</td>\n",
       "      <td>US</td>\n",
       "      <td>China</td>\n",
       "      <td>NRA</td>\n",
       "      <td>China</td>\n",
       "      <td>China</td>\n",
       "      <td>NaN</td>\n",
       "      <td>201540</td>\n",
       "      <td>201720</td>\n",
       "      <td>0</td>\n",
       "      <td>1</td>\n",
       "    </tr>\n",
       "    <tr>\n",
       "      <th>4</th>\n",
       "      <td>526883</td>\n",
       "      <td>Awarded</td>\n",
       "      <td>MS - Software Engineering</td>\n",
       "      <td>Data Science</td>\n",
       "      <td>NaN</td>\n",
       "      <td>1</td>\n",
       "      <td>A</td>\n",
       "      <td>36.0</td>\n",
       "      <td>36.0</td>\n",
       "      <td>3.975</td>\n",
       "      <td>...</td>\n",
       "      <td>US</td>\n",
       "      <td>NaN</td>\n",
       "      <td>NaN</td>\n",
       "      <td>NaN</td>\n",
       "      <td>United States of America</td>\n",
       "      <td>NaN</td>\n",
       "      <td>201440</td>\n",
       "      <td>201740</td>\n",
       "      <td>0</td>\n",
       "      <td>1</td>\n",
       "    </tr>\n",
       "  </tbody>\n",
       "</table>\n",
       "<p>5 rows × 30 columns</p>\n",
       "</div>"
      ],
      "text/plain": [
       "   Fake_ID     STATUS_DESC               PROGRAM_DESC              MAJOR_DESC  \\\n",
       "0   497255         Awarded  MS - Software Engineering     Software Management   \n",
       "1   532137  Sought/Tracked  MS - Software Engineering            Data Science   \n",
       "2   556634  Sought/Tracked  MS - Software Engineering    Software Engineering   \n",
       "3   402342         Awarded  MS - Software Engineering  Information Technology   \n",
       "4   526883         Awarded  MS - Software Engineering            Data Science   \n",
       "\n",
       "  SECOND_MAJOR_DESC  OUTCOME_NUMBER OUTCOME_AWARDED_IND  CREDITS_ATTEMPTED  \\\n",
       "0               NaN               1                   A               42.0   \n",
       "1               NaN               2                 NaN                9.0   \n",
       "2               NaN               1                 NaN                0.0   \n",
       "3               NaN               2                   A               36.0   \n",
       "4               NaN               1                   A               36.0   \n",
       "\n",
       "   CREDITS_EARNED    GPA    ...    NATION PASSPORT_ISSUE_NATION_DESC  \\\n",
       "0            42.0  3.800    ...        US                        NaN   \n",
       "1             9.0  3.800    ...        US                        NaN   \n",
       "2             0.0  0.000    ...        US                      India   \n",
       "3            36.0  2.925    ...        US                      China   \n",
       "4            36.0  3.975    ...        US                        NaN   \n",
       "\n",
       "  IMMIGRATION_STATUS NATION_OF_BIRTH_DESC NATION_OF_CITIZENSHIP_DESC  \\\n",
       "0                NaN                  NaN                        NaN   \n",
       "1                NaN                  NaN   United States of America   \n",
       "2                NRA                India                      India   \n",
       "3                NRA                China                      China   \n",
       "4                NaN                  NaN   United States of America   \n",
       "\n",
       "     VISA_TYPE_DESC GPS_Start_Term_ GPS_Last_Term_  \\\n",
       "0               NaN          201340         201620   \n",
       "1               NaN          201620         201720   \n",
       "2  Academic Student          201620         201620   \n",
       "3               NaN          201540         201720   \n",
       "4               NaN          201440         201740   \n",
       "\n",
       "  Took_Non_GPS_Course_Within_Year? Retained?  \n",
       "0                                0         1  \n",
       "1                                0         0  \n",
       "2                                0         0  \n",
       "3                                0         1  \n",
       "4                                0         1  \n",
       "\n",
       "[5 rows x 30 columns]"
      ]
     },
     "execution_count": 17,
     "metadata": {},
     "output_type": "execute_result"
    }
   ],
   "source": [
    "GPSRetention.head()"
   ]
  },
  {
   "cell_type": "code",
   "execution_count": 135,
   "metadata": {},
   "outputs": [
    {
     "data": {
      "text/plain": [
       "array([[497255, 'Awarded', 'MS - Software Engineering', ..., 201620, 0, 1],\n",
       "       [532137, 'Sought/Tracked', 'MS - Software Engineering', ..., 201720,\n",
       "        0, 0],\n",
       "       [556634, 'Sought/Tracked', 'MS - Software Engineering', ..., 201620,\n",
       "        0, 0],\n",
       "       ..., \n",
       "       [556401, 'Pending', 'MS - Software Engineering', ..., 201820, 0, 1],\n",
       "       [446895, 'Awarded', 'MS - Software Engineering', ..., 201320, 1, 1],\n",
       "       [479389, 'Sought/Tracked', 'MS - Software Engineering', ..., 201820,\n",
       "        1, 1]], dtype=object)"
      ]
     },
     "execution_count": 135,
     "metadata": {},
     "output_type": "execute_result"
    }
   ],
   "source": [
    "GPSRetention.values"
   ]
  },
  {
   "cell_type": "markdown",
   "metadata": {},
   "source": [
    "# 4 Check For Missing Data\n"
   ]
  },
  {
   "cell_type": "code",
   "execution_count": 68,
   "metadata": {},
   "outputs": [
    {
     "name": "stdout",
     "output_type": "stream",
     "text": [
      "                            Total    Percent\n",
      "VETERAN_CATEGORY_DESC         931  99.785638\n",
      "SECOND_MAJOR_DESC             904  96.891747\n",
      "VISA_TYPE_DESC                726  77.813505\n",
      "IMMIGRATION_STATUS            679  72.775991\n",
      "PASSPORT_ISSUE_NATION_DESC    647  69.346195\n",
      "NATION_OF_BIRTH_DESC          595  63.772776\n",
      "OUTCOME_AWARDED_IND           346  37.084673\n",
      "NATION_OF_CITIZENSHIP_DESC    345  36.977492\n"
     ]
    },
    {
     "name": "stderr",
     "output_type": "stream",
     "text": [
      "C:\\ProgramData\\Anaconda3\\lib\\site-packages\\ipykernel_launcher.py:7: UserWarning:\n",
      "\n",
      "Boolean Series key will be reindexed to match DataFrame index.\n",
      "\n"
     ]
    }
   ],
   "source": [
    "sum_total = GPSRetention.isnull().sum().sort_values(ascending= False)\n",
    "count_total = GPSRetention.isnull().count().sort_values(ascending= False)\n",
    "percent = (sum_total/count_total)*100\n",
    "\n",
    "missing_gps_data = pd.concat([sum_total, percent], axis =1, keys=['Total','Percent'])\n",
    "#giving warning need to fix this\n",
    "missing_gps_data = missing_gps_data[(sum_total != 0)] #removing zeroes\n",
    "\n",
    "#list(missing_gps_data.columns.values) #output column names\n",
    "\n",
    "print(missing_gps_data.sort_values(by=['Percent'],ascending=False))"
   ]
  },
  {
   "cell_type": "markdown",
   "metadata": {},
   "source": [
    "# 5. Data Exploration"
   ]
  },
  {
   "cell_type": "markdown",
   "metadata": {},
   "source": [
    "## 5.1 Distribution of Major Desc"
   ]
  },
  {
   "cell_type": "code",
   "execution_count": 136,
   "metadata": {},
   "outputs": [
    {
     "data": {
      "text/html": [
       "<iframe id=\"igraph\" scrolling=\"no\" style=\"border:none;\" seamless=\"seamless\" src=\"https://plot.ly/~spottedcow85/14.embed\" height=\"525px\" width=\"100%\"></iframe>"
      ],
      "text/plain": [
       "<plotly.tools.PlotlyDisplay object>"
      ]
     },
     "execution_count": 136,
     "metadata": {},
     "output_type": "execute_result"
    }
   ],
   "source": [
    "temp = GPSRetention[\"MAJOR_DESC\"].value_counts()\n",
    "#print(\"Total number of degree types : \",len(temp))\n",
    "#print(\"Types and Counts:\")\n",
    "#print(temp)\n",
    "\n",
    "temp_df = pd.DataFrame({'labels': temp.index,\n",
    "                      'values': temp.values\n",
    "                  })\n",
    "\n",
    "trace = go.Pie(temp_df)\n",
    "py.iplot([trace], filename='basic_pie_char')"
   ]
  },
  {
   "cell_type": "markdown",
   "metadata": {},
   "source": [
    "## 5.2 Distibution of Status Desc"
   ]
  },
  {
   "cell_type": "code",
   "execution_count": 141,
   "metadata": {},
   "outputs": [
    {
     "data": {
      "text/html": [
       "<iframe id=\"igraph\" scrolling=\"no\" style=\"border:none;\" seamless=\"seamless\" src=\"https://plot.ly/~spottedcow85/14.embed\" height=\"525px\" width=\"100%\"></iframe>"
      ],
      "text/plain": [
       "<plotly.tools.PlotlyDisplay object>"
      ]
     },
     "execution_count": 141,
     "metadata": {},
     "output_type": "execute_result"
    }
   ],
   "source": [
    "temp = GPSRetention[\"STATUS_DESC\"].value_counts()\n",
    "\n",
    "temp_df = pd.DataFrame({'labels': temp.index,\n",
    "                      'values': temp.values\n",
    "                  })\n",
    "\n",
    "trace = go.Pie(temp_df)\n",
    "py.iplot([trace], filename='basic_pie_char')"
   ]
  },
  {
   "cell_type": "markdown",
   "metadata": {},
   "source": [
    "## 5.3 Distrbution of GPA"
   ]
  },
  {
   "cell_type": "code",
   "execution_count": 124,
   "metadata": {},
   "outputs": [
    {
     "data": {
      "image/png": "[encoded data removed]",
      "text/plain": [
       "<matplotlib.figure.Figure at 0xd910e10>"
      ]
     },
     "metadata": {},
     "output_type": "display_data"
    }
   ],
   "source": [
    "plt.figure(figsize=(12,5))\n",
    "plt.title(\"Distribution of GPA\")\n",
    "x = GPSRetention[\"GPA\"].dropna()\n",
    "sns_plot = sns.distplot(x)\n",
    "plt.show()"
   ]
  },
  {
   "cell_type": "markdown",
   "metadata": {},
   "source": [
    "## 5.4 Distrbution of citizenship"
   ]
  },
  {
   "cell_type": "code",
   "execution_count": 140,
   "metadata": {},
   "outputs": [
    {
     "data": {
      "text/html": [
       "<iframe id=\"igraph\" scrolling=\"no\" style=\"border:none;\" seamless=\"seamless\" src=\"https://plot.ly/~spottedcow85/14.embed\" height=\"525px\" width=\"100%\"></iframe>"
      ],
      "text/plain": [
       "<plotly.tools.PlotlyDisplay object>"
      ]
     },
     "execution_count": 140,
     "metadata": {},
     "output_type": "execute_result"
    }
   ],
   "source": [
    "temp = GPSRetention[\"CITIZENSHIP_DESC\"].value_counts()\n",
    "\n",
    "temp_df = pd.DataFrame({'labels': temp.index,\n",
    "                      'values': temp.values\n",
    "                  })\n",
    "\n",
    "trace = go.Pie(temp_df)\n",
    "py.iplot([trace], filename='basic_pie_char')"
   ]
  },
  {
   "cell_type": "markdown",
   "metadata": {},
   "source": [
    "## 5.5 Distbrution of Gender"
   ]
  },
  {
   "cell_type": "code",
   "execution_count": 138,
   "metadata": {},
   "outputs": [
    {
     "data": {
      "text/html": [
       "<iframe id=\"igraph\" scrolling=\"no\" style=\"border:none;\" seamless=\"seamless\" src=\"https://plot.ly/~spottedcow85/14.embed\" height=\"525px\" width=\"100%\"></iframe>"
      ],
      "text/plain": [
       "<plotly.tools.PlotlyDisplay object>"
      ]
     },
     "execution_count": 138,
     "metadata": {},
     "output_type": "execute_result"
    }
   ],
   "source": [
    "temp = GPSRetention[\"GENDER\"].value_counts()\n",
    "\n",
    "temp_df = pd.DataFrame({'labels': temp.index,\n",
    "                      'values': temp.values\n",
    "                  })\n",
    "\n",
    "trace = go.Pie(temp_df)\n",
    "py.iplot([trace], filename='basic_pie_char')"
   ]
  },
  {
   "cell_type": "markdown",
   "metadata": {},
   "source": [
    "## 5.6 Distbrution of PRIMARY_ETHNICITY_DESC"
   ]
  },
  {
   "cell_type": "code",
   "execution_count": 139,
   "metadata": {},
   "outputs": [
    {
     "data": {
      "text/html": [
       "<iframe id=\"igraph\" scrolling=\"no\" style=\"border:none;\" seamless=\"seamless\" src=\"https://plot.ly/~spottedcow85/14.embed\" height=\"525px\" width=\"100%\"></iframe>"
      ],
      "text/plain": [
       "<plotly.tools.PlotlyDisplay object>"
      ]
     },
     "execution_count": 139,
     "metadata": {},
     "output_type": "execute_result"
    }
   ],
   "source": [
    "temp = GPSRetention[\"PRIMARY_ETHNICITY_DESC\"].value_counts()\n",
    "\n",
    "temp_df = pd.DataFrame({'labels': temp.index,\n",
    "                      'values': temp.values\n",
    "                  })\n",
    "\n",
    "trace = go.Pie(temp_df)\n",
    "py.iplot([trace], filename='basic_pie_char')"
   ]
  },
  {
   "cell_type": "code",
   "execution_count": null,
   "metadata": {},
   "outputs": [],
   "source": []
  }
 ],
 "metadata": {
  "kernelspec": {
   "display_name": "Python 3",
   "language": "python",
   "name": "python3"
  },
  "language_info": {
   "codemirror_mode": {
    "name": "ipython",
    "version": 3
   },
   "file_extension": ".py",
   "mimetype": "text/x-python",
   "name": "python",
   "nbconvert_exporter": "python",
   "pygments_lexer": "ipython3",
   "version": "3.6.1"
  }
 },
 "nbformat": 4,
 "nbformat_minor": 2
}
