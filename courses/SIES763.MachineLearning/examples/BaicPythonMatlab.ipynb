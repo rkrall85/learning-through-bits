{
 "cells": [
  {
   "cell_type": "code",
   "execution_count": 1,
   "metadata": {},
   "outputs": [
    {
     "name": "stdout",
     "output_type": "stream",
     "text": [
      "[[1 2 3]\n",
      " [7 8 9]]\n",
      "Transpose of array a = \n",
      "[[1 7]\n",
      " [2 8]\n",
      " [3 9]]\n"
     ]
    }
   ],
   "source": [
    "# basic array\n",
    "import numpy as np\n",
    "a =np.array( [ (1, 2, 3), (7, 8, 9) ] )     # Matlab a = [1 2 3; 7 8 9]\n",
    "print(a)\n",
    "print('Transpose of array a = ')\n",
    "print(np.transpose(a))                   # Matlab a'"
   ]
  },
  {
   "cell_type": "code",
   "execution_count": null,
   "metadata": {},
   "outputs": [],
   "source": [
    "# basic info about an array\n",
    "print('size = ', a.size)                    # Matlab size(a)\n",
    "print('shape = ', a.shape)                  # Matlab size(a)\n",
    "print('a.max() = ', a.max())                # Matlab max(a(:))\n",
    "print('a.min() = ', a.min())\n",
    "print('a.mean() = ', a.mean())\n",
    "print('a.mean(axis) = ', a.mean(axis=0))"
   ]
  },
  {
   "cell_type": "code",
   "execution_count": null,
   "metadata": {},
   "outputs": [],
   "source": [
    "# ones or zeros\n",
    "b = np.ones( (2,3) ) * 2 + 4             # Matlab b = ones(2, 3) * 2 + 4\n",
    "print(b)\n",
    "print('size = ', b.size)                 # Matlab size(b)\n",
    "print('b.sum = ', b.sum())               # Matlab sum(b(:))\n",
    "print('b.sum(axis) = ', b.sum(axis=1))   # Matlab sum(b)"
   ]
  },
  {
   "cell_type": "code",
   "execution_count": null,
   "metadata": {},
   "outputs": [],
   "source": [
    "# simple operations, same as in Matlab\n",
    "a=a+1\n",
    "print(a)\n",
    "print(a+b)     # print(a*b)"
   ]
  },
  {
   "cell_type": "code",
   "execution_count": null,
   "metadata": {},
   "outputs": [],
   "source": [
    "# random numbers\n",
    "c = np.random.random( (2,3) ) * 2 + 4    # Matlab c = rand(2, 3)\n",
    "print(c)"
   ]
  },
  {
   "cell_type": "code",
   "execution_count": null,
   "metadata": {},
   "outputs": [],
   "source": [
    "# colon operator \":\"\n",
    "print(a)\n",
    "print('Get all rows and some columns = ')\n",
    "print(a[:, 1:3])                          # Matlab a(:, 2:3)\n",
    "print('Get row x and all columns = ')\n",
    "print(a[1, :])                            # Matlab a(2, :)\n",
    "# colon operator, everything\n",
    "print('Reset all elements in c to 0')\n",
    "c[:] = 0                                  # Matlab c = 0 \n",
    "print(c)"
   ]
  },
  {
   "cell_type": "code",
   "execution_count": null,
   "metadata": {},
   "outputs": [],
   "source": [
    "# more colon operator \":\"\n",
    "d = np.arange(15)       # Matlab d =[1:15]\n",
    "print('arange(x) = ')\n",
    "print(d)\n",
    "d = np.arange(1, 15, 5)    # Matlab d = [1:5:15]\n",
    "print('arange(x1, x2, gap) = ')\n",
    "print(d)\n",
    "d = np.arange(0, 2, 0.5)   # Matlab d = [0 : 0.5 : 2]\n",
    "print('arange(x1, x2, gap) = ')\n",
    "print(d)"
   ]
  },
  {
   "cell_type": "code",
   "execution_count": null,
   "metadata": {},
   "outputs": [],
   "source": [
    "# concat E = [a, a]   or E = [a; a]\n",
    "E = np.concatenate((a, b))           # Matlab E = [a; b]\n",
    "print('concat vertically = ')\n",
    "print(E)\n",
    "E = np.concatenate((a, b), axis=1)   # Matlab E = [a b]\n",
    "print('concat horizontally = ')\n",
    "print(E)"
   ]
  },
  {
   "cell_type": "code",
   "execution_count": null,
   "metadata": {},
   "outputs": [],
   "source": [
    "''' \n",
    "find / search (R > 5)\n",
    "and lots of comments\n",
    "'''\n",
    "R = np.random.random( (3,4) ) * 10 + 1    # Matlab R = rand(3, 4) * 10 + 1\n",
    "print('Original randome array R = ')\n",
    "print(R)\n",
    "idx = np.where(R >= 10)\n",
    "print('idx = ', idx)\n",
    "print('idx[0] = ', idx[0])\n",
    "print('idx[1] = ', idx[1])"
   ]
  },
  {
   "cell_type": "code",
   "execution_count": null,
   "metadata": {},
   "outputs": [],
   "source": [
    "# for loop\n",
    "print('loop rang(3) = ')           # Matlab for i = 0 : 2\n",
    "for i in range(3):\n",
    "    print(i)\n",
    "print('loop rang(0, 10, 2) = ')    # Matlab for i = 0 : 2 : 10 (or 8)\n",
    "for i in range(0, 10, 2):\n",
    "    print(i)\n",
    "print('floating point loop = ')    # Matlab for i = 0 : 0.5 : 2 (or 1.5)    \n",
    "float_loop = np.arange(0, 2, 0.5)\n",
    "for i in float_loop:\n",
    "    print(i)\n",
    "    #time.sleep(0.5)"
   ]
  },
  {
   "cell_type": "code",
   "execution_count": null,
   "metadata": {},
   "outputs": [],
   "source": [
    "# reshape\n",
    "print('Original array a = ')\n",
    "print(a)\n",
    "print('Reshape array a = ')\n",
    "print(a.reshape(1, a.size))"
   ]
  }
 ],
 "metadata": {
  "kernelspec": {
   "display_name": "Python 3",
   "language": "python",
   "name": "python3"
  },
  "language_info": {
   "codemirror_mode": {
    "name": "ipython",
    "version": 3
   },
   "file_extension": ".py",
   "mimetype": "text/x-python",
   "name": "python",
   "nbconvert_exporter": "python",
   "pygments_lexer": "ipython3",
   "version": "3.6.1"
  }
 },
 "nbformat": 4,
 "nbformat_minor": 2
}
