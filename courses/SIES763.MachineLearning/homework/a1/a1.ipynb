{
 "cells": [
  {
   "cell_type": "markdown",
   "metadata": {},
   "source": [
    "```\n",
    "Robert Krall\n",
    "SEIS763\n",
    "Assignment 1\n",
    "```"
   ]
  },
  {
   "cell_type": "code",
   "execution_count": 20,
   "metadata": {},
   "outputs": [],
   "source": [
    "#import these libraries\n",
    "import pandas as pd\n",
    "input_file  = open('U:\\\\tmp\\\\FisherIris_ML.csv','r')  #read mode\n"
   ]
  },
  {
   "cell_type": "markdown",
   "metadata": {},
   "source": [
    "### 1.Read in the CSV file “FisherIris_MDL.csv” into a matrix named as “Iris”."
   ]
  },
  {
   "cell_type": "code",
   "execution_count": 21,
   "metadata": {},
   "outputs": [],
   "source": [
    "Irish = pd.read_csv(input_file, sep=\",\", header=None)\n",
    "Irish.columns = [\"a\",\"b\",\"c\",\"d\",\"f\"]#leave out if there is a header\n",
    "#print(Irish)"
   ]
  },
  {
   "cell_type": "markdown",
   "metadata": {},
   "source": [
    "### 2.Display the number of row and number of columns of the matrix “Iris”."
   ]
  },
  {
   "cell_type": "code",
   "execution_count": 22,
   "metadata": {},
   "outputs": [
    {
     "name": "stdout",
     "output_type": "stream",
     "text": [
      "(row,columns)\n",
      "(150, 5)\n"
     ]
    }
   ],
   "source": [
    "print(\"(row,columns)\")\n",
    "print(Irish.shape)"
   ]
  },
  {
   "cell_type": "markdown",
   "metadata": {},
   "source": [
    "### 3.Display all the row numbers that have the 5th column less than 0."
   ]
  },
  {
   "cell_type": "code",
   "execution_count": 23,
   "metadata": {},
   "outputs": [
    {
     "name": "stdout",
     "output_type": "stream",
     "text": [
      "      a   b   c   d   f\n",
      "10    2  16  31  48 -10\n",
      "23   15  45  29  60 -12\n",
      "58    2  13  35  55 -10\n",
      "89   12  47  28  61 -12\n",
      "108  13  52  30  67 -11\n",
      "136  18  63  29  73 -11\n"
     ]
    }
   ],
   "source": [
    "print(Irish[Irish.f<0])"
   ]
  },
  {
   "cell_type": "markdown",
   "metadata": {},
   "source": [
    "### 4.the rows with the 5th column less than 0 from the “Iris” matrix."
   ]
  },
  {
   "cell_type": "code",
   "execution_count": 24,
   "metadata": {},
   "outputs": [],
   "source": [
    "Irish = Irish[Irish.f>=0]"
   ]
  },
  {
   "cell_type": "markdown",
   "metadata": {},
   "source": [
    "### 5.Display the number of row and number of columns of the “Iris” matrix again."
   ]
  },
  {
   "cell_type": "code",
   "execution_count": 25,
   "metadata": {},
   "outputs": [
    {
     "name": "stdout",
     "output_type": "stream",
     "text": [
      "(row,columns)\n",
      "(144, 5)\n"
     ]
    }
   ],
   "source": [
    "print(\"(row,columns)\")\n",
    "print(Irish.shape)"
   ]
  },
  {
   "cell_type": "markdown",
   "metadata": {},
   "source": [
    "### 6.Copy the first 4 columns in the new “Iris” matrix into a new matrix “X”."
   ]
  },
  {
   "cell_type": "code",
   "execution_count": 26,
   "metadata": {},
   "outputs": [],
   "source": [
    "x = Irish.iloc[:,0:4]"
   ]
  },
  {
   "cell_type": "markdown",
   "metadata": {},
   "source": [
    "### 7.Copy the 5th columns in the new “Iris” matrix into a new variable (or matrix) “Y”."
   ]
  },
  {
   "cell_type": "code",
   "execution_count": 27,
   "metadata": {},
   "outputs": [],
   "source": [
    "y = Irish.f"
   ]
  },
  {
   "cell_type": "markdown",
   "metadata": {},
   "source": [
    "### 8.Display the maximum value and the minimum value of each column in “X”."
   ]
  },
  {
   "cell_type": "code",
   "execution_count": 28,
   "metadata": {},
   "outputs": [
    {
     "name": "stdout",
     "output_type": "stream",
     "text": [
      "Min: [ 1 10 20 43]\n",
      "Max: [25 69 44 79]\n"
     ]
    }
   ],
   "source": [
    "#axis = 0 is column base, 1 is row based\n",
    "min = x.min(axis=0)\n",
    "max = x.max(axis=0)\n",
    "print(\"Min:\", min.values)\n",
    "print(\"Max:\", max.values)"
   ]
  },
  {
   "cell_type": "markdown",
   "metadata": {},
   "source": [
    "### 9.Display the number of elements in the third column of the matrix “X” that is greater than 36."
   ]
  },
  {
   "cell_type": "code",
   "execution_count": 31,
   "metadata": {},
   "outputs": [
    {
     "name": "stdout",
     "output_type": "stream",
     "text": [
      "15\n"
     ]
    }
   ],
   "source": [
    "print(len(x[x.c>36]))\n",
    "#make sure to close both files"
   ]
  },
  {
   "cell_type": "code",
   "execution_count": 32,
   "metadata": {},
   "outputs": [],
   "source": [
    "input_file.close()"
   ]
  },
  {
   "cell_type": "code",
   "execution_count": null,
   "metadata": {},
   "outputs": [],
   "source": []
  }
 ],
 "metadata": {
  "kernelspec": {
   "display_name": "Python 3",
   "language": "python",
   "name": "python3"
  },
  "language_info": {
   "codemirror_mode": {
    "name": "ipython",
    "version": 3
   },
   "file_extension": ".py",
   "mimetype": "text/x-python",
   "name": "python",
   "nbconvert_exporter": "python",
   "pygments_lexer": "ipython3",
   "version": "3.6.1"
  }
 },
 "nbformat": 4,
 "nbformat_minor": 2
}
