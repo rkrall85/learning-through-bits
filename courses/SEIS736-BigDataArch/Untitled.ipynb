{
 "cells": [
  {
   "cell_type": "code",
   "execution_count": 1,
   "metadata": {},
   "outputs": [],
   "source": [
    "import plotly.plotly as py\n",
    "import plotly.graph_objs as go\n",
    "import plotly\n",
    "import pyodbc\n",
    "import pandas as pd\n",
    "import plotly.plotly as py\n",
    "import cufflinks as cf\n",
    "import numpy as np"
   ]
  },
  {
   "cell_type": "code",
   "execution_count": 2,
   "metadata": {},
   "outputs": [],
   "source": [
    "def database_connection():\n",
    "    conn = pyodbc.connect(\n",
    "        r'DRIVER={SQL Server Native Client 11.0};'\n",
    "        r'SERVER=localhost;'\n",
    "        r'DATABASE=seis603_pricing_project;'\n",
    "        r'UID=python_dev;'\n",
    "        r'PWD=python_dev;'\n",
    "        )\n",
    "    cursor = conn.cursor()\n",
    "    return cursor\n",
    "\n",
    "db_connection = database_connection()"
   ]
  },
  {
   "cell_type": "code",
   "execution_count": 3,
   "metadata": {},
   "outputs": [],
   "source": [
    "#items tracking\n",
    "sql = \"Select * from dbo.Baseball_Stats\"\n",
    "db_connection.execute(sql)#, params) #executing sproc\n",
    "list_items = db_connection.fetchall()#[0] #fetchone will only return first result\n",
    "#df = pd.Series(list_items)\n",
    "labels = ['pk','regular_season','post_season','year','league']\n",
    "df = pd.DataFrame.from_records(list_items, columns=labels) #create dataframe from list"
   ]
  },
  {
   "cell_type": "code",
   "execution_count": 4,
   "metadata": {},
   "outputs": [],
   "source": [
    "#converting to floats\n",
    "df['regular_season'] = df['regular_season'].astype('float')\n",
    "df['post_season'] = df['post_season'].astype('float')"
   ]
  },
  {
   "cell_type": "code",
   "execution_count": 35,
   "metadata": {},
   "outputs": [],
   "source": [
    "#select * from airport_freq where airport_ident = 'KLAX' order by type desc\n",
    "#airport_freq[airport_freq.airport_ident == 'KLAX'].sort_values('type', ascending=False)\n",
    "\n",
    "\n",
    "data = df.sort_values('year', ascending=True)\n",
    "#print(data.head())\n",
    "\n",
    "al = df[df.league=='AL'][['regular_season','post_season','year']]\n",
    "nl = df[df.league=='NL'][['regular_season','post_season','year']]\n",
    "\n",
    "#AL avg\n",
    "al_avg_reg = al.groupby(['year'])['regular_season'].mean()\n",
    "al_avg_post = al.groupby(['year'])['post_season'].mean()\n",
    "\n",
    "#NL Avg\n",
    "nl_avg_reg = nl.groupby(['year'])['regular_season'].mean()\n",
    "nl_avg_post = nl.groupby(['year'])['post_season'].mean()\n",
    "\n",
    "al_join = pd.concat([al_avg_reg, al_avg_post], axis=1)\n",
    "nl_join = pd.concat([nl_avg_reg, nl_avg_post], axis=1)\n",
    "\n",
    "\n",
    "\n",
    "\n",
    "\n"
   ]
  },
  {
   "cell_type": "code",
   "execution_count": 36,
   "metadata": {},
   "outputs": [],
   "source": [
    "al_trace = go.Scatter(\n",
    "    x = al_join['regular_season'],#dates\n",
    "    y = al_join['post_season'],\n",
    "    name = 'AL Ratio',\n",
    "    mode = 'markers',\n",
    "    line = dict(\n",
    "        color = ('rgb(49, 86, 219)'),\n",
    "        width = 4)\n",
    ")\n",
    "\n",
    "nl_trace = go.Scatter(\n",
    "    x = nl_join['regular_season'],#dates\n",
    "    y = nl_join['post_season'],\n",
    "    name = 'NL Ratio',\n",
    "    mode = 'markers',\n",
    "    line = dict(\n",
    "        color = ('rgb(205, 12, 24)'),\n",
    "        width = 4)\n",
    ")"
   ]
  },
  {
   "cell_type": "code",
   "execution_count": 37,
   "metadata": {},
   "outputs": [
    {
     "data": {
      "text/html": [
       "<iframe id=\"igraph\" scrolling=\"no\" style=\"border:none;\" seamless=\"seamless\" src=\"https://plot.ly/~spottedcow85/3.embed\" height=\"525px\" width=\"100%\"></iframe>"
      ],
      "text/plain": [
       "<plotly.tools.PlotlyDisplay object>"
      ]
     },
     "execution_count": 37,
     "metadata": {},
     "output_type": "execute_result"
    }
   ],
   "source": [
    "#all the data i.e. the lines in the graph\n",
    "data = [al_trace, nl_trace]\n",
    "\n",
    "#Creating layout of report\n",
    "layout = go.Layout(\n",
    "    title='Compare Regular Season and Post Season Over Time',\n",
    "    xaxis=dict(\n",
    "        title='Regular Season',\n",
    "        zeroline = False,\n",
    "        titlefont=dict(\n",
    "            family='Courier New, monospace',\n",
    "            size=18,\n",
    "            color='#7f7f7f'\n",
    "        )\n",
    "    ),\n",
    "    yaxis=dict(\n",
    "        title='Post Season',\n",
    "        zeroline = False,\n",
    "        titlefont=dict(\n",
    "            family='Courier New, monospace',\n",
    "            size=18,\n",
    "            color='#7f7f7f'\n",
    "        )\n",
    "    ),\n",
    "    \n",
    ")\n",
    "\n",
    "\n",
    "\n",
    "fig = go.Figure(data=data, layout=layout)\n",
    "py.iplot(fig, filename='simple-line')"
   ]
  },
  {
   "cell_type": "code",
   "execution_count": null,
   "metadata": {},
   "outputs": [],
   "source": []
  }
 ],
 "metadata": {
  "kernelspec": {
   "display_name": "Python 3",
   "language": "python",
   "name": "python3"
  },
  "language_info": {
   "codemirror_mode": {
    "name": "ipython",
    "version": 3
   },
   "file_extension": ".py",
   "mimetype": "text/x-python",
   "name": "python",
   "nbconvert_exporter": "python",
   "pygments_lexer": "ipython3",
   "version": "3.6.1"
  }
 },
 "nbformat": 4,
 "nbformat_minor": 2
}
