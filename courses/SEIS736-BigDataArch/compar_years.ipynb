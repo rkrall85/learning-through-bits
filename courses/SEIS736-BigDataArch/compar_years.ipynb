{
 "cells": [
  {
   "cell_type": "code",
   "execution_count": 1,
   "metadata": {},
   "outputs": [],
   "source": [
    "import plotly.plotly as py\n",
    "import plotly.graph_objs as go\n",
    "import plotly\n",
    "import pyodbc\n",
    "import pandas as pd\n",
    "import plotly.plotly as py\n",
    "import cufflinks as cf\n",
    "import numpy as np"
   ]
  },
  {
   "cell_type": "code",
   "execution_count": 2,
   "metadata": {},
   "outputs": [],
   "source": [
    "def database_connection():\n",
    "    conn = pyodbc.connect(\n",
    "        r'DRIVER={SQL Server Native Client 11.0};'\n",
    "        r'SERVER=localhost;'\n",
    "        r'DATABASE=seis603_pricing_project;'\n",
    "        r'UID=python_dev;'\n",
    "        r'PWD=python_dev;'\n",
    "        )\n",
    "    cursor = conn.cursor()\n",
    "    return cursor\n",
    "\n",
    "db_connection = database_connection()"
   ]
  },
  {
   "cell_type": "code",
   "execution_count": 3,
   "metadata": {},
   "outputs": [
    {
     "name": "stdout",
     "output_type": "stream",
     "text": [
      "['AA' 'NL' 'AL']\n"
     ]
    }
   ],
   "source": [
    "#items tracking\n",
    "sql = \"Select * from dbo.Baseball_Stats\"\n",
    "db_connection.execute(sql)#, params) #executing sproc\n",
    "list_items = db_connection.fetchall()#[0] #fetchone will only return first result\n",
    "#df = pd.Series(list_items)\n",
    "labels = ['pk','regular_season','post_season','year','league']\n",
    "df = pd.DataFrame.from_records(list_items, columns=labels) #create dataframe from list\n",
    "print(df['league'].unique())"
   ]
  },
  {
   "cell_type": "code",
   "execution_count": 4,
   "metadata": {},
   "outputs": [
    {
     "name": "stdout",
     "output_type": "stream",
     "text": [
      "['NL' 'AL']\n",
      "year\n",
      "1884    1.000000\n",
      "1885    0.600000\n",
      "1886    0.500000\n",
      "1887    0.655556\n",
      "1888    0.666667\n",
      "Name: post_season, dtype: float64\n"
     ]
    }
   ],
   "source": [
    "#more AA league\n",
    "df = df[df['league'] != 'AA']\n",
    "print(df['league'].unique())\n",
    "\n",
    "year = df[\"year\"].unique()\n",
    "#converting to floats\n",
    "df['regular_season'] = df['regular_season'].astype('float')\n",
    "df['post_season'] = df['post_season'].astype('float')\n",
    "\n",
    "regular_season = df.groupby('year')['regular_season'].mean()\n",
    "post_season = df.groupby('year')['post_season'].mean()\n",
    "\n",
    "print(post_season.head())"
   ]
  },
  {
   "cell_type": "code",
   "execution_count": 5,
   "metadata": {},
   "outputs": [],
   "source": [
    "regular_trace = go.Scatter(\n",
    "    x = regular_season.index,#dates\n",
    "    y = regular_season,\n",
    "    name = 'Regular Season',\n",
    "    mode = 'markers',\n",
    "    line = dict(\n",
    "        color = ('rgb(49, 86, 219)'),\n",
    "        width = 4)\n",
    ")\n",
    "\n",
    "post_trace = go.Scatter(\n",
    "    x = post_season.index,#dates\n",
    "    y = post_season,\n",
    "    name = 'Post Season',\n",
    "    mode = 'markers',\n",
    "    line = dict(\n",
    "        color = ('rgb(205, 12, 24)'),\n",
    "        width = 4)\n",
    ")\n",
    "\n",
    "#print(regular_trace)\n"
   ]
  },
  {
   "cell_type": "code",
   "execution_count": 6,
   "metadata": {},
   "outputs": [
    {
     "data": {
      "text/html": [
       "<iframe id=\"igraph\" scrolling=\"no\" style=\"border:none;\" seamless=\"seamless\" src=\"https://plot.ly/~spottedcow85/3.embed\" height=\"525px\" width=\"100%\"></iframe>"
      ],
      "text/plain": [
       "<plotly.tools.PlotlyDisplay object>"
      ]
     },
     "execution_count": 6,
     "metadata": {},
     "output_type": "execute_result"
    }
   ],
   "source": [
    "\n",
    "#all the data i.e. the lines in the graph\n",
    "data = [regular_trace, post_trace]\n",
    "\n",
    "#Creating layout of report\n",
    "layout = go.Layout(\n",
    "    title='Compare Regular Season Vs Post Season Over the Years',\n",
    "    xaxis=dict(\n",
    "        title='Year',\n",
    "        zeroline = False,\n",
    "        titlefont=dict(\n",
    "            family='Courier New, monospace',\n",
    "            size=18,\n",
    "            color='#7f7f7f'\n",
    "        )\n",
    "    ),\n",
    "    yaxis=dict(\n",
    "        title='Ratio',\n",
    "        zeroline = False,\n",
    "        titlefont=dict(\n",
    "            family='Courier New, monospace',\n",
    "            size=18,\n",
    "            color='#7f7f7f'\n",
    "        )\n",
    "    ),\n",
    "    \n",
    ")\n",
    "fig = go.Figure(data=data, layout=layout)\n",
    "py.iplot(fig, filename='simple-line')"
   ]
  },
  {
   "cell_type": "code",
   "execution_count": null,
   "metadata": {},
   "outputs": [],
   "source": []
  }
 ],
 "metadata": {
  "kernelspec": {
   "display_name": "Python 3",
   "language": "python",
   "name": "python3"
  },
  "language_info": {
   "codemirror_mode": {
    "name": "ipython",
    "version": 3
   },
   "file_extension": ".py",
   "mimetype": "text/x-python",
   "name": "python",
   "nbconvert_exporter": "python",
   "pygments_lexer": "ipython3",
   "version": "3.6.1"
  }
 },
 "nbformat": 4,
 "nbformat_minor": 2
}
