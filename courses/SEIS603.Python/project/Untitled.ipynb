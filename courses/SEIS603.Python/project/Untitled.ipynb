{
 "cells": [
  {
   "cell_type": "code",
   "execution_count": 2,
   "metadata": {},
   "outputs": [],
   "source": [
    "class Dog():    \n",
    "    \"\"\"A simple attempt to model a dog \"\"\"    \n",
    "    def __init__(self, name, age):        \n",
    "        \"\"\" initialize name and age \"\"\"        \n",
    "        self.name = name        \n",
    "        self.age = age    \n",
    "    def sit(self):        \n",
    "        \"\"\" SImulate a sit command \"\"\"        \n",
    "        print(self.name + \" is now sitting\")    \n",
    "    def roll_over(self):        \n",
    "        \"\"\" Simulate rollover\"\"\"        \n",
    "        print(self.name + \" \"  + \" rolled over\")\n",
    "    "
   ]
  },
  {
   "cell_type": "code",
   "execution_count": 3,
   "metadata": {},
   "outputs": [
    {
     "name": "stdout",
     "output_type": "stream",
     "text": [
      "My dog willie is 6 years old\n",
      "willie  rolled over\n",
      "lucy is now sitting\n"
     ]
    }
   ],
   "source": [
    "my_dog = Dog('willie', 6)\n",
    "print(\"My dog \" + my_dog.name + \" is \" +          str(my_dog.age) + \" years old\")\n",
    "my_dog.roll_over()\n",
    "\n",
    "your_dog = Dog('lucy', 3)\n",
    "your_dog.sit()"
   ]
  },
  {
   "cell_type": "code",
   "execution_count": 20,
   "metadata": {},
   "outputs": [
    {
     "name": "stdout",
     "output_type": "stream",
     "text": [
      "5.0\n",
      "0.0\n"
     ]
    }
   ],
   "source": [
    "import math\n",
    "class Point:    \n",
    "    def __init__(self, X, Y):        \n",
    "        \"\"\" initialize name and age \"\"\"        \n",
    "        self.x = X        \n",
    "        self.y = Y  \n",
    "    def getX(self):\n",
    "        return self.x\n",
    "    def getY(self):\n",
    "        return self.y\n",
    "    def distancdFromOrigin(self):\n",
    "        return((self.x**2) + (self.y **2))* 0.5\n",
    "    def distance(self, otherPoint):\n",
    "        xdiff = self.getX() - otherPoint.getX()    \n",
    "        ydiff = self.getY() - otherPoint.getY()    \n",
    "        dist = math.sqrt(xdiff**2 + ydiff**2)    \n",
    "        return dist\n",
    "p = Point(4, 3)\n",
    "q = Point(0, 0)\n",
    "print(q.distance(p))\n",
    "print(q.distancdFromOrigin())"
   ]
  },
  {
   "cell_type": "code",
   "execution_count": null,
   "metadata": {},
   "outputs": [],
   "source": []
  }
 ],
 "metadata": {
  "kernelspec": {
   "display_name": "Python 3",
   "language": "python",
   "name": "python3"
  },
  "language_info": {
   "codemirror_mode": {
    "name": "ipython",
    "version": 3
   },
   "file_extension": ".py",
   "mimetype": "text/x-python",
   "name": "python",
   "nbconvert_exporter": "python",
   "pygments_lexer": "ipython3",
   "version": "3.6.1"
  }
 },
 "nbformat": 4,
 "nbformat_minor": 2
}
