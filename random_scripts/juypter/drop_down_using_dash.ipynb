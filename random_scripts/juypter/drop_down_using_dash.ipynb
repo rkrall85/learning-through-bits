{
 "cells": [
  {
   "cell_type": "code",
   "execution_count": 4,
   "metadata": {},
   "outputs": [],
   "source": [
    "import plotly\n"
   ]
  },
  {
   "cell_type": "code",
   "execution_count": 5,
   "metadata": {},
   "outputs": [],
   "source": [
    "line = go.Scatter(\n",
    "    x=[-1,0,1],\n",
    "    y=[-1,0,1]\n",
    ")"
   ]
  },
  {
   "cell_type": "code",
   "execution_count": 6,
   "metadata": {},
   "outputs": [],
   "source": [
    "\n",
    "updatemenus = [\n",
    "    {\n",
    "        'buttons': [\n",
    "            {\n",
    "                'method': 'restyle',\n",
    "                'label': 'Val 1',\n",
    "                'args': [\n",
    "                    {'y': [-2,1,0,1,2]},\n",
    "                ]\n",
    "            },\n",
    "            {\n",
    "                'method': 'restyle',\n",
    "                'label': 'Val 2',\n",
    "                'args': [\n",
    "                    {'y': [-2,1,0,1,2]},\n",
    "                ]\n",
    "            }\n",
    "        ],\n",
    "        'direction': 'down',\n",
    "        'showactive': True,\n",
    "    }\n",
    "]"
   ]
  },
  {
   "cell_type": "code",
   "execution_count": 7,
   "metadata": {},
   "outputs": [],
   "source": [
    "layout = go.Layout(\n",
    "    updatemenus=updatemenus,\n",
    ")"
   ]
  },
  {
   "cell_type": "code",
   "execution_count": 8,
   "metadata": {},
   "outputs": [
    {
     "data": {
      "application/vnd.plotly.v1+json": {
       "data": [
        {
         "type": "scatter",
         "x": [
          -1,
          0,
          1
         ],
         "y": [
          -1,
          0,
          1
         ]
        }
       ],
       "layout": {
        "updatemenus": [
         {
          "buttons": [
           {
            "args": [
             {
              "y": [
               -2,
               1,
               0,
               1,
               2
              ]
             }
            ],
            "label": "Val 1",
            "method": "restyle"
           },
           {
            "args": [
             {
              "y": [
               -2,
               1,
               0,
               1,
               2
              ]
             }
            ],
            "label": "Val 2",
            "method": "restyle"
           }
          ],
          "direction": "down",
          "showactive": true
         }
        ]
       }
      },
      "text/html": [
       "<div id=\"4bf045a7-b982-4ffa-a9a2-65e1796a3648\" style=\"height: 525px; width: 100%;\" class=\"plotly-graph-div\"></div><script type=\"text/javascript\">require([\"plotly\"], function(Plotly) { window.PLOTLYENV=window.PLOTLYENV || {};window.PLOTLYENV.BASE_URL=\"https://plot.ly\";Plotly.newPlot(\"4bf045a7-b982-4ffa-a9a2-65e1796a3648\", [{\"type\": \"scatter\", \"x\": [-1, 0, 1], \"y\": [-1, 0, 1]}], {\"updatemenus\": [{\"buttons\": [{\"method\": \"restyle\", \"label\": \"Val 1\", \"args\": [{\"y\": [-2, 1, 0, 1, 2]}]}, {\"method\": \"restyle\", \"label\": \"Val 2\", \"args\": [{\"y\": [-2, 1, 0, 1, 2]}]}], \"direction\": \"down\", \"showactive\": true}]}, {\"showLink\": true, \"linkText\": \"Export to plot.ly\"})});</script>"
      ],
      "text/vnd.plotly.v1+html": [
       "<div id=\"4bf045a7-b982-4ffa-a9a2-65e1796a3648\" style=\"height: 525px; width: 100%;\" class=\"plotly-graph-div\"></div><script type=\"text/javascript\">require([\"plotly\"], function(Plotly) { window.PLOTLYENV=window.PLOTLYENV || {};window.PLOTLYENV.BASE_URL=\"https://plot.ly\";Plotly.newPlot(\"4bf045a7-b982-4ffa-a9a2-65e1796a3648\", [{\"type\": \"scatter\", \"x\": [-1, 0, 1], \"y\": [-1, 0, 1]}], {\"updatemenus\": [{\"buttons\": [{\"method\": \"restyle\", \"label\": \"Val 1\", \"args\": [{\"y\": [-2, 1, 0, 1, 2]}]}, {\"method\": \"restyle\", \"label\": \"Val 2\", \"args\": [{\"y\": [-2, 1, 0, 1, 2]}]}], \"direction\": \"down\", \"showactive\": true}]}, {\"showLink\": true, \"linkText\": \"Export to plot.ly\"})});</script>"
      ]
     },
     "metadata": {},
     "output_type": "display_data"
    }
   ],
   "source": [
    "figure = go.Figure(data=[line], layout=layout)\n",
    "\n",
    "po.iplot(figure)"
   ]
  },
  {
   "cell_type": "code",
   "execution_count": null,
   "metadata": {},
   "outputs": [],
   "source": []
  }
 ],
 "metadata": {
  "kernelspec": {
   "display_name": "Python 3",
   "language": "python",
   "name": "python3"
  },
  "language_info": {
   "codemirror_mode": {
    "name": "ipython",
    "version": 3
   },
   "file_extension": ".py",
   "mimetype": "text/x-python",
   "name": "python",
   "nbconvert_exporter": "python",
   "pygments_lexer": "ipython3",
   "version": "3.6.1"
  }
 },
 "nbformat": 4,
 "nbformat_minor": 2
}
