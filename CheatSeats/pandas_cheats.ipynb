{
 "cells": [
  {
   "cell_type": "markdown",
   "metadata": {},
   "source": [
    "# Import CSV"
   ]
  },
  {
   "cell_type": "code",
   "execution_count": 6,
   "metadata": {},
   "outputs": [
    {
     "name": "stdout",
     "output_type": "stream",
     "text": [
      "   a  b  c  d  f  e\n",
      "0  1  1  1  1  1  1\n",
      "1  2  2  2  2  2  2\n",
      "2  3  3  3  3  3  3\n",
      "3  4  4  4  4  4  4\n",
      "4  5  5  5  5  5  5\n",
      "5  6  6  6  6 -6  6\n",
      "6  7  7  7  7 -7  7\n",
      "7  8  8  8  8 -8  8\n",
      "8  9  9  9  9 -9  9\n"
     ]
    }
   ],
   "source": [
    "import pandas as pd\n",
    "input_file  = open('FisherIris_MDL.csv','r')  #read mode\n",
    "file_df = pd.read_csv(input_file, sep=\"|\", header=None)\n",
    "file_df.columns = [\"a\",\"b\",\"c\",\"d\",\"f\",\"e\"]#leave out if there is a header\n",
    "print(file_df)\n",
    "input_file.close()\n"
   ]
  },
  {
   "cell_type": "code",
   "execution_count": 7,
   "metadata": {},
   "outputs": [
    {
     "name": "stdout",
     "output_type": "stream",
     "text": [
      "(9, 6)\n"
     ]
    }
   ],
   "source": [
    "#output shape of df\n",
    "print(file_df.shape)"
   ]
  },
  {
   "cell_type": "code",
   "execution_count": 9,
   "metadata": {},
   "outputs": [
    {
     "name": "stdout",
     "output_type": "stream",
     "text": [
      "   a  b  c  d  f  e\n",
      "5  6  6  6  6 -6  6\n",
      "6  7  7  7  7 -7  7\n",
      "7  8  8  8  8 -8  8\n",
      "8  9  9  9  9 -9  9\n"
     ]
    }
   ],
   "source": [
    "#values less than 0 in column 5\n",
    "print(file_df[file_df.f<0])"
   ]
  },
  {
   "cell_type": "code",
   "execution_count": 10,
   "metadata": {},
   "outputs": [
    {
     "name": "stdout",
     "output_type": "stream",
     "text": [
      "   a  b  c  d\n",
      "0  1  1  1  1\n",
      "1  2  2  2  2\n",
      "2  3  3  3  3\n",
      "3  4  4  4  4\n",
      "4  5  5  5  5\n",
      "5  6  6  6  6\n",
      "6  7  7  7  7\n",
      "7  8  8  8  8\n",
      "8  9  9  9  9\n"
     ]
    }
   ],
   "source": [
    "#copy first 4 columns into new matrix\n",
    "x = file_df.iloc[:,0:4]\n",
    "print(x)"
   ]
  },
  {
   "cell_type": "code",
   "execution_count": null,
   "metadata": {},
   "outputs": [],
   "source": []
  }
 ],
 "metadata": {
  "kernelspec": {
   "display_name": "Python 3",
   "language": "python",
   "name": "python3"
  },
  "language_info": {
   "codemirror_mode": {
    "name": "ipython",
    "version": 3
   },
   "file_extension": ".py",
   "mimetype": "text/x-python",
   "name": "python",
   "nbconvert_exporter": "python",
   "pygments_lexer": "ipython3",
   "version": "3.6.1"
  }
 },
 "nbformat": 4,
 "nbformat_minor": 2
}
