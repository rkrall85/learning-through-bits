{
 "cells": [
  {
   "cell_type": "code",
   "execution_count": 102,
   "metadata": {},
   "outputs": [
    {
     "name": "stderr",
     "output_type": "stream",
     "text": [
      "C:\\ProgramData\\Anaconda3\\lib\\site-packages\\ggplot\\utils.py:81: FutureWarning: pandas.tslib is deprecated and will be removed in a future version.\n",
      "You can access Timestamp as pandas.Timestamp\n",
      "  pd.tslib.Timestamp,\n",
      "C:\\ProgramData\\Anaconda3\\lib\\site-packages\\ggplot\\stats\\smoothers.py:4: FutureWarning: The pandas.lib module is deprecated and will be removed in a future version. These are private functions and can be accessed from pandas._libs.lib instead\n",
      "  from pandas.lib import Timestamp\n",
      "C:\\ProgramData\\Anaconda3\\lib\\site-packages\\statsmodels\\compat\\pandas.py:56: FutureWarning: The pandas.core.datetools module is deprecated and will be removed in a future version. Please use the pandas.tseries module instead.\n",
      "  from pandas.core import datetools\n"
     ]
    }
   ],
   "source": [
    "from ggplot import *"
   ]
  },
  {
   "cell_type": "markdown",
   "metadata": {},
   "source": [
    "# Import Data"
   ]
  },
  {
   "cell_type": "code",
   "execution_count": 115,
   "metadata": {},
   "outputs": [],
   "source": [
    "\"\"\"\n",
    "Shows basic usage of the Sheets API. Prints values from a Google Spreadsheet.\n",
    "\"\"\"\n",
    "from __future__ import print_function\n",
    "from apiclient.discovery import build\n",
    "from httplib2 import Http\n",
    "from oauth2client import file, client, tools\n",
    "\n",
    "# Setup the Sheets API\n",
    "SCOPES = 'https://www.googleapis.com/auth/spreadsheets.readonly'\n",
    "store = file.Storage('credentials.json')\n",
    "creds = store.get()\n",
    "if not creds or creds.invalid:\n",
    "    flow = client.flow_from_clientsecrets('client_secret.json', SCOPES)\n",
    "    creds = tools.run_flow(flow, store)\n",
    "service = build('sheets', 'v4', http=creds.authorize(Http()))\n",
    "\n",
    "# Call the Sheets API\n",
    "SPREADSHEET_ID = '1QUCKVDlDFdJO_F4woYjcQ47cBJzVQf4gjPnQeOTq9mc'\n",
    "RANGE_NAME = 'Sheet1!A4:F'\n",
    "result = service.spreadsheets().values().get(spreadsheetId=SPREADSHEET_ID,\n",
    "                                             range=RANGE_NAME).execute()\n",
    "values = result.get('values', [])\n",
    "#print(values)\n"
   ]
  },
  {
   "cell_type": "markdown",
   "metadata": {},
   "source": [
    "# Setting up Dataframe"
   ]
  },
  {
   "cell_type": "code",
   "execution_count": 116,
   "metadata": {},
   "outputs": [
    {
     "name": "stdout",
     "output_type": "stream",
     "text": [
      "tran_dt                         datetime64[ns]\n",
      "investment_name                         object\n",
      "company_monthly_contribution            object\n",
      "self_monthly_contribution               object\n",
      "begin_balance                          float64\n",
      "ending_balance                         float64\n",
      "tran_year                                int64\n",
      "tran_month                               int64\n",
      "m_ror                                  float64\n",
      "dtype: object\n"
     ]
    }
   ],
   "source": [
    "import pandas as pd\n",
    "import numpy as np\n",
    "\n",
    "#print(len(values))\n",
    "#df = pd.DataFrame(np.array(values).reshape(, columns = list(\"abcdefghi\"))\n",
    "\n",
    "val_arry = np.array(values)\n",
    "#pint(val_arry)\n",
    "investment_df = pd.DataFrame(val_arry.reshape(len(values),6), columns = [\n",
    "                                                                        \"tran_dt\", \n",
    "                                                                        \"investment_name\",\n",
    "                                                                        \"company_monthly_contribution\",\n",
    "                                                                        \"self_monthly_contribution\",\n",
    "                                                                        \"begin_balance\",\n",
    "                                                                        \"ending_balance\"\n",
    "                                                                        ]\n",
    "                   )\n",
    "\n",
    "#casting column types\n",
    "investment_df['tran_dt'] = investment_df['tran_dt'].astype('datetime64[ns]')\n",
    "investment_df['begin_balance'] = investment_df['begin_balance'].astype('float')\n",
    "investment_df['ending_balance'] = investment_df['ending_balance'].astype('float')\n",
    "\n",
    "#setting up helper columns\n",
    "investment_df['tran_year']  = pd.DatetimeIndex(investment_df['tran_dt']).year\n",
    "investment_df['tran_month'] = pd.DatetimeIndex(investment_df['tran_dt']).month\n",
    "investment_df['m_ror'] = (investment_df['ending_balance'] - investment_df['begin_balance'])/investment_df['ending_balance']*100\n",
    "\n",
    "#output the types\n",
    "print(investment_df.dtypes)\n"
   ]
  },
  {
   "cell_type": "markdown",
   "metadata": {},
   "source": [
    "# HeatMap of ROR on AgriBank 401K"
   ]
  },
  {
   "cell_type": "code",
   "execution_count": 117,
   "metadata": {},
   "outputs": [],
   "source": [
    "#import monthly_returns_heatmap as mrh\n",
    "\n",
    "#pvt_price_history =  price_history_df.pivot(index='Price Date',columns='Store Name',values = 'Item Price' ).fillna(0)\n",
    "\n",
    "\n"
   ]
  },
  {
   "cell_type": "code",
   "execution_count": null,
   "metadata": {},
   "outputs": [],
   "source": []
  },
  {
   "cell_type": "code",
   "execution_count": 118,
   "metadata": {},
   "outputs": [
    {
     "data": {
      "text/html": [
       "<iframe id=\"igraph\" scrolling=\"no\" style=\"border:none;\" seamless=\"seamless\" src=\"https://plot.ly/~spottedcow85/16.embed\" height=\"525px\" width=\"100%\"></iframe>"
      ],
      "text/plain": [
       "<plotly.tools.PlotlyDisplay object>"
      ]
     },
     "execution_count": 118,
     "metadata": {},
     "output_type": "execute_result"
    }
   ],
   "source": [
    "import plotly.plotly as py\n",
    "import plotly.graph_objs as go\n",
    "\n",
    "title = 'ROR over time between investments'\n",
    "\n",
    "labels = ['AgriBank 401k']#, 'Newspaper', 'Internet', 'Radio']\n",
    "\n",
    "colors = ['rgba(67,67,67,1)']#, 'rgba(115,115,115,1)', 'rgba(49,130,189, 1)', 'rgba(189,189,189,1)']\n",
    "\n",
    "mode_size = [8]#, 8, 12, 8]\n",
    "\n",
    "line_size = [2]#, 2, 4, 2]\n",
    "\n",
    "x_data = [list(investment_df['tran_dt'])]\n",
    "\n",
    "y_data = [list(investment_df['m_ror'])]\n",
    "\n",
    "traces = []\n",
    "\n",
    "for i in range(0, 1):\n",
    "    traces.append(go.Scatter(\n",
    "        x=x_data[i],\n",
    "        y=y_data[i],\n",
    "        mode='lines',\n",
    "        line=dict(color=colors[i], width=line_size[i]),\n",
    "        connectgaps=True,\n",
    "    ))\n",
    "\n",
    "    traces.append(go.Scatter(\n",
    "        x=[x_data[i][0], x_data[i][11]],\n",
    "        y=[y_data[i][0], y_data[i][11]],\n",
    "        mode='markers',\n",
    "        marker=dict(color=colors[i], size=mode_size[i])\n",
    "    ))\n",
    "    \n",
    "layout = go.Layout(\n",
    "    xaxis=dict(\n",
    "        showline=True,\n",
    "        showgrid=False,\n",
    "        showticklabels=True,\n",
    "        linecolor='rgb(204, 204, 204)',\n",
    "        linewidth=2,\n",
    "        autotick=False,\n",
    "        ticks='outside',\n",
    "        tickcolor='rgb(204, 204, 204)',\n",
    "        tickwidth=2,\n",
    "        ticklen=5,\n",
    "        tickfont=dict(\n",
    "            family='Arial',\n",
    "            size=12,\n",
    "            color='rgb(82, 82, 82)',\n",
    "        ),\n",
    "    ),\n",
    "    yaxis=dict(\n",
    "        showgrid=False,\n",
    "        zeroline=False,\n",
    "        showline=False,\n",
    "        showticklabels=False,\n",
    "    ),\n",
    "    autosize=False,\n",
    "    margin=dict(\n",
    "        autoexpand=False,\n",
    "        l=100,\n",
    "        r=20,\n",
    "        t=110,\n",
    "    ),\n",
    "    showlegend=False,\n",
    ")\n",
    "\n",
    "annotations = []\n",
    "\n",
    "# Adding labels\n",
    "for y_trace, label, color in zip(y_data, labels, colors):\n",
    "    # labeling the left_side of the plot\n",
    "    annotations.append(dict(xref='paper', x=0.05, y=y_trace[0],\n",
    "                                  xanchor='right', yanchor='middle',\n",
    "                                  text=label + ' {}%'.format(y_trace[0]),\n",
    "                                  font=dict(family='Arial',\n",
    "                                            size=16,\n",
    "                                            color=colors,),\n",
    "                                  showarrow=False))\n",
    "    # labeling the right_side of the plot\n",
    "    annotations.append(dict(xref='paper', x=0.95, y=y_trace[11],\n",
    "                                  xanchor='left', yanchor='middle',\n",
    "                                  text='{}%'.format(y_trace[11]),\n",
    "                                  font=dict(family='Arial',\n",
    "                                            size=16,\n",
    "                                            color=colors,),\n",
    "                                  showarrow=False))\n",
    "# Title\n",
    "annotations.append(dict(xref='paper', yref='paper', x=0.0, y=1.05,\n",
    "                              xanchor='left', yanchor='bottom',\n",
    "                              text='Main Source for News',\n",
    "                              font=dict(family='Arial',\n",
    "                                        size=30,\n",
    "                                        color='rgb(37,37,37)'),\n",
    "                              showarrow=False))\n",
    "# Source\n",
    "annotations.append(dict(xref='paper', yref='paper', x=0.5, y=-0.1,\n",
    "                              xanchor='center', yanchor='top',\n",
    "                              text='Source: PewResearch Center & ' +\n",
    "                                   'Storytelling with data',\n",
    "                              font=dict(family='Arial',\n",
    "                                        size=12,\n",
    "                                        color='rgb(150,150,150)'),\n",
    "                              showarrow=False))\n",
    "\n",
    "layout['annotations'] = annotations\n",
    "\n",
    "fig = go.Figure(data=traces, layout=layout)\n",
    "py.iplot(fig, filename='news-source')    \n"
   ]
  },
  {
   "cell_type": "code",
   "execution_count": null,
   "metadata": {},
   "outputs": [],
   "source": []
  }
 ],
 "metadata": {
  "kernelspec": {
   "display_name": "Python 3",
   "language": "python",
   "name": "python3"
  },
  "language_info": {
   "codemirror_mode": {
    "name": "ipython",
    "version": 3
   },
   "file_extension": ".py",
   "mimetype": "text/x-python",
   "name": "python",
   "nbconvert_exporter": "python",
   "pygments_lexer": "ipython3",
   "version": "3.6.1"
  }
 },
 "nbformat": 4,
 "nbformat_minor": 2
}
