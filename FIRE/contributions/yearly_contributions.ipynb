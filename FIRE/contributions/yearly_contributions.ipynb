{
 "cells": [
  {
   "cell_type": "code",
   "execution_count": 1,
   "id": "2a0f0651-a6af-4768-bc50-bbc05548e1fd",
   "metadata": {},
   "outputs": [],
   "source": [
    "import matplotlib.pyplot as plt\n",
    "from ipywidgets import widgets, interact, fixed\n",
    "from IPython.display import display, clear_output\n",
    "import pandas as pd\n",
    "import numpy as np\n",
    "import locale\n",
    "import sys \n",
    "import os \n",
    "# Add the higher-level directory containing the module to the sys.path \n",
    "module_path = os.path.abspath(os.path.join('..', 'libs')) \n",
    "if module_path not in sys.path: \n",
    "    sys.path.append(module_path) # Import the class from the module from your_module import\n",
    "\n",
    "\n",
    "from ReportData import *\n",
    "from ReportGraphs import *\n",
    "\n",
    "# Set locale to US English for currency formatting\n",
    "locale.setlocale(locale.LC_ALL, 'en_US.UTF-8')\n",
    "\n",
    "\n",
    "ReportsClass = ReportData(copy_file=False,use_copied_file=False)"
   ]
  },
  {
   "cell_type": "code",
   "execution_count": 2,
   "id": "6490088a-a33b-4291-9e33-4fbca2db0b4f",
   "metadata": {},
   "outputs": [
    {
     "name": "stdout",
     "output_type": "stream",
     "text": [
      "--------------------\n",
      "401k\n",
      "--------------------\n",
      "    Year   Owner  Employee  Employer  Employee Limit\n",
      "15  2024  Robert  14144.94      0.00           23000\n",
      "14  2024  Amanda  12626.90   3489.99           23000\n",
      "13  2023  Robert  12553.11    284.37           22500\n",
      "12  2023  Amanda   7936.29   3054.12           22500\n",
      "11  2022  Robert  11994.78   4365.17           20500\n",
      "10  2022  Amanda   5352.73   2674.87           20500\n",
      "9   2021  Robert  14699.44   3977.28           19500\n",
      "8   2021  Amanda   4175.02   2087.42           19500\n",
      "7   2020  Robert  11105.86   1844.20           19500\n",
      "6   2020  Amanda   4087.37   2043.80           19500\n",
      "--------------------\n",
      "HSA\n",
      "--------------------\n",
      "    Year   Owner  Employee  Employer  Employee Limit\n",
      "10  2024  Robert   1500.00    124.98            8300\n",
      "9   2023  Robert    403.84    178.56            7750\n",
      "8   2022  Robert   4615.50   2403.75            7300\n",
      "7   2021  Robert   3942.25   2884.50            7300\n",
      "6   2020  Robert   4099.94   3000.00            7100\n",
      "5   2019  Robert      0.00      0.00            7000\n",
      "4   2018  Robert   2456.71      0.00            6900\n",
      "3   2017  Robert   1308.69      0.00            6750\n",
      "2   2016  Robert   1111.82      0.00            6750\n",
      "1   2015  Robert   5678.31      0.00            6650\n",
      "--------------------\n",
      "Roth\n",
      "--------------------\n",
      "    Year   Owner  Employee  Employer  Employee Limit\n",
      "14  2024  Robert      0.00       0.0          7000.0\n",
      "13  2023  Robert      0.00       0.0          6500.0\n",
      "12  2022  Robert      0.00       0.0          6000.0\n",
      "11  2021  Robert    479.00       0.0          6000.0\n",
      "10  2020  Robert    409.00       0.0          6000.0\n",
      "9   2019  Robert    500.00       0.0          6000.0\n",
      "8   2018  Robert   1200.00       0.0          5500.0\n",
      "7   2017  Robert   1200.00       0.0          5500.0\n",
      "6   2016  Robert   2454.11       0.0          5500.0\n",
      "5   2015  Robert   5499.96       0.0          5500.0\n"
     ]
    }
   ],
   "source": [
    "# Get the data\n",
    "df_401k = ReportsClass.get_yearly_contributions_per_person('401k')\n",
    "df_HSA = ReportsClass.get_yearly_contributions_per_person('HSA')\n",
    "df_roth = ReportsClass.get_yearly_contributions_per_person('Roth IRA')\n",
    "\n",
    "# reorder df\n",
    "df_401k =  df_401k.iloc[::-1]\n",
    "df_HSA = df_HSA.iloc[::-1]\n",
    "df_roth = df_roth.iloc[::-1]\n",
    "\n",
    "# print to log\n",
    "print(\"--\"*10)\n",
    "print(\"401k\")\n",
    "print(\"--\"*10)\n",
    "print(df_401k.head(10))\n",
    "\n",
    "print(\"--\"*10)\n",
    "print(\"HSA\")\n",
    "print(\"--\"*10)\n",
    "print(df_HSA.head(10))\n",
    "\n",
    "print(\"--\"*10)\n",
    "print(\"Roth\")\n",
    "print(\"--\"*10)\n",
    "print(df_roth.head(10))"
   ]
  },
  {
   "cell_type": "markdown",
   "id": "4b87a15a-a3d1-466c-b177-8efdc7d5d7ae",
   "metadata": {},
   "source": [
    "## Report Parameters"
   ]
  },
  {
   "cell_type": "code",
   "execution_count": 3,
   "id": "58158b68-e280-4d8e-8eef-6524fc1671b7",
   "metadata": {},
   "outputs": [
    {
     "name": "stdout",
     "output_type": "stream",
     "text": [
      "[2024, 2023, 2022]\n"
     ]
    }
   ],
   "source": [
    "# Get the last 3 distinct years\n",
    "last_3_years = df_401k['Year'].drop_duplicates().sort_values(ascending=False).head(3).tolist()\n",
    "\n",
    "print(last_3_years)\n",
    "\n",
    "# Dropdown menu\n",
    "year_dropdown = widgets.SelectMultiple(\n",
    "    options=df_401k['Year'].drop_duplicates().tolist(),\n",
    "    value=last_3_years,\n",
    "    description='Select Year(s):',\n",
    ")\n",
    "\n",
    "# Define the bar width slider \n",
    "bar_width_slider = widgets.FloatSlider(\n",
    "    value=0.35, \n",
    "    min=0.05, \n",
    "    max=1.0, \n",
    "    step=0.05, \n",
    "    description='Bar Width:', \n",
    ")"
   ]
  },
  {
   "cell_type": "markdown",
   "id": "03c9f760-0b6b-4471-8391-485d3ec0bd9f",
   "metadata": {},
   "source": [
    "## 401k Contributions"
   ]
  },
  {
   "cell_type": "code",
   "execution_count": 4,
   "id": "17eb46b9-0c9f-4541-bb98-d403927516c5",
   "metadata": {},
   "outputs": [
    {
     "name": "stdout",
     "output_type": "stream",
     "text": [
      "-----\n",
      "    Year   Owner  Employee  Employer  Employee Limit\n",
      "15  2024  Robert  14144.94      0.00           23000\n",
      "14  2024  Amanda  12626.90   3489.99           23000\n",
      "-----\n"
     ]
    },
    {
     "data": {
      "application/vnd.jupyter.widget-view+json": {
       "model_id": "5e60e2b03a56475780d69805f2842022",
       "version_major": 2,
       "version_minor": 0
      },
      "text/plain": [
       "interactive(children=(SelectMultiple(description='Select Year(s):', index=(0, 1, 2), options=(2024, 2023, 2022…"
      ]
     },
     "metadata": {},
     "output_type": "display_data"
    }
   ],
   "source": [
    "\n",
    "print(\"-----\")\n",
    "print(df_401k.loc[df_401k['Year'] == 2024])\n",
    "print(\"-----\")\n",
    "\n",
    "def yearly_contributions(selected_years,bar_width):\n",
    "    clear_output(wait=True)\n",
    "    yearly_contributions_stacked_bar_graph(df_401k,selected_years, title='401k Contributions Per Year', bar_width=bar_width)\n",
    "    yearly_contributions_stacked_bar_graph(df_HSA,selected_years, title='HSA Contributionsr Per Year', bar_width=bar_width)\n",
    "    yearly_contributions_stacked_bar_graph(df_roth,selected_years, title='ROTH Contributionsr Per Year', bar_width=bar_width)\n",
    "    \n",
    "    \n",
    "interactive_plots = widgets.interactive(yearly_contributions, selected_years=year_dropdown, bar_width=bar_width_slider)\n",
    "\n",
    "# Display the interactive plot only (this includes the dropdown)\n",
    "display(interactive_plots)\n"
   ]
  },
  {
   "cell_type": "markdown",
   "id": "ccc2d06f-7c8a-45ec-8ef6-56aeb15a47f1",
   "metadata": {},
   "source": [
    "## Yearly Contributions By Company and Type"
   ]
  },
  {
   "cell_type": "code",
   "execution_count": 5,
   "id": "8caeb4c1-4957-4d1d-8477-65217d3f66db",
   "metadata": {},
   "outputs": [
    {
     "name": "stdout",
     "output_type": "stream",
     "text": [
      "    Year          Company  Contributions\n",
      "31  2024     John Hancock       12269.94\n",
      "30  2024         Fidelity       16116.89\n",
      "29  2024   Charles Schwab        1875.00\n",
      "28  2024  Associated Bank        1624.98\n",
      "27  2023     John Hancock       11700.00\n",
      "26  2023         Fidelity       12710.29\n",
      "25  2022         Fidelity       31406.80\n",
      "24  2021         Vanguard         479.00\n",
      "23  2021         Fidelity       31765.91\n",
      "22  2020         Vanguard        2409.00\n",
      "------------------------------\n",
      "    Year             Type  Contributions\n",
      "33  2024              HSA        1624.98\n",
      "32  2024             401k       30261.83\n",
      "31  2023              HSA         582.40\n",
      "30  2023             401k       23827.89\n",
      "29  2022              HSA        7019.25\n",
      "28  2022             401k       24387.55\n",
      "27  2021         Roth IRA         479.00\n",
      "26  2021              HSA        6826.75\n",
      "25  2021             401k       24939.16\n",
      "24  2020  Traditional IRA        2000.00\n",
      "------------------------------\n",
      "    Year         Employer  Contributions\n",
      "29  2024              UHS       16116.89\n",
      "28  2024        SwineTech       12269.94\n",
      "27  2024  Associated Bank        3499.98\n",
      "26  2023              UHS       10990.41\n",
      "25  2023        SwineTech       11700.00\n",
      "24  2023  Rocket Software        1719.88\n",
      "23  2022              UHS        8027.60\n",
      "22  2022  Rocket Software       23379.20\n",
      "21  2021              UHS        6262.44\n",
      "20  2021  Rocket Software       25503.47\n"
     ]
    },
    {
     "data": {
      "application/vnd.jupyter.widget-view+json": {
       "model_id": "006279d0866f4ab28951b48bf905963e",
       "version_major": 2,
       "version_minor": 0
      },
      "text/plain": [
       "interactive(children=(SelectMultiple(description='Select Year(s):', index=(0, 1, 2), options=(2024, 2023, 2022…"
      ]
     },
     "metadata": {},
     "output_type": "display_data"
    }
   ],
   "source": [
    "\n",
    "df_yearly_contributions_by_company = ReportsClass.get_yearly_retirement_contributions(agg_by='Company')\n",
    "df_yearly_contributions_by_type = ReportsClass.get_yearly_retirement_contributions(agg_by='Type')\n",
    "df_yearly_contributions_by_employer = ReportsClass.get_yearly_retirement_contributions(agg_by='Employer')\n",
    "\n",
    "df_yearly_contributions_by_company =  df_yearly_contributions_by_company.iloc[::-1]\n",
    "df_yearly_contributions_by_type =  df_yearly_contributions_by_type.iloc[::-1]\n",
    "df_yearly_contributions_by_employer = df_yearly_contributions_by_employer.iloc[::-1]\n",
    "\n",
    "print(df_yearly_contributions_by_company.head(10))\n",
    "print(\"---\"*10)\n",
    "print(df_yearly_contributions_by_type.head(10))\n",
    "print(\"---\"*10)\n",
    "print(df_yearly_contributions_by_employer.head(10))\n",
    "\n",
    "\n",
    "def create_bar_plots_company(selected_years,bar_width):\n",
    "    clear_output(wait=True)\n",
    "    yearly_balance_stacked_bar_graph(df_yearly_contributions_by_company,selected_years, title='Contributions By Company Per Year', group_by=['Year','Company'], width=bar_width,money_type='Contributions')\n",
    "    yearly_balance_stacked_bar_graph(df_yearly_contributions_by_type,selected_years, title='Contriobutions By Type Per Year', group_by=['Year','Type'], width=bar_width,money_type='Contributions')\n",
    "    yearly_balance_stacked_bar_graph(df_yearly_contributions_by_employer,selected_years, title='Contributions By Employer Per Year', group_by=['Year','Employer'], width=bar_width,money_type='Contributions')\n",
    "    \n",
    "    \n",
    "interactive_plots = widgets.interactive(create_bar_plots_company, selected_years=year_dropdown,bar_width=bar_width_slider)\n",
    "\n",
    "# Display the interactive plot only (this includes the dropdown)\n",
    "display(interactive_plots)"
   ]
  }
 ],
 "metadata": {
  "kernelspec": {
   "display_name": "Python 3 (ipykernel)",
   "language": "python",
   "name": "python3"
  },
  "language_info": {
   "codemirror_mode": {
    "name": "ipython",
    "version": 3
   },
   "file_extension": ".py",
   "mimetype": "text/x-python",
   "name": "python",
   "nbconvert_exporter": "python",
   "pygments_lexer": "ipython3",
   "version": "3.11.0"
  }
 },
 "nbformat": 4,
 "nbformat_minor": 5
}
