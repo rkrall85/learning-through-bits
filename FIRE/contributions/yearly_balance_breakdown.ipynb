{
 "cells": [
  {
   "cell_type": "code",
   "execution_count": 1,
   "id": "511fde2c-843c-4e89-bd0e-0f8b8aadc089",
   "metadata": {},
   "outputs": [],
   "source": [
    "import matplotlib.pyplot as plt\n",
    "from ipywidgets import widgets, interact, fixed\n",
    "from IPython.display import display, clear_output\n",
    "import pandas as pd\n",
    "import numpy as np\n",
    "import locale\n",
    "import sys \n",
    "import os \n",
    "# Add the higher-level directory containing the module to the sys.path \n",
    "module_path = os.path.abspath(os.path.join('..', 'libs')) \n",
    "if module_path not in sys.path: \n",
    "    sys.path.append(module_path) # Import the class from the module from your_module import\n",
    "\n",
    "\n",
    "from ReportData import *\n",
    "from ReportGraphs import *\n",
    "\n",
    "\n",
    "\n",
    "# Set locale to US English for currency formatting\n",
    "locale.setlocale(locale.LC_ALL, 'en_US.UTF-8')\n",
    "\n",
    "\n",
    "ReportsClass = ReportData(copy_file=False,use_copied_file=False)\n"
   ]
  },
  {
   "cell_type": "code",
   "execution_count": 2,
   "id": "c476efe9-7ded-4e6b-89da-8d6c6a734fbf",
   "metadata": {
    "scrolled": true
   },
   "outputs": [
    {
     "name": "stdout",
     "output_type": "stream",
     "text": [
      "    Year    Balance\n",
      "14  2024  543044.52\n",
      "13  2023  416511.78\n",
      "12  2022  318003.20\n"
     ]
    }
   ],
   "source": [
    "df = ReportsClass.get_yearly_retirement_balances(return_hsa=True, return_401k=True)\n",
    "\n",
    "df_tr =  df['balances_tr'].iloc[::-1]\n",
    "df_401k =  df['balances_401k'].iloc[::-1]\n",
    "df_hsa =  df['balances_hsa'].iloc[::-1]\n",
    "\n",
    "print(df_tr.head(3))"
   ]
  },
  {
   "cell_type": "code",
   "execution_count": 3,
   "id": "309b51f3-667d-421f-98a2-aacc20c49826",
   "metadata": {},
   "outputs": [],
   "source": [
    "# Automatically select the last 3 years\n",
    "last_3_years = df_tr['Year'].head(3).tolist()\n",
    "\n",
    "# Dropdown menu\n",
    "year_dropdown = widgets.SelectMultiple(\n",
    "    options=df_tr['Year'].tolist(),\n",
    "    value=last_3_years,\n",
    "    description='Select Year(s):',\n",
    ")\n",
    "\n",
    "# Dropdown menu for selecting future years\n",
    "future_years_dropdown = widgets.Dropdown(\n",
    "    options=[i for i in range(1, 21)],\n",
    "    value=5,\n",
    "    description='Future Years:',\n",
    ")\n"
   ]
  },
  {
   "cell_type": "markdown",
   "id": "029e7530-236b-484f-a1d5-1e0a2c39fcce",
   "metadata": {},
   "source": [
    "### Yearly Retirement Balances"
   ]
  },
  {
   "cell_type": "code",
   "execution_count": 11,
   "id": "d834f845-f892-44c1-9d9b-e6923b709981",
   "metadata": {},
   "outputs": [
    {
     "data": {
      "application/vnd.jupyter.widget-view+json": {
       "model_id": "6362ac31e8364277aa02dd7709409c59",
       "version_major": 2,
       "version_minor": 0
      },
      "text/plain": [
       "interactive(children=(SelectMultiple(description='Select Year(s):', index=(11, 12, 13, 14), options=(2024, 202…"
      ]
     },
     "metadata": {},
     "output_type": "display_data"
    },
    {
     "data": {
      "text/plain": [
       "<Figure size 1000x600 with 0 Axes>"
      ]
     },
     "metadata": {},
     "output_type": "display_data"
    }
   ],
   "source": [
    "\n",
    "def update_bar_plots(selected_years, future_years):\n",
    "    clear_output(wait=True)\n",
    "\n",
    "    yearly_balance_bar_graph_with_predictions(df_tr, selected_years, 'Total Retirement Balance Over Time',future_years)\n",
    "    yearly_balance_bar_graph_with_predictions(df_401k, selected_years, '401k Balance Over Time',future_years)\n",
    "    yearly_balance_bar_graph_with_predictions(df_hsa, selected_years, 'HSA Balance Over Time', future_years)\n",
    "\n",
    "# Use interactive to link the dropdown and the plotting function\n",
    "interactive_plots = widgets.interactive(update_bar_plots, selected_years=year_dropdown, future_years=future_years_dropdown)\n",
    "\n",
    "# Display the interactive plot only (this includes the dropdown)\n",
    "display(interactive_plots)\n"
   ]
  },
  {
   "cell_type": "markdown",
   "id": "aaf11f8c-a8e5-44c5-84c2-75c6a2b2336a",
   "metadata": {},
   "source": [
    "### Balances By Type"
   ]
  },
  {
   "cell_type": "code",
   "execution_count": 5,
   "id": "c0c75be9-b5c2-445e-8ad2-1fccfa2919b6",
   "metadata": {},
   "outputs": [
    {
     "ename": "NameError",
     "evalue": "name 'company' is not defined",
     "output_type": "error",
     "traceback": [
      "\u001b[1;31m---------------------------------------------------------------------------\u001b[0m",
      "\u001b[1;31mNameError\u001b[0m                                 Traceback (most recent call last)",
      "Cell \u001b[1;32mIn[5], line 1\u001b[0m\n\u001b[1;32m----> 1\u001b[0m \u001b[43mcompany\u001b[49m, employer, \u001b[38;5;28mtype\u001b[39m\n",
      "\u001b[1;31mNameError\u001b[0m: name 'company' is not defined"
     ]
    }
   ],
   "source": [
    " # company, employer, type"
   ]
  },
  {
   "cell_type": "code",
   "execution_count": 10,
   "id": "24f26db5-a947-49bd-a93c-e2a57226032f",
   "metadata": {},
   "outputs": [
    {
     "name": "stdout",
     "output_type": "stream",
     "text": [
      "-----\n",
      "-----\n"
     ]
    },
    {
     "data": {
      "application/vnd.jupyter.widget-view+json": {
       "model_id": "7af3917b5bbe4ad0b794d39fcdc71f56",
       "version_major": 2,
       "version_minor": 0
      },
      "text/plain": [
       "interactive(children=(SelectMultiple(description='Select Year(s):', index=(0, 1, 2, 3), options=(2024, 2023, 2…"
      ]
     },
     "metadata": {},
     "output_type": "display_data"
    },
    {
     "data": {
      "text/plain": [
       "<function ReportGraphs.yearly_balance_stacked_bar_graph(df, selected_years, title='Company Balances Over Years', width=0.2)>"
      ]
     },
     "execution_count": 10,
     "metadata": {},
     "output_type": "execute_result"
    }
   ],
   "source": [
    "df_c = ReportsClass.get_yearly_retirement_balances(['Company'])\n",
    "#df_t = ReportsClass.get_yearly_retirement_balances(['Type'])\n",
    "df_company = df_c['balances_tr'].iloc[::-1]\n",
    "#df_type = df_t['balances_tr'].iloc[::-1]\n",
    "\n",
    "print(\"-----\")\n",
    "#print(df_company.loc[df_company['Year'] == 2024])\n",
    "print(\"-----\")\n",
    "\n",
    "def create_bar_plots_company(selected_years, future_years):\n",
    "    clear_output(wait=True)\n",
    "\n",
    "    #yearly_balance_stacked_bar_graph(df_tr, selected_years, 'Balance Over Time By Company')\n",
    "    #yearly_balance_bar_graph_with_predictions(df_401k, selected_years, '401k Balance Over Time',future_years)\n",
    "    #yearly_balance_bar_graph_with_predictions(df_hsa, selected_years, 'HSA Balance Over Time', future_years)\n",
    "\n",
    "interact(yearly_balance_stacked_bar_graph, df=fixed(df_company), selected_years=year_dropdown)\n",
    "\n",
    "    \n",
    "# Use interactive to link the dropdown and the plotting function\n",
    "#interactive_plots = widgets.interactive(create_bar_plots_company, selected_years=year_dropdown, future_years=future_years_dropdown)\n",
    "#interact(yearly_balance_stacked_bar_graph, df=fixed(df_tr), selected_years=year_dropdown)\n"
   ]
  },
  {
   "cell_type": "code",
   "execution_count": null,
   "id": "0fe24e0d-843b-4ab9-b113-778955ce4a30",
   "metadata": {},
   "outputs": [],
   "source": []
  }
 ],
 "metadata": {
  "kernelspec": {
   "display_name": "Python 3 (ipykernel)",
   "language": "python",
   "name": "python3"
  },
  "language_info": {
   "codemirror_mode": {
    "name": "ipython",
    "version": 3
   },
   "file_extension": ".py",
   "mimetype": "text/x-python",
   "name": "python",
   "nbconvert_exporter": "python",
   "pygments_lexer": "ipython3",
   "version": "3.11.0"
  }
 },
 "nbformat": 4,
 "nbformat_minor": 5
}
