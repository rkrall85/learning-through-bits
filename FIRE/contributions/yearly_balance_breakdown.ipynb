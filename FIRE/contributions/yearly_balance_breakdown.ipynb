{
 "cells": [
  {
   "cell_type": "code",
   "execution_count": 12,
   "id": "511fde2c-843c-4e89-bd0e-0f8b8aadc089",
   "metadata": {},
   "outputs": [],
   "source": [
    "\n",
    "import sys \n",
    "import os \n",
    "# Add the higher-level directory containing the module to the sys.path \n",
    "module_path = os.path.abspath(os.path.join('..', 'libs')) \n",
    "if module_path not in sys.path: \n",
    "    sys.path.append(module_path) # Import the class from the module from your_module import\n",
    "\n",
    "\n",
    "from ReportData import *\n",
    "from ReportGraphs import *\n"
   ]
  },
  {
   "cell_type": "code",
   "execution_count": 13,
   "id": "c476efe9-7ded-4e6b-89da-8d6c6a734fbf",
   "metadata": {
    "scrolled": true
   },
   "outputs": [],
   "source": [
    "ReportsClass = ReportData(copy_file=False,use_copied_file=False)\n",
    "\n",
    "df_tr, df_401k, df_hsa = ReportsClass.get_yearly_retirement_balances()\n",
    "df_tr = df_tr.iloc[::-1]\n",
    "df_401k = df_401k.iloc[::-1]\n",
    "df_hsa = df_hsa.iloc[::-1]\n",
    "\n",
    "#print(df_tr.head(3))"
   ]
  },
  {
   "cell_type": "markdown",
   "id": "029e7530-236b-484f-a1d5-1e0a2c39fcce",
   "metadata": {},
   "source": [
    "### Yearly Retirement Balances"
   ]
  },
  {
   "cell_type": "code",
   "execution_count": 14,
   "id": "d834f845-f892-44c1-9d9b-e6923b709981",
   "metadata": {},
   "outputs": [
    {
     "data": {
      "application/vnd.jupyter.widget-view+json": {
       "model_id": "69442c9e3fd245bba8fee0efde73f0d8",
       "version_major": 2,
       "version_minor": 0
      },
      "text/plain": [
       "interactive(children=(SelectMultiple(description='Select Year(s):', index=(0, 1, 2), options=(2024, 2023, 2022…"
      ]
     },
     "metadata": {},
     "output_type": "display_data"
    }
   ],
   "source": [
    "import matplotlib.pyplot as plt\n",
    "import ipywidgets as widgets\n",
    "from IPython.display import display, clear_output\n",
    "import pandas as pd\n",
    "import numpy as np\n",
    "import locale\n",
    "\n",
    "# Set locale to US English for currency formatting\n",
    "locale.setlocale(locale.LC_ALL, 'en_US.UTF-8')\n",
    "\n",
    "# Automatically select the last 3 years\n",
    "last_3_years = df_401k['Year'].head(3).tolist()\n",
    "\n",
    "# Dropdown menu\n",
    "year_dropdown = widgets.SelectMultiple(\n",
    "    options=df_401k['Year'].tolist(),\n",
    "    value=last_3_years,\n",
    "    description='Select Year(s):',\n",
    ")\n",
    "\n",
    "# Dropdown menu for selecting future years\n",
    "future_years_dropdown = widgets.Dropdown(\n",
    "    options=[i for i in range(1, 21)],\n",
    "    value=5,\n",
    "    description='Future Years:',\n",
    ")\n",
    "\n",
    "def update_bar_plots(selected_years, future_years):\n",
    "    clear_output(wait=True)\n",
    "    #create_combined_bar_plot(df_tr, selected_years, 'Total Retirement Balance Over Time',future_years)\n",
    "    #create_combined_bar_plot(df_401k, selected_years, '401k Balance Over Time',future_years)\n",
    "    #create_combined_bar_plot(df_hsa, selected_years, 'HSA Balance Over Time', future_years)\n",
    "\n",
    "    yearly_balance_bar_graph_with_predictions(df_tr, selected_years, 'Total Retirement Balance Over Time',future_years)\n",
    "    yearly_balance_bar_graph_with_predictions(df_401k, selected_years, '401k Balance Over Time',future_years)\n",
    "    yearly_balance_bar_graph_with_predictions(df_hsa, selected_years, 'HSA Balance Over Time', future_years)\n",
    "\n",
    "# Use interactive to link the dropdown and the plotting function\n",
    "interactive_plots = widgets.interactive(update_bar_plots, selected_years=year_dropdown, future_years=future_years_dropdown)\n",
    "\n",
    "# Display the interactive plot only (this includes the dropdown)\n",
    "display(interactive_plots)\n"
   ]
  }
 ],
 "metadata": {
  "kernelspec": {
   "display_name": "Python 3 (ipykernel)",
   "language": "python",
   "name": "python3"
  },
  "language_info": {
   "codemirror_mode": {
    "name": "ipython",
    "version": 3
   },
   "file_extension": ".py",
   "mimetype": "text/x-python",
   "name": "python",
   "nbconvert_exporter": "python",
   "pygments_lexer": "ipython3",
   "version": "3.11.0"
  }
 },
 "nbformat": 4,
 "nbformat_minor": 5
}
