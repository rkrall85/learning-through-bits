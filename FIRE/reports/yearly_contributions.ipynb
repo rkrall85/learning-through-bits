{
 "cells": [
  {
   "cell_type": "code",
   "execution_count": 3,
   "id": "2a0f0651-a6af-4768-bc50-bbc05548e1fd",
   "metadata": {},
   "outputs": [],
   "source": [
    "import matplotlib.pyplot as plt\n",
    "from ipywidgets import widgets, interact, fixed\n",
    "from IPython.display import display, clear_output\n",
    "import pandas as pd\n",
    "import numpy as np\n",
    "import locale\n",
    "import sys \n",
    "import os \n",
    "# Add the higher-level directory containing the module to the sys.path \n",
    "module_path = os.path.abspath(os.path.join('..', 'libs')) \n",
    "if module_path not in sys.path: \n",
    "    sys.path.append(module_path) # Import the class from the module from your_module import\n",
    "\n",
    "\n",
    "from ReportData import *\n",
    "from ReportGraphs import *\n",
    "\n",
    "# Set locale to US English for currency formatting\n",
    "locale.setlocale(locale.LC_ALL, 'en_US.UTF-8')\n",
    "\n",
    "\n",
    "ReportsClass = ReportData(copy_file=False,use_copied_file=False)"
   ]
  },
  {
   "cell_type": "code",
   "execution_count": 4,
   "id": "6490088a-a33b-4291-9e33-4fbca2db0b4f",
   "metadata": {},
   "outputs": [],
   "source": [
    "# Get the data\n",
    "df_401k = ReportsClass.get_yearly_contributions_per_person('401k')\n",
    "df_HSA = ReportsClass.get_yearly_contributions_per_person('HSA')\n",
    "df_roth = ReportsClass.get_yearly_contributions_per_person('Roth IRA')\n",
    "\n",
    "# reorder df\n",
    "df_401k =  df_401k.iloc[::-1]\n",
    "df_HSA = df_HSA.iloc[::-1]\n",
    "df_roth = df_roth.iloc[::-1]\n"
   ]
  },
  {
   "cell_type": "markdown",
   "id": "4b87a15a-a3d1-466c-b177-8efdc7d5d7ae",
   "metadata": {},
   "source": [
    "## Report Parameters"
   ]
  },
  {
   "cell_type": "code",
   "execution_count": 5,
   "id": "58158b68-e280-4d8e-8eef-6524fc1671b7",
   "metadata": {},
   "outputs": [],
   "source": [
    "# Get the last 3 distinct years\n",
    "last_3_years = df_401k['Year'].drop_duplicates().sort_values(ascending=False).head(3).tolist()\n",
    "\n",
    "#print(last_3_years)\n",
    "\n",
    "# Dropdown menu\n",
    "year_dropdown = widgets.SelectMultiple(\n",
    "    options=df_401k['Year'].drop_duplicates().tolist(),\n",
    "    value=last_3_years,\n",
    "    description='Select Year(s):',\n",
    ")\n",
    "\n",
    "# Define the bar width slider \n",
    "bar_width_slider = widgets.FloatSlider(\n",
    "    value=0.35, \n",
    "    min=0.05, \n",
    "    max=1.0, \n",
    "    step=0.05, \n",
    "    description='Bar Width:', \n",
    ")"
   ]
  },
  {
   "cell_type": "markdown",
   "id": "03c9f760-0b6b-4471-8391-485d3ec0bd9f",
   "metadata": {},
   "source": [
    "## 401k Contributions"
   ]
  },
  {
   "cell_type": "code",
   "execution_count": 6,
   "id": "17eb46b9-0c9f-4541-bb98-d403927516c5",
   "metadata": {},
   "outputs": [
    {
     "name": "stdout",
     "output_type": "stream",
     "text": [
      "-----\n",
      "      Year   Owner  Employee  Employer  Employee Limit\n",
      "15  2024.0  Robert  14144.94      0.00           23000\n",
      "14  2024.0  Amanda  13106.90   3489.99           23000\n",
      "-----\n"
     ]
    },
    {
     "data": {
      "application/vnd.jupyter.widget-view+json": {
       "model_id": "5df403c473e34a39a061bd65a22ba129",
       "version_major": 2,
       "version_minor": 0
      },
      "text/plain": [
       "interactive(children=(SelectMultiple(description='Select Year(s):', index=(0, 1, 2), options=(2024.0, 2023.0, …"
      ]
     },
     "metadata": {},
     "output_type": "display_data"
    }
   ],
   "source": [
    "\n",
    "print(\"-----\")\n",
    "print(df_401k.loc[df_401k['Year'] == 2024])\n",
    "print(\"-----\")\n",
    "\n",
    "def yearly_contributions(selected_years,bar_width):\n",
    "    clear_output(wait=True)\n",
    "    yearly_contributions_stacked_bar_graph(df_401k,selected_years, title='401k Contributions Per Year', bar_width=bar_width)\n",
    "    yearly_contributions_stacked_bar_graph(df_HSA,selected_years, title='HSA Contributionsr Per Year', bar_width=bar_width)\n",
    "    yearly_contributions_stacked_bar_graph(df_roth,selected_years, title='ROTH Contributionsr Per Year', bar_width=bar_width)\n",
    "    \n",
    "    \n",
    "interactive_plots = widgets.interactive(yearly_contributions, selected_years=year_dropdown, bar_width=bar_width_slider)\n",
    "\n",
    "# Display the interactive plot only (this includes the dropdown)\n",
    "display(interactive_plots)\n"
   ]
  },
  {
   "cell_type": "markdown",
   "id": "ccc2d06f-7c8a-45ec-8ef6-56aeb15a47f1",
   "metadata": {},
   "source": [
    "## Yearly Contributions By Company and Type"
   ]
  },
  {
   "cell_type": "code",
   "execution_count": 7,
   "id": "8caeb4c1-4957-4d1d-8477-65217d3f66db",
   "metadata": {},
   "outputs": [
    {
     "data": {
      "application/vnd.jupyter.widget-view+json": {
       "model_id": "63752a76d55346d08ad08d987ce9e59b",
       "version_major": 2,
       "version_minor": 0
      },
      "text/plain": [
       "interactive(children=(SelectMultiple(description='Select Year(s):', index=(0, 1, 2), options=(2024.0, 2023.0, …"
      ]
     },
     "metadata": {},
     "output_type": "display_data"
    }
   ],
   "source": [
    "\n",
    "df_yearly_contributions_by_company = ReportsClass.get_yearly_retirement_contributions(agg_by='Company')\n",
    "df_yearly_contributions_by_type = ReportsClass.get_yearly_retirement_contributions(agg_by='Type')\n",
    "df_yearly_contributions_by_employer = ReportsClass.get_yearly_retirement_contributions(agg_by='Employer')\n",
    "\n",
    "df_yearly_contributions_by_company =  df_yearly_contributions_by_company.iloc[::-1]\n",
    "df_yearly_contributions_by_type =  df_yearly_contributions_by_type.iloc[::-1]\n",
    "df_yearly_contributions_by_employer = df_yearly_contributions_by_employer.iloc[::-1]\n",
    "\n",
    "'''\n",
    "print(df_yearly_contributions_by_company.head(10))\n",
    "print(\"---\"*10)\n",
    "print(df_yearly_contributions_by_type.head(10))\n",
    "print(\"---\"*10)\n",
    "print(df_yearly_contributions_by_employer.head(10))\n",
    "'''\n",
    "\n",
    "def create_bar_plots_company(selected_years,bar_width):\n",
    "    clear_output(wait=True)\n",
    "    yearly_balance_stacked_bar_graph(df_yearly_contributions_by_company,selected_years, title='Contributions(Company) Per Year', group_by=['Year','Company'], width=bar_width,money_type='Contributions')\n",
    "    yearly_balance_stacked_bar_graph(df_yearly_contributions_by_type,selected_years, title='Contributions By Type Per Year', group_by=['Year','Type'], width=bar_width,money_type='Contributions')\n",
    "    yearly_balance_stacked_bar_graph(df_yearly_contributions_by_employer,selected_years, title='Contributions (Employer) Per Year', group_by=['Year','Employer'], width=bar_width,money_type='Contributions')\n",
    "    \n",
    "    \n",
    "interactive_plots = widgets.interactive(create_bar_plots_company, selected_years=year_dropdown,bar_width=bar_width_slider)\n",
    "\n",
    "# Display the interactive plot only (this includes the dropdown)\n",
    "display(interactive_plots)"
   ]
  },
  {
   "cell_type": "code",
   "execution_count": null,
   "id": "5babaeaa-7e97-4772-bd89-14c2cc105d73",
   "metadata": {},
   "outputs": [],
   "source": []
  }
 ],
 "metadata": {
  "kernelspec": {
   "display_name": "Python 3 (ipykernel)",
   "language": "python",
   "name": "python3"
  },
  "language_info": {
   "codemirror_mode": {
    "name": "ipython",
    "version": 3
   },
   "file_extension": ".py",
   "mimetype": "text/x-python",
   "name": "python",
   "nbconvert_exporter": "python",
   "pygments_lexer": "ipython3",
   "version": "3.11.0"
  }
 },
 "nbformat": 4,
 "nbformat_minor": 5
}
