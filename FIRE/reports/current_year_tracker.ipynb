{
 "cells": [
  {
   "cell_type": "code",
   "execution_count": 10,
   "id": "d59d9cf2-cfc8-4780-9f98-07fc9b7b0ffc",
   "metadata": {},
   "outputs": [],
   "source": [
    "from ipywidgets import widgets, interact, fixed\n",
    "from IPython.display import display, clear_output\n",
    "import pandas as pd\n",
    "import numpy as np\n",
    "import locale\n",
    "import sys \n",
    "import os \n",
    "import matplotlib.pyplot as plt\n",
    "\n",
    "# Add the higher-level directory containing the module to the sys.path \n",
    "module_path = os.path.abspath(os.path.join('..', 'libs')) \n",
    "if module_path not in sys.path: \n",
    "    sys.path.append(module_path) # Import the class from the module from your_module import\n",
    "\n",
    "\n",
    "from ReportData import *\n",
    "from ReportGraphs import *\n",
    "\n",
    "# Set locale to US English for currency formatting\n",
    "locale.setlocale(locale.LC_ALL, 'en_US.UTF-8')\n",
    "# setup reports class\n",
    "ReportsClass = ReportData(copy_file=False,use_copied_file=False)"
   ]
  },
  {
   "cell_type": "markdown",
   "id": "ec842970-0c0d-49fc-af76-4e590cd8a456",
   "metadata": {},
   "source": [
    "## Report Parameters"
   ]
  },
  {
   "cell_type": "code",
   "execution_count": 12,
   "id": "cbfa0f0e-d0f1-4d71-b76f-5d9cab5edb45",
   "metadata": {},
   "outputs": [],
   "source": [
    "# Dropdown menu\n",
    "year_dropdown = widgets.Dropdown(\n",
    "    options=ReportsClass.year_list,\n",
    "    value=ReportsClass.current_year,\n",
    "    description='Select Year:',\n",
    ")\n",
    "\n",
    "quarter_dropdown = widgets.Dropdown(\n",
    "    options=[1,2,3,4],\n",
    "    value=ReportsClass.current_quarter,\n",
    "    description='Select Quarter:',\n",
    ")"
   ]
  },
  {
   "cell_type": "markdown",
   "id": "48b0000c-319b-4b78-8f5b-fd362150cd50",
   "metadata": {},
   "source": [
    "## 401k Contribution Tracker"
   ]
  },
  {
   "cell_type": "code",
   "execution_count": 13,
   "id": "03bb0452-4a19-4ef5-9169-3ca18b3fdced",
   "metadata": {},
   "outputs": [
    {
     "data": {
      "application/vnd.jupyter.widget-view+json": {
       "model_id": "a24caaecb14d47c1af2aecfe888c62b3",
       "version_major": 2,
       "version_minor": 0
      },
      "text/plain": [
       "interactive(children=(Dropdown(description='Select Year:', options=(2024, 2023, 2022, 2021, 2020, 2019, 2018, …"
      ]
     },
     "metadata": {},
     "output_type": "display_data"
    }
   ],
   "source": [
    "\n",
    "def yearly_progress(selected_year,selected_quarter):\n",
    "    owner= \"Robert\"\n",
    "    current_contributions, contributions_goal, yearly_contributions, previous_contributions, previous_yearly_contributions = ReportsClass.get_retirement_progress_balances(year=selected_year, owner=owner, quarter=selected_quarter)\n",
    "    retirement_progress_bar(current_contributions,contributions_goal, yearly_contributions, owner, selected_year, selected_quarter, previous_contributions, previous_yearly_contributions )\n",
    "\n",
    "    owner= \"Amanda\"\n",
    "    current_contributions, contributions_goal, yearly_contributions, previous_contributions, previous_yearly_contributions = ReportsClass.get_retirement_progress_balances(year=selected_year, owner=owner, quarter=selected_quarter)\n",
    "    retirement_progress_bar(current_contributions,contributions_goal, yearly_contributions, owner, selected_year, selected_quarter, previous_contributions, previous_yearly_contributions )\n",
    "\n",
    "\n",
    "  \n",
    "interactive_plots = widgets.interactive(yearly_progress, selected_year=year_dropdown, selected_quarter=quarter_dropdown)\n",
    "\n",
    "# Display the interactive plot only (this includes the dropdown)\n",
    "display(interactive_plots)"
   ]
  },
  {
   "cell_type": "markdown",
   "id": "b0fdffde-d7b9-4674-9259-1cfd6bcb368c",
   "metadata": {},
   "source": [
    "## 401k Compare Last Year"
   ]
  },
  {
   "cell_type": "code",
   "execution_count": 14,
   "id": "5679ef4e-c91c-4cfb-b883-01dc632ee8c7",
   "metadata": {},
   "outputs": [
    {
     "data": {
      "application/vnd.jupyter.widget-view+json": {
       "model_id": "ba94bf288208456980c05ffbb36111e9",
       "version_major": 2,
       "version_minor": 0
      },
      "text/plain": [
       "interactive(children=(Dropdown(description='Select Year:', options=(2024, 2023, 2022, 2021, 2020, 2019, 2018, …"
      ]
     },
     "metadata": {},
     "output_type": "display_data"
    }
   ],
   "source": [
    "\n",
    "def yearly_progress(selected_year, selected_quarter):\n",
    "    \n",
    "    owner= \"Robert\"\n",
    "    df = ReportsClass.get_yearly_contributions_left(type='401k', owner=owner, year=selected_year, quarter=selected_quarter)\n",
    "    bar_chart_contributions_left(df, selected_year, selected_year-1, '401k', owner)\n",
    "\n",
    "    owner= \"Amanda\"\n",
    "    df = ReportsClass.get_yearly_contributions_left(type='401k', owner=owner, year=selected_year,quarter=selected_quarter)\n",
    "    bar_chart_contributions_left(df, selected_year, selected_year-1, '401k', owner)\n",
    "\n",
    "interactive_plots = widgets.interactive(yearly_progress, selected_year=year_dropdown, selected_quarter=quarter_dropdown)\n",
    "\n",
    "# Display the interactive plot only (this includes the dropdown)\n",
    "display(interactive_plots)\n"
   ]
  },
  {
   "cell_type": "markdown",
   "id": "2097908a-14f7-4c2e-8582-3e4d25dc4b1b",
   "metadata": {},
   "source": [
    "## HSA Year Contributions Left"
   ]
  },
  {
   "cell_type": "code",
   "execution_count": 8,
   "id": "8ec55d50-9bd6-468a-8ee8-ade9c9363a58",
   "metadata": {},
   "outputs": [
    {
     "data": {
      "application/vnd.jupyter.widget-view+json": {
       "model_id": "ec90b24595244a94ac65c93c4618a19c",
       "version_major": 2,
       "version_minor": 0
      },
      "text/plain": [
       "interactive(children=(Dropdown(description='Select Year:', options=(2024, 2023, 2022, 2021, 2020, 2019, 2018, …"
      ]
     },
     "metadata": {},
     "output_type": "display_data"
    }
   ],
   "source": [
    "def yearly_progress(selected_year, selected_quarter):\n",
    "    \n",
    "    df = ReportsClass.get_yearly_contributions_left(type='HSA', year=selected_year,quarter=selected_quarter)\n",
    "    bar_chart_contributions_left(df, selected_year, selected_year-1,  'HSA')\n",
    "\n",
    "interactive_plots = widgets.interactive(yearly_progress, selected_year=year_dropdown, selected_quarter=quarter_dropdown)\n",
    "\n",
    "# Display the interactive plot only (this includes the dropdown)\n",
    "display(interactive_plots)\n"
   ]
  }
 ],
 "metadata": {
  "kernelspec": {
   "display_name": "Python 3 (ipykernel)",
   "language": "python",
   "name": "python3"
  },
  "language_info": {
   "codemirror_mode": {
    "name": "ipython",
    "version": 3
   },
   "file_extension": ".py",
   "mimetype": "text/x-python",
   "name": "python",
   "nbconvert_exporter": "python",
   "pygments_lexer": "ipython3",
   "version": "3.11.0"
  }
 },
 "nbformat": 4,
 "nbformat_minor": 5
}
