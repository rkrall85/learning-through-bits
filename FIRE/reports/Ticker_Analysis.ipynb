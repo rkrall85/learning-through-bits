{
 "cells": [
  {
   "cell_type": "code",
   "execution_count": 1,
   "id": "732b20ca-d8b5-43f8-ad07-342617c3b9d1",
   "metadata": {},
   "outputs": [],
   "source": [
    "import matplotlib.pyplot as plt\n",
    "from ipywidgets import widgets, interact, fixed\n",
    "from IPython.display import display, clear_output\n",
    "import pandas as pd\n",
    "import numpy as np\n",
    "import locale\n",
    "import sys \n",
    "import os \n",
    "# Add the higher-level directory containing the module to the sys.path \n",
    "module_path = os.path.abspath(os.path.join('..', 'libs')) \n",
    "if module_path not in sys.path: \n",
    "    sys.path.append(module_path) # Import the class from the module from your_module import\n",
    "\n",
    "\n",
    "from ReportData import *\n",
    "from ReportGraphs import *\n",
    "\n",
    "# Set locale to US English for currency formatting\n",
    "locale.setlocale(locale.LC_ALL, 'en_US.UTF-8')\n",
    "\n",
    "\n",
    "StockClass = StockData(copy_file=False,use_copied_file=False)\n"
   ]
  },
  {
   "cell_type": "code",
   "execution_count": 2,
   "id": "b37e44f7-17df-426b-93f7-76e540d81a5e",
   "metadata": {},
   "outputs": [
    {
     "name": "stdout",
     "output_type": "stream",
     "text": [
      "['ARKW', 'BRK-B', 'FFOLX', 'FSMAX', 'FSMDX', 'FSPSX', 'FSSNX', 'FTEC', 'FXAIX', 'QQQ', 'UHS', 'VB', 'VIIIX', 'VINIX', 'VO', 'VTI', 'VUG', 'VXUS']\n"
     ]
    }
   ],
   "source": [
    "current_stocks_df = StockClass.stock_prices_df[['Company', 'Employer', 'Owner', 'Type', 'Sub Type', 'Stock Ticker', 'Shares', 'Weighted Average']]\n",
    "current_stocks_df = current_stocks_df.rename(columns={'Stock Ticker' :'Stock'})\n",
    "stocks = sorted(set(current_stocks_df['Stock'].to_list()))\n",
    "print(stocks)"
   ]
  },
  {
   "cell_type": "code",
   "execution_count": 3,
   "id": "bc6f64f1-e871-42ca-9758-7f08d0c91c1e",
   "metadata": {},
   "outputs": [
    {
     "name": "stdout",
     "output_type": "stream",
     "text": [
      "    Stock                                          Long Name Inception Date             Category           Fund Family   Total Assets Total Costs Expense Ratio\n",
      "5   FSPSX                       Fidelity International Index     2011-09-08  Foreign Large Blend              Fidelity    51283492864        None          None\n",
      "17   VXUS  Vanguard Total International Stock Index Fund ...     2010-11-29  Foreign Large Blend              Vanguard   431861202944        None          None\n",
      "8   FXAIX                                 Fidelity 500 Index     2011-05-04          Large Blend              Fidelity   619447582720        None          None\n",
      "12  VIIIX              Vanguard Institutional Index Instl Pl     1997-07-07          Large Blend              Vanguard   314898087936        None          None\n",
      "13  VINIX                     Vanguard Institutional Index I     1997-07-07          Large Blend              Vanguard   314898087936        None          None\n",
      "15    VTI  Vanguard Total Stock Market Index Fund ETF Shares     2001-05-24          Large Blend              Vanguard  1777875943424        None          None\n",
      "9     QQQ                                  Invesco QQQ Trust     1999-03-10         Large Growth               Invesco   318905516032        None          None\n",
      "16    VUG              Vanguard Growth Index Fund ETF Shares     2000-11-13         Large Growth              Vanguard   284412182528        None          None\n",
      "3   FSMAX                     Fidelity Extended Market Index     2011-09-08        Mid-Cap Blend              Fidelity    40781828096        None          None\n",
      "4   FSMDX                             Fidelity Mid Cap Index     2011-09-08        Mid-Cap Blend              Fidelity    37019983872        None          None\n",
      "14     VO             Vanguard Mid-Cap Index Fund ETF Shares     2004-01-26        Mid-Cap Blend              Vanguard   176866672640        None          None\n",
      "6   FSSNX                           Fidelity Small Cap Index     2011-09-08          Small Blend              Fidelity    27092656128        None          None\n",
      "11     VB           Vanguard Small-Cap Index Fund ETF Shares     2004-01-26          Small Blend              Vanguard   155268792320        None          None\n",
      "2   FFOLX             Fidelity Freedom Index 2045 Instl Prem     2024-08-22    Target Date Blend              Fidelity    20679843840        None          None\n",
      "0    ARKW   ARK ETF Trust - ARK Next Generation Internet ETF     2014-09-30           Technology         ARK ETF Trust     1755716736        None          None\n",
      "7    FTEC     Fidelity MSCI Information Technology Index ETF     2013-10-21           Technology  Fidelity Investments    13294450688        None          None\n",
      "1   BRK-B                            Berkshire Hathaway Inc.           None                 None                  None           None        None          None\n",
      "10    UHS                    Universal Health Services, Inc.           None                 None                  None           None        None          None\n"
     ]
    }
   ],
   "source": [
    "\n",
    "stock_info_df = pd.DataFrame()\n",
    "# Adjust display settings to prevent column wrapping\n",
    "pd.set_option('display.max_columns', None)  # Display all columns\n",
    "pd.set_option('display.width', 1000)        # Set the width to a large enough value\n",
    "\n",
    "for s in stocks:\n",
    "    s_info_df = StockClass.get_stock_ticker_info(s)\n",
    "    stock_info_df = stock_info_df._append(s_info_df, ignore_index=True)\n",
    "\n",
    "print(stock_info_df.sort_values(by=['Category', 'Fund Family']))"
   ]
  },
  {
   "cell_type": "code",
   "execution_count": 9,
   "id": "75e1ea52-dfab-4582-967e-c56acea6bc14",
   "metadata": {},
   "outputs": [
    {
     "name": "stdout",
     "output_type": "stream",
     "text": [
      "     Owner         Company             Sub Type  Stock     Shares Weighted Average Stock Inception Date             Category           Fund Family                                          Long Name\n",
      "16  Robert              M1           401k - IRA   VXUS  557.18558           15.00%           2010-11-29  Foreign Large Blend              Vanguard  Vanguard Total International Stock Index Fund ...\n",
      "5   Robert        Fidelity           Investment  FSPSX   95.91900           20.00%           2011-09-08  Foreign Large Blend              Fidelity                       Fidelity International Index\n",
      "1   Robert        Fidelity   Traditional - 401K  FSPSX  214.70600           10.00%           2011-09-08  Foreign Large Blend              Fidelity                       Fidelity International Index\n",
      "14  Robert              M1           401k - IRA    VTI  264.88301           35.00%           2001-05-24          Large Blend              Vanguard  Vanguard Total Stock Market Index Fund ETF Shares\n",
      "6   Robert        Fidelity           Investment  FXAIX  107.93600           10.00%           2011-05-04          Large Blend              Fidelity                                 Fidelity 500 Index\n",
      "20  Robert  Charles Schwab           Investment  VINIX    2.95300          100.00%           1997-07-07          Large Blend              Vanguard                     Vanguard Institutional Index I\n",
      "9   Robert              M1           Roth - IRA    VTI  146.41406           42.00%           2001-05-24          Large Blend              Vanguard  Vanguard Total Stock Market Index Fund ETF Shares\n",
      "3   Robert        Fidelity   Traditional - 401K  FXAIX  254.39100           50.00%           2011-05-04          Large Blend              Fidelity                                 Fidelity 500 Index\n",
      "19  Robert  Charles Schwab   Traditional - 401K  VIIIX    6.45200          100.00%           1997-07-07          Large Blend              Vanguard              Vanguard Institutional Index Instl Pl\n",
      "13  Robert              M1           Roth - IRA    QQQ   61.19672           30.00%           1999-03-10         Large Growth               Invesco                                  Invesco QQQ Trust\n",
      "10  Robert              M1           Roth - IRA    VUG   53.15954           21.00%           2000-11-13         Large Growth              Vanguard              Vanguard Growth Index Fund ETF Shares\n",
      "17  Robert              M1           401k - IRA     VO   82.11473           10.00%           2004-01-26        Mid-Cap Blend              Vanguard             Vanguard Mid-Cap Index Fund ETF Shares\n",
      "8   Robert        Fidelity           Investment  FSMDX  248.65300           50.00%           2011-09-08        Mid-Cap Blend              Fidelity                             Fidelity Mid Cap Index\n",
      "0   Robert        Fidelity   Traditional - 401K  FSMDX  605.51900           20.00%           2011-09-08        Mid-Cap Blend              Fidelity                             Fidelity Mid Cap Index\n",
      "21  Amanda        Fidelity   Traditional - 401K  FSMAX  239.12100          100.00%           2011-09-08        Mid-Cap Blend              Fidelity                     Fidelity Extended Market Index\n",
      "18  Robert              M1           401k - IRA     VB   90.49484           10.00%           2004-01-26          Small Blend              Vanguard           Vanguard Small-Cap Index Fund ETF Shares\n",
      "7   Robert        Fidelity           Investment  FSSNX  271.19500           15.00%           2011-09-08          Small Blend              Fidelity                           Fidelity Small Cap Index\n",
      "2   Robert        Fidelity   Traditional - 401K  FSSNX  754.33200           20.00%           2011-09-08          Small Blend              Fidelity                           Fidelity Small Cap Index\n",
      "4   Robert        Fidelity           Investment  FFOLX  105.11800            5.00%           2024-08-22    Target Date Blend              Fidelity             Fidelity Freedom Index 2045 Instl Prem\n",
      "15  Robert              M1           401k - IRA   FTEC  368.06664           30.00%           2013-10-21           Technology  Fidelity Investments     Fidelity MSCI Information Technology Index ETF\n",
      "11  Robert              M1           Roth - IRA   ARKW   52.46500            4.90%           2014-09-30           Technology         ARK ETF Trust   ARK ETF Trust - ARK Next Generation Internet ETF\n",
      "22  Amanda        Fidelity  Employee Stock Plan    UHS   22.35420          100.00%                 None                 None                  None                    Universal Health Services, Inc.\n",
      "12  Robert              M1           Roth - IRA  BRK-B    4.64660            2.10%                 None                 None                  None                            Berkshire Hathaway Inc.\n",
      "----------------------------\n",
      "     Owner         Company             Sub Type  Stock     Shares Weighted Average Stock Inception Date             Category           Fund Family                                          Long Name\n",
      "15  Robert              M1           401k - IRA   FTEC  368.06664           30.00%           2013-10-21           Technology  Fidelity Investments     Fidelity MSCI Information Technology Index ETF\n",
      "14  Robert              M1           401k - IRA    VTI  264.88301           35.00%           2001-05-24          Large Blend              Vanguard  Vanguard Total Stock Market Index Fund ETF Shares\n",
      "16  Robert              M1           401k - IRA   VXUS  557.18558           15.00%           2010-11-29  Foreign Large Blend              Vanguard  Vanguard Total International Stock Index Fund ...\n",
      "17  Robert              M1           401k - IRA     VO   82.11473           10.00%           2004-01-26        Mid-Cap Blend              Vanguard             Vanguard Mid-Cap Index Fund ETF Shares\n",
      "18  Robert              M1           401k - IRA     VB   90.49484           10.00%           2004-01-26          Small Blend              Vanguard           Vanguard Small-Cap Index Fund ETF Shares\n",
      "22  Amanda        Fidelity  Employee Stock Plan    UHS   22.35420          100.00%                 None                 None                  None                    Universal Health Services, Inc.\n",
      "4   Robert        Fidelity           Investment  FFOLX  105.11800            5.00%           2024-08-22    Target Date Blend              Fidelity             Fidelity Freedom Index 2045 Instl Prem\n",
      "5   Robert        Fidelity           Investment  FSPSX   95.91900           20.00%           2011-09-08  Foreign Large Blend              Fidelity                       Fidelity International Index\n",
      "6   Robert        Fidelity           Investment  FXAIX  107.93600           10.00%           2011-05-04          Large Blend              Fidelity                                 Fidelity 500 Index\n",
      "7   Robert        Fidelity           Investment  FSSNX  271.19500           15.00%           2011-09-08          Small Blend              Fidelity                           Fidelity Small Cap Index\n",
      "8   Robert        Fidelity           Investment  FSMDX  248.65300           50.00%           2011-09-08        Mid-Cap Blend              Fidelity                             Fidelity Mid Cap Index\n",
      "20  Robert  Charles Schwab           Investment  VINIX    2.95300          100.00%           1997-07-07          Large Blend              Vanguard                     Vanguard Institutional Index I\n",
      "11  Robert              M1           Roth - IRA   ARKW   52.46500            4.90%           2014-09-30           Technology         ARK ETF Trust   ARK ETF Trust - ARK Next Generation Internet ETF\n",
      "13  Robert              M1           Roth - IRA    QQQ   61.19672           30.00%           1999-03-10         Large Growth               Invesco                                  Invesco QQQ Trust\n",
      "9   Robert              M1           Roth - IRA    VTI  146.41406           42.00%           2001-05-24          Large Blend              Vanguard  Vanguard Total Stock Market Index Fund ETF Shares\n",
      "10  Robert              M1           Roth - IRA    VUG   53.15954           21.00%           2000-11-13         Large Growth              Vanguard              Vanguard Growth Index Fund ETF Shares\n",
      "12  Robert              M1           Roth - IRA  BRK-B    4.64660            2.10%                 None                 None                  None                            Berkshire Hathaway Inc.\n",
      "21  Amanda        Fidelity   Traditional - 401K  FSMAX  239.12100          100.00%           2011-09-08        Mid-Cap Blend              Fidelity                     Fidelity Extended Market Index\n",
      "0   Robert        Fidelity   Traditional - 401K  FSMDX  605.51900           20.00%           2011-09-08        Mid-Cap Blend              Fidelity                             Fidelity Mid Cap Index\n",
      "1   Robert        Fidelity   Traditional - 401K  FSPSX  214.70600           10.00%           2011-09-08  Foreign Large Blend              Fidelity                       Fidelity International Index\n",
      "2   Robert        Fidelity   Traditional - 401K  FSSNX  754.33200           20.00%           2011-09-08          Small Blend              Fidelity                           Fidelity Small Cap Index\n",
      "3   Robert        Fidelity   Traditional - 401K  FXAIX  254.39100           50.00%           2011-05-04          Large Blend              Fidelity                                 Fidelity 500 Index\n",
      "19  Robert  Charles Schwab   Traditional - 401K  VIIIX    6.45200          100.00%           1997-07-07          Large Blend              Vanguard              Vanguard Institutional Index Instl Pl\n"
     ]
    }
   ],
   "source": [
    "\n",
    "stocks_per_account = pd.merge(current_stocks_df, stock_info_df, on=['Stock'], how='left')\n",
    "\n",
    "stocks_per_account = stocks_per_account[['Owner','Company', 'Sub Type', 'Stock', 'Shares', 'Weighted Average', 'Inception Date', 'Category', 'Fund Family', 'Long Name']]\n",
    "\n",
    "\n",
    "# Custom function to format values as percentages\n",
    "def format_percentage(x):\n",
    "    return f\"{x:.2%}\"\n",
    "\n",
    "# Apply the custom function to the 'Value' column\n",
    "stocks_per_account['Weighted Average'] = stocks_per_account['Weighted Average'].apply(format_percentage)\n",
    "stocks_per_account = stocks_per_account.rename(columns={'Inception Date' :'Stock Inception Date'})\n",
    "print(stocks_per_account.sort_values(by=['Category', 'Sub Type', 'Fund Family']))\n",
    "print(\"----------------------------\")\n",
    "print(stocks_per_account.sort_values(by=['Sub Type','Owner', 'Fund Family']))"
   ]
  },
  {
   "cell_type": "code",
   "execution_count": null,
   "id": "5cd296bd-8842-4bf1-a19a-1745eb52f9c1",
   "metadata": {},
   "outputs": [],
   "source": []
  }
 ],
 "metadata": {
  "kernelspec": {
   "display_name": "Python 3 (ipykernel)",
   "language": "python",
   "name": "python3"
  },
  "language_info": {
   "codemirror_mode": {
    "name": "ipython",
    "version": 3
   },
   "file_extension": ".py",
   "mimetype": "text/x-python",
   "name": "python",
   "nbconvert_exporter": "python",
   "pygments_lexer": "ipython3",
   "version": "3.11.0"
  }
 },
 "nbformat": 4,
 "nbformat_minor": 5
}
