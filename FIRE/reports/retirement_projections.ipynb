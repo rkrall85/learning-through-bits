{
 "cells": [
  {
   "cell_type": "code",
   "execution_count": 1,
   "id": "ff13011b-3681-4aa6-a05d-33ec32858726",
   "metadata": {},
   "outputs": [
    {
     "name": "stderr",
     "output_type": "stream",
     "text": [
      "C:\\dev\\learning-through-bits\\.venv\\Lib\\site-packages\\openpyxl\\worksheet\\_reader.py:329: UserWarning: Unknown extension is not supported and will be removed\n",
      "  warn(msg)\n",
      "C:\\dev\\learning-through-bits\\.venv\\Lib\\site-packages\\openpyxl\\worksheet\\_reader.py:329: UserWarning: Conditional Formatting extension is not supported and will be removed\n",
      "  warn(msg)\n"
     ]
    },
    {
     "name": "stdout",
     "output_type": "stream",
     "text": [
      "Looking up ARKW current price.\n",
      "Looking up BRK-B current price.\n",
      "Looking up FFOLX current price.\n",
      "Looking up FSMAX current price.\n",
      "Looking up FSMDX current price.\n",
      "Looking up FSPSX current price.\n",
      "Looking up FSSNX current price.\n",
      "Looking up FTEC current price.\n",
      "Looking up FXAIX current price.\n",
      "Looking up QQQ current price.\n",
      "Looking up UHS current price.\n",
      "Looking up VB current price.\n",
      "Looking up VIIIX current price.\n",
      "Looking up VINIX current price.\n",
      "Looking up VO current price.\n",
      "Looking up VTI current price.\n",
      "Looking up VUG current price.\n",
      "Looking up VXUS current price.\n"
     ]
    }
   ],
   "source": [
    "from ipywidgets import widgets, interact, fixed\n",
    "from IPython.display import display, clear_output\n",
    "import pandas as pd\n",
    "import numpy as np\n",
    "import locale\n",
    "import sys \n",
    "import os \n",
    "import matplotlib.pyplot as plt\n",
    "\n",
    "# Add the higher-level directory containing the module to the sys.path \n",
    "module_path = os.path.abspath(os.path.join('..', 'libs')) \n",
    "if module_path not in sys.path: \n",
    "    sys.path.append(module_path) # Import the class from the module from your_module import\n",
    "\n",
    "\n",
    "from ReportData import *\n",
    "from ReportGraphs import *\n",
    "from utility_methods import *\n",
    "\n",
    "# Set locale to US English for currency formatting\n",
    "locale.setlocale(locale.LC_ALL, 'en_US.UTF-8')\n",
    "\n",
    "pd.set_option('display.max_columns', None)  # Display all columns\n",
    "pd.set_option('display.width', 1000)        # Set the width to a large enough value\n",
    "\n",
    "# setup reports class\n",
    "StockClass = StockData(copy_file=False,use_copied_file=False)"
   ]
  },
  {
   "cell_type": "markdown",
   "id": "baee4ce0-e66e-47fb-b4d1-a0c67138d099",
   "metadata": {},
   "source": [
    "## Report Parameters"
   ]
  },
  {
   "cell_type": "code",
   "execution_count": 2,
   "id": "82402716-6344-423d-b19e-19785cc84258",
   "metadata": {},
   "outputs": [],
   "source": [
    "age_dropdown = widgets.Dropdown(\n",
    "    options=[45,50,55,60,65,67,70],\n",
    "    value=60,\n",
    "    description='Select Age:',\n",
    ")\n",
    "cagr_dropdown = widgets.Dropdown(\n",
    "    options=['cagr', 'cagr_average', None],\n",
    "    value='cagr_average',\n",
    "    description='Select CAGR Cacl:',\n",
    ")"
   ]
  },
  {
   "cell_type": "markdown",
   "id": "3966c129-887e-42f3-9607-881ae179c821",
   "metadata": {},
   "source": [
    "### Future Projections"
   ]
  },
  {
   "cell_type": "code",
   "execution_count": 3,
   "id": "b0aef062-da12-4762-b6f6-a4e17b2c3211",
   "metadata": {},
   "outputs": [
    {
     "data": {
      "application/vnd.jupyter.widget-view+json": {
       "model_id": "fc043afbb80a4346b6bb694467af83d0",
       "version_major": 2,
       "version_minor": 0
      },
      "text/plain": [
       "interactive(children=(Dropdown(description='Select Age:', index=3, options=(45, 50, 55, 60, 65, 67, 70), value…"
      ]
     },
     "metadata": {},
     "output_type": "display_data"
    }
   ],
   "source": [
    "def yearly_progress(selected_age,selected_cagr):\n",
    "    \n",
    "    data = {\n",
    "        'Company': ['M1', 'Vanguard', 'Charles Schwab', 'Fidelity', 'Charles Schwab'],\n",
    "        'Employer': ['Personal', 'Personal', 'Associated Bank', 'UHS', 'Associated Bank'],\n",
    "        'Owner': ['Robert', 'Amanda', 'Robert', 'Amanda', 'Robert'],\n",
    "        'Type': ['Retirement', 'Retirement', 'Retirement', 'Retirement', 'HSA'],\n",
    "        'Sub Type': ['Roth - IRA','Roth - IRA', 'Traditional - 401K', 'Traditional - 401K', 'HSA'],\n",
    "        'Contributions': [0, 0, 23500, 23500, 8500]\n",
    "    }\n",
    "    contributions_df = pd.DataFrame(data)\n",
    "    #print(contributions_df)\n",
    "    retirement_balance = StockClass.get_retirement_projections(contributions_df,selected_age, selected_cagr,False)\n",
    "    #print(retirement_balance)\n",
    "    retirement_projection_graph(retirement_balance)\n",
    "    \n",
    "\n",
    "  \n",
    "interactive_plots = widgets.interactive(yearly_progress, selected_age=age_dropdown, selected_cagr=cagr_dropdown)\n",
    "\n",
    "# Display the interactive plot only (this includes the dropdown)\n",
    "display(interactive_plots)\n",
    "\n"
   ]
  },
  {
   "cell_type": "code",
   "execution_count": null,
   "id": "817928bd-1822-474b-8925-9e2005815e38",
   "metadata": {},
   "outputs": [],
   "source": []
  }
 ],
 "metadata": {
  "kernelspec": {
   "display_name": "Python 3 (ipykernel)",
   "language": "python",
   "name": "python3"
  },
  "language_info": {
   "codemirror_mode": {
    "name": "ipython",
    "version": 3
   },
   "file_extension": ".py",
   "mimetype": "text/x-python",
   "name": "python",
   "nbconvert_exporter": "python",
   "pygments_lexer": "ipython3",
   "version": "3.11.0"
  }
 },
 "nbformat": 4,
 "nbformat_minor": 5
}
