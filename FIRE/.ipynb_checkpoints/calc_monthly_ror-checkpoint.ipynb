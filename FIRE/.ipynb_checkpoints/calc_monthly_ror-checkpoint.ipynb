{
 "cells": [
  {
   "cell_type": "markdown",
   "metadata": {},
   "source": [
    "# Import Data"
   ]
  },
  {
   "cell_type": "code",
   "execution_count": 90,
   "metadata": {},
   "outputs": [
    {
     "name": "stdout",
     "output_type": "stream",
     "text": [
      "[['2014-04-01', 'Farm Credit 401k', '164.61', '0', '1', '164.52'], ['2014-05-01', 'Farm Credit 401k', '2089.99', '300', '164.52', '19904.11'], ['2014-06-01', 'Farm Credit 401k', '400', '500', '19904.11', '21322.68'], ['2014-07-01', 'Farm Credit 401k', '400', '500', '21322.68', '21922.48'], ['2014-08-01', 'Farm Credit 401k', '400', '500', '21922.48', '23591.3'], ['2014-09-01', 'Farm Credit 401k', '400', '600', '23591.3', '23835.09'], ['2014-10-01', 'Farm Credit 401k', '400', '600', '23835.09', '25121.05'], ['2014-11-01', 'Farm Credit 401k', '400', '500', '25121.05', '26677.28'], ['2014-12-01', 'Farm Credit 401k', '400', '600', '26677.28', '27308.31'], ['2015-01-01', 'Farm Credit 401k', '400', '600', '27308.31', '27791.49'], ['2015-02-01', 'Farm Credit 401k', '400', '600', '27791.49', '30397.7'], ['2015-03-01', 'Farm Credit 401k', '725.36', '1088.04', '30397.7', '32111.62'], ['2015-04-01', 'Farm Credit 401k', '410', '615', '32111.62', '33528.55'], ['2015-05-01', 'Farm Credit 401k', '410', '615', '33528.55', '34794.18'], ['2015-06-01', 'Farm Credit 401k', '410', '615', '34794.18', '35077.34'], ['2015-07-01', 'Farm Credit 401k', '410', '615', '35077.34', '36214.37'], ['2015-08-01', 'Farm Credit 401k', '410', '615', '36214.37', '34997.13'], ['2015-09-01', 'Farm Credit 401k', '410', '615', '34997.13', '34912.64'], ['2015-10-01', 'Farm Credit 401k', '410', '615', '34912.64', '38411.03'], ['2015-11-01', 'Farm Credit 401k', '410', '615', '38411.03', '39470.98'], ['2015-12-01', 'Farm Credit 401k', '410', '615', '39470.98', '39426.23'], ['2016-01-01', 'Farm Credit 401k', '410', '615', '39426.23', '38147.27'], ['2016-02-01', 'Farm Credit 401k', '410', '615', '38147.27', '39003.51'], ['2016-03-01', 'Farm Credit 401k', '824.79', '1236.19', '39003.51', '44051.31'], ['2016-04-01', 'Farm Credit 401k', '423.32', '634.98', '44051.31', '45638.11'], ['2016-05-01', 'Farm Credit 401k', '423.32', '634.98', '45638.11', '47142.34'], ['2016-06-01', 'Farm Credit 401k', '423.32', '634.98', '47142.34', '48031.31'], ['2016-07-01', 'Farm Credit 401k', '423.32', '634.98', '48031.31', '51209'], ['2016-08-01', 'Farm Credit 401k', '423.32', '634.98', '51209', '52500.19'], ['2016-09-01', 'Farm Credit 401k', '423.32', '634.98', '52500.19', '53891.5'], ['2016-10-01', 'Farm Credit 401k', '423.32', '634.98', '53891.5', '53537.58'], ['2016-11-01', 'Farm Credit 401k', '9091.4', '634.98', '53537.58', '64858.22'], ['2016-12-01', 'Farm Credit 401k', '423.32', '634.98', '64858.22', '67188.95'], ['2017-01-01', 'Farm Credit 401k', '423.32', '634.98', '67188.95', '69998.07'], ['2017-02-01', 'Farm Credit 401k', '423.32', '634.98', '69998.07', '72981.17'], ['2017-03-01', 'Farm Credit 401k', '881.88', '1332.82', '72981.17', '75946.16'], ['2017-04-01', 'Farm Credit 401k', '436.88', '655.32', '75946.16', '78168.84'], ['2017-05-01', 'Farm Credit 401k', '436.88', '655.32', '78168.84', '80581.38'], ['2017-06-01', 'Farm Credit 401k', '436.88', '655.32', '80581.38', '82621.68'], ['2017-07-01', 'Farm Credit 401k', '436.88', '655.32', '82621.68', '85318.53'], ['2017-08-01', 'Farm Credit 401k', '436.88', '655.32', '85318.53', '86606.3'], ['2017-09-01', 'Farm Credit 401k', '436.88', '655.32', '86606.3', '90333.52'], ['2017-10-01', 'Farm Credit 401k', '436.88', '655.32', '90333.52', '93214.7'], ['2017-11-01', 'Farm Credit 401k', '436.88', '655.32', '93214.7', '96517.65'], ['2017-12-01', 'Farm Credit 401k', '436.88', '655.32', '96517.65', '98867.81'], ['2018-01-01', 'Farm Credit 401k', '436.88', '655.32', '98867.81', '104948.31'], ['2018-02-01', 'Farm Credit 401k', '436.88', '655.32', '104948.31', '101943.98'], ['2018-03-01', 'Farm Credit 401k', '919.7', '1379.54', '101943.98', '103296.22'], ['2018-04-01', 'Farm Credit 401k', '449.98', '674.96', '103296.22', '104721.61'], ['2018-05-01', 'Farm Credit 401k', '224.99', '337.48', '104721.61', '107928.97']]\n"
     ]
    }
   ],
   "source": [
    "\"\"\"\n",
    "Shows basic usage of the Sheets API. Prints values from a Google Spreadsheet.\n",
    "\"\"\"\n",
    "from __future__ import print_function\n",
    "from apiclient.discovery import build\n",
    "from httplib2 import Http\n",
    "from oauth2client import file, client, tools\n",
    "\n",
    "# Setup the Sheets API\n",
    "SCOPES = 'https://www.googleapis.com/auth/spreadsheets.readonly'\n",
    "store = file.Storage('credentials.json')\n",
    "creds = store.get()\n",
    "if not creds or creds.invalid:\n",
    "    flow = client.flow_from_clientsecrets('client_secret.json', SCOPES)\n",
    "    creds = tools.run_flow(flow, store)\n",
    "service = build('sheets', 'v4', http=creds.authorize(Http()))\n",
    "\n",
    "# Call the Sheets API\n",
    "SPREADSHEET_ID = '1QUCKVDlDFdJO_F4woYjcQ47cBJzVQf4gjPnQeOTq9mc'\n",
    "RANGE_NAME = 'Sheet1!A2:F'\n",
    "result = service.spreadsheets().values().get(spreadsheetId=SPREADSHEET_ID,\n",
    "                                             range=RANGE_NAME).execute()\n",
    "values = result.get('values', [])\n",
    "#print(values)\n"
   ]
  },
  {
   "cell_type": "markdown",
   "metadata": {},
   "source": [
    "# Convert list to numpy array"
   ]
  },
  {
   "cell_type": "code",
   "execution_count": 92,
   "metadata": {},
   "outputs": [
    {
     "name": "stdout",
     "output_type": "stream",
     "text": [
      "object\n",
      "tran_dt                         datetime64[ns]\n",
      "investment_name                         object\n",
      "company_monthly_contribution            object\n",
      "self_monthly_contribution               object\n",
      "begin_balance                          float64\n",
      "ending_balance                         float64\n",
      "tran_year                                int64\n",
      "tran_month                               int64\n",
      "m_ror                                  float64\n",
      "dtype: object\n"
     ]
    }
   ],
   "source": [
    "import pandas as pd\n",
    "import numpy as np\n",
    "\n",
    "#print(len(values))\n",
    "#df = pd.DataFrame(np.array(values).reshape(, columns = list(\"abcdefghi\"))\n",
    "\n",
    "val_arry = np.array(values)\n",
    "#pint(val_arry)\n",
    "investment_df = pd.DataFrame(val_arry.reshape(len(values),6), columns = [\n",
    "                                                                        \"tran_dt\", \n",
    "                                                                        \"investment_name\",\n",
    "                                                                        \"company_monthly_contribution\",\n",
    "                                                                        \"self_monthly_contribution\",\n",
    "                                                                        \"begin_balance\",\n",
    "                                                                        \"ending_balance\"\n",
    "                                                                        ]\n",
    "                   )\n",
    "\n",
    "#casting column types\n",
    "investment_df['tran_dt'] = investment_df['tran_dt'].astype('datetime64[ns]')\n",
    "investment_df['begin_balance'] = investment_df['begin_balance'].astype('float')\n",
    "investment_df['ending_balance'] = investment_df['ending_balance'].astype('float')\n",
    "\n",
    "#setting up helper columns\n",
    "investment_df['tran_year']  = pd.DatetimeIndex(investment_df['tran_dt']).year\n",
    "investment_df['tran_month'] = pd.DatetimeIndex(investment_df['tran_dt']).month\n",
    "investment_df['m_ror'] = (investment_df['ending_balance'] - investment_df['begin_balance'])/investment_df['ending_balance']*100\n",
    "\n",
    "#output the types\n",
    "print(investment_df.dtypes)\n"
   ]
  },
  {
   "cell_type": "code",
   "execution_count": null,
   "metadata": {},
   "outputs": [],
   "source": []
  }
 ],
 "metadata": {
  "kernelspec": {
   "display_name": "Python 3",
   "language": "python",
   "name": "python3"
  },
  "language_info": {
   "codemirror_mode": {
    "name": "ipython",
    "version": 3
   },
   "file_extension": ".py",
   "mimetype": "text/x-python",
   "name": "python",
   "nbconvert_exporter": "python",
   "pygments_lexer": "ipython3",
   "version": "3.6.1"
  }
 },
 "nbformat": 4,
 "nbformat_minor": 2
}
